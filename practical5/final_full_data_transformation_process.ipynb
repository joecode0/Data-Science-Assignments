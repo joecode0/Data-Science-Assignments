{
 "cells": [
  {
   "cell_type": "code",
   "execution_count": 1,
   "metadata": {},
   "outputs": [],
   "source": [
    "%run initial_data_transformation_process.ipynb"
   ]
  },
  {
   "cell_type": "code",
   "execution_count": 2,
   "metadata": {},
   "outputs": [],
   "source": [
    "extra_columns_to_drop = ['major industry code_Armed Forces',\n",
    "'major industry code_Forestry and fisheries',\n",
    "'worker class_Without pay',\n",
    "'employment status_Part-time/ Unemployed',\n",
    "'major industry code_Medical except hospital',\n",
    "'unemployment reason_Job loser - on layoff',\n",
    "'major industry code_Finance insurance and real estate',\n",
    "'marital status_Never married',\n",
    "'parents-self birth countries_Self US, Parents Other',\n",
    "'tax filer status_Joint - over 65',\n",
    "'year_94',\n",
    "'major industry code_Entertainment',\n",
    "'major industry code_Agriculture',\n",
    "'worker class_Federal government',\n",
    "'major industry code_Public administration',\n",
    "'major occupation code_Precision production craft & repair',\n",
    "'major industry code_N/A or children',\n",
    "'marital status_Married - not together',\n",
    "'major industry code_Personal services except private HH',\n",
    "'major industry code_Utilities and sanitary services',\n",
    "'veterans benefits_Yes',\n",
    "'major industry code_Wholesale trade',\n",
    "'veterans benefits_No',\n",
    "'major occupation code_Armed Forces',\n",
    "'unemployment reason_New entrant',\n",
    "'major industry code_Private household services',\n",
    "'worker class_Never worked',\n",
    "'major occupation code_Technicians and related support',\n",
    "'major occupation code_Farming forestry and fishing',\n",
    "'major industry code_Other professional services',\n",
    "'lived here 1y ago_No',\n",
    "'unemployment reason_Re-entrant',\n",
    "'enrolled/ in education_High school',\n",
    "'unemployment reason_Job leaver',\n",
    "'major industry code_Construction',\n",
    "'unemployment reason_Not In Universe',\n",
    "'tax filer status_Single',\n",
    "'enrolled/ in education_Not In Universe',\n",
    "'major industry code_Manufacturing-durable goods',\n",
    "'unemployment reason_Other job loser',\n",
    "'parents-self birth countries_Self Other',\n",
    "'worker class_Private',\n",
    "'household status_Other',\n",
    "'parents-self birth countries_All US',\n",
    "'major industry code_Manufacturing-nondurable goods',\n",
    "'major occupation code_Transportation and material moving',\n",
    "'major industry code_Transportation',\n",
    "'own business or self-employed_Yes',\n",
    "'major industry code_Business and repair services',\n",
    "'worker class_State government',\n",
    "'major industry code_Communications',\n",
    "'household status_Spouse of Householder',\n",
    "'labor union member_Yes',\n",
    "'tax filer status_Head of household',\n",
    "'major occupation code_Protective services',\n",
    "'worker class_Local government']\n",
    "\n",
    "def drop_further_columns(data):\n",
    "    data.drop(extra_columns_to_drop,inplace=True,axis=1)\n",
    "    return data"
   ]
  },
  {
   "cell_type": "code",
   "execution_count": 3,
   "metadata": {},
   "outputs": [],
   "source": [
    "full_data_train = drop_further_columns(census_train)\n",
    "full_data_test = drop_further_columns(census_test)\n"
   ]
  },
  {
   "cell_type": "code",
   "execution_count": 4,
   "metadata": {},
   "outputs": [
    {
     "name": "stdout",
     "output_type": "stream",
     "text": [
      "(23924, 50) (23924,) (7477, 50) (7477,) (5981, 50) (5981,)\n"
     ]
    }
   ],
   "source": [
    "X_train = full_data_train.drop('income',axis=1)\n",
    "y_train = full_data_train['income'].copy()\n",
    "X_test = full_data_test.drop('income',axis=1)\n",
    "y_test = full_data_test['income'].copy()\n",
    "\n",
    "split = StratifiedShuffleSplit(n_splits=1, test_size=0.2, random_state=42)\n",
    "\n",
    "for train_index, dev_index in split.split(X_train, y_train):\n",
    "    X_train, X_dev = X_train.iloc[train_index], X_train.iloc[dev_index]\n",
    "    y_train, y_dev = y_train.iloc[train_index], y_train.iloc[dev_index]"
   ]
  },
  {
   "cell_type": "code",
   "execution_count": null,
   "metadata": {},
   "outputs": [],
   "source": []
  }
 ],
 "metadata": {
  "kernelspec": {
   "display_name": "Python 3",
   "language": "python",
   "name": "python3"
  },
  "language_info": {
   "codemirror_mode": {
    "name": "ipython",
    "version": 3
   },
   "file_extension": ".py",
   "mimetype": "text/x-python",
   "name": "python",
   "nbconvert_exporter": "python",
   "pygments_lexer": "ipython3",
   "version": "3.6.7"
  }
 },
 "nbformat": 4,
 "nbformat_minor": 2
}
