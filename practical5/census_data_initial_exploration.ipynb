{
 "cells": [
  {
   "cell_type": "code",
   "execution_count": 2,
   "metadata": {},
   "outputs": [],
   "source": [
    "%matplotlib inline\n",
    "import pandas as pd\n",
    "import numpy as np\n",
    "import matplotlib.pyplot as plt\n",
    "import seaborn as sns\n"
   ]
  },
  {
   "cell_type": "code",
   "execution_count": 3,
   "metadata": {},
   "outputs": [
    {
     "data": {
      "text/html": [
       "<div>\n",
       "<style scoped>\n",
       "    .dataframe tbody tr th:only-of-type {\n",
       "        vertical-align: middle;\n",
       "    }\n",
       "\n",
       "    .dataframe tbody tr th {\n",
       "        vertical-align: top;\n",
       "    }\n",
       "\n",
       "    .dataframe thead th {\n",
       "        text-align: right;\n",
       "    }\n",
       "</style>\n",
       "<table border=\"1\" class=\"dataframe\">\n",
       "  <thead>\n",
       "    <tr style=\"text-align: right;\">\n",
       "      <th></th>\n",
       "      <th>age</th>\n",
       "      <th>class of worker</th>\n",
       "      <th>education</th>\n",
       "      <th>detailed household summary in household</th>\n",
       "    </tr>\n",
       "  </thead>\n",
       "  <tbody>\n",
       "    <tr>\n",
       "      <th>0</th>\n",
       "      <td>48</td>\n",
       "      <td>Private</td>\n",
       "      <td>Some college but no degree</td>\n",
       "      <td>Spouse of householder</td>\n",
       "    </tr>\n",
       "    <tr>\n",
       "      <th>1</th>\n",
       "      <td>47</td>\n",
       "      <td>Local government</td>\n",
       "      <td>Some college but no degree</td>\n",
       "      <td>Spouse of householder</td>\n",
       "    </tr>\n",
       "    <tr>\n",
       "      <th>2</th>\n",
       "      <td>56</td>\n",
       "      <td>Private</td>\n",
       "      <td>Some college but no degree</td>\n",
       "      <td>Spouse of householder</td>\n",
       "    </tr>\n",
       "    <tr>\n",
       "      <th>3</th>\n",
       "      <td>66</td>\n",
       "      <td>Private</td>\n",
       "      <td>Some college but no degree</td>\n",
       "      <td>Householder</td>\n",
       "    </tr>\n",
       "    <tr>\n",
       "      <th>4</th>\n",
       "      <td>42</td>\n",
       "      <td>Self-employed-incorporated</td>\n",
       "      <td>Some college but no degree</td>\n",
       "      <td>Householder</td>\n",
       "    </tr>\n",
       "  </tbody>\n",
       "</table>\n",
       "</div>"
      ],
      "text/plain": [
       "   age             class of worker                   education  \\\n",
       "0   48                     Private  Some college but no degree   \n",
       "1   47            Local government  Some college but no degree   \n",
       "2   56                     Private  Some college but no degree   \n",
       "3   66                     Private  Some college but no degree   \n",
       "4   42  Self-employed-incorporated  Some college but no degree   \n",
       "\n",
       "  detailed household summary in household  \n",
       "0                   Spouse of householder  \n",
       "1                   Spouse of householder  \n",
       "2                   Spouse of householder  \n",
       "3                             Householder  \n",
       "4                             Householder  "
      ]
     },
     "execution_count": 3,
     "metadata": {},
     "output_type": "execute_result"
    }
   ],
   "source": [
    "census = pd.read_csv('data/census-income.csv')\n",
    "census[['age','class of worker','education','detailed household summary in household']].head()"
   ]
  },
  {
   "cell_type": "code",
   "execution_count": 4,
   "metadata": {},
   "outputs": [
    {
     "name": "stdout",
     "output_type": "stream",
     "text": [
      "<class 'pandas.core.frame.DataFrame'>\n",
      "RangeIndex: 37382 entries, 0 to 37381\n",
      "Data columns (total 42 columns):\n",
      "age                                          37382 non-null int64\n",
      "class of worker                              28594 non-null object\n",
      "industry code                                37382 non-null int64\n",
      "occupation code                              37382 non-null int64\n",
      "education                                    37382 non-null object\n",
      "wage per hour                                37382 non-null int64\n",
      "enroll in edu inst last wk                   2097 non-null object\n",
      "marital status                               37382 non-null object\n",
      "major industry code                          37382 non-null object\n",
      "major occupation code                        28563 non-null object\n",
      "race                                         37382 non-null object\n",
      "hispanic origin                              37262 non-null object\n",
      "sex                                          37382 non-null object\n",
      "member of a labor union                      13499 non-null object\n",
      "reason for unemployment                      630 non-null object\n",
      "full or part time employment stat            37382 non-null object\n",
      "capital gains                                37382 non-null int64\n",
      "capital losses                               37382 non-null int64\n",
      "dividends from stocks                        37382 non-null int64\n",
      "tax filer status                             37382 non-null object\n",
      "region of previous residence                 2672 non-null object\n",
      "state of previous residence                  2672 non-null object\n",
      "detailed household and family stat           37382 non-null object\n",
      "detailed household summary in household      37382 non-null object\n",
      "instance weight                              37382 non-null float64\n",
      "migration code-change in msa                 37254 non-null object\n",
      "migration code-change in reg                 37254 non-null object\n",
      "migration code-move within reg               37254 non-null object\n",
      "live in this house 1 year ago                37382 non-null object\n",
      "migration prev res in sunbelt                21776 non-null object\n",
      "num persons worked for employer              37382 non-null int64\n",
      "family members under 18                      4784 non-null object\n",
      "country of birth father                      37382 non-null object\n",
      "country of birth mother                      37382 non-null object\n",
      "country of birth self                        37382 non-null object\n",
      "citizenship                                  37382 non-null object\n",
      "own business or self employed                37382 non-null int64\n",
      "fill inc questionnaire for veterans admin    444 non-null object\n",
      "veterans benefits                            37382 non-null int64\n",
      "weeks worked in year                         37382 non-null int64\n",
      "year                                         37382 non-null int64\n",
      "income                                       37382 non-null int64\n",
      "dtypes: float64(1), int64(13), object(28)\n",
      "memory usage: 12.0+ MB\n"
     ]
    }
   ],
   "source": [
    "census.info()"
   ]
  },
  {
   "cell_type": "code",
   "execution_count": 5,
   "metadata": {
    "scrolled": false
   },
   "outputs": [
    {
     "data": {
      "text/html": [
       "<div>\n",
       "<style scoped>\n",
       "    .dataframe tbody tr th:only-of-type {\n",
       "        vertical-align: middle;\n",
       "    }\n",
       "\n",
       "    .dataframe tbody tr th {\n",
       "        vertical-align: top;\n",
       "    }\n",
       "\n",
       "    .dataframe thead th {\n",
       "        text-align: right;\n",
       "    }\n",
       "</style>\n",
       "<table border=\"1\" class=\"dataframe\">\n",
       "  <thead>\n",
       "    <tr style=\"text-align: right;\">\n",
       "      <th></th>\n",
       "      <th>age</th>\n",
       "      <th>industry code</th>\n",
       "      <th>occupation code</th>\n",
       "      <th>wage per hour</th>\n",
       "      <th>capital gains</th>\n",
       "      <th>capital losses</th>\n",
       "      <th>dividends from stocks</th>\n",
       "      <th>instance weight</th>\n",
       "      <th>num persons worked for employer</th>\n",
       "      <th>own business or self employed</th>\n",
       "      <th>veterans benefits</th>\n",
       "      <th>weeks worked in year</th>\n",
       "      <th>year</th>\n",
       "      <th>income</th>\n",
       "    </tr>\n",
       "  </thead>\n",
       "  <tbody>\n",
       "    <tr>\n",
       "      <th>count</th>\n",
       "      <td>37382.000000</td>\n",
       "      <td>37382.000000</td>\n",
       "      <td>37382.000000</td>\n",
       "      <td>37382.000000</td>\n",
       "      <td>37382.000000</td>\n",
       "      <td>37382.000000</td>\n",
       "      <td>37382.000000</td>\n",
       "      <td>37382.000000</td>\n",
       "      <td>37382.000000</td>\n",
       "      <td>37382.000000</td>\n",
       "      <td>37382.000000</td>\n",
       "      <td>37382.000000</td>\n",
       "      <td>37382.000000</td>\n",
       "      <td>37382.000000</td>\n",
       "    </tr>\n",
       "    <tr>\n",
       "      <th>mean</th>\n",
       "      <td>38.627013</td>\n",
       "      <td>23.804960</td>\n",
       "      <td>15.666577</td>\n",
       "      <td>295.836044</td>\n",
       "      <td>1707.598657</td>\n",
       "      <td>85.043818</td>\n",
       "      <td>571.174522</td>\n",
       "      <td>1771.416554</td>\n",
       "      <td>3.131908</td>\n",
       "      <td>0.253999</td>\n",
       "      <td>1.788187</td>\n",
       "      <td>36.592799</td>\n",
       "      <td>94.511048</td>\n",
       "      <td>0.331229</td>\n",
       "    </tr>\n",
       "    <tr>\n",
       "      <th>std</th>\n",
       "      <td>18.088865</td>\n",
       "      <td>17.458597</td>\n",
       "      <td>14.379932</td>\n",
       "      <td>576.387696</td>\n",
       "      <td>10038.318677</td>\n",
       "      <td>411.696338</td>\n",
       "      <td>4122.600219</td>\n",
       "      <td>988.137404</td>\n",
       "      <td>2.399309</td>\n",
       "      <td>0.646198</td>\n",
       "      <td>0.605718</td>\n",
       "      <td>22.014192</td>\n",
       "      <td>0.499885</td>\n",
       "      <td>0.470662</td>\n",
       "    </tr>\n",
       "    <tr>\n",
       "      <th>min</th>\n",
       "      <td>0.000000</td>\n",
       "      <td>0.000000</td>\n",
       "      <td>0.000000</td>\n",
       "      <td>0.000000</td>\n",
       "      <td>0.000000</td>\n",
       "      <td>0.000000</td>\n",
       "      <td>0.000000</td>\n",
       "      <td>43.260000</td>\n",
       "      <td>0.000000</td>\n",
       "      <td>0.000000</td>\n",
       "      <td>0.000000</td>\n",
       "      <td>0.000000</td>\n",
       "      <td>94.000000</td>\n",
       "      <td>0.000000</td>\n",
       "    </tr>\n",
       "    <tr>\n",
       "      <th>25%</th>\n",
       "      <td>27.000000</td>\n",
       "      <td>2.000000</td>\n",
       "      <td>2.000000</td>\n",
       "      <td>0.000000</td>\n",
       "      <td>0.000000</td>\n",
       "      <td>0.000000</td>\n",
       "      <td>0.000000</td>\n",
       "      <td>1088.040000</td>\n",
       "      <td>1.000000</td>\n",
       "      <td>0.000000</td>\n",
       "      <td>2.000000</td>\n",
       "      <td>12.000000</td>\n",
       "      <td>94.000000</td>\n",
       "      <td>0.000000</td>\n",
       "    </tr>\n",
       "    <tr>\n",
       "      <th>50%</th>\n",
       "      <td>39.000000</td>\n",
       "      <td>32.000000</td>\n",
       "      <td>12.000000</td>\n",
       "      <td>0.000000</td>\n",
       "      <td>0.000000</td>\n",
       "      <td>0.000000</td>\n",
       "      <td>0.000000</td>\n",
       "      <td>1660.155000</td>\n",
       "      <td>3.000000</td>\n",
       "      <td>0.000000</td>\n",
       "      <td>2.000000</td>\n",
       "      <td>52.000000</td>\n",
       "      <td>95.000000</td>\n",
       "      <td>0.000000</td>\n",
       "    </tr>\n",
       "    <tr>\n",
       "      <th>75%</th>\n",
       "      <td>50.000000</td>\n",
       "      <td>39.000000</td>\n",
       "      <td>29.000000</td>\n",
       "      <td>500.000000</td>\n",
       "      <td>0.000000</td>\n",
       "      <td>0.000000</td>\n",
       "      <td>0.000000</td>\n",
       "      <td>2232.305000</td>\n",
       "      <td>6.000000</td>\n",
       "      <td>0.000000</td>\n",
       "      <td>2.000000</td>\n",
       "      <td>52.000000</td>\n",
       "      <td>95.000000</td>\n",
       "      <td>1.000000</td>\n",
       "    </tr>\n",
       "    <tr>\n",
       "      <th>max</th>\n",
       "      <td>90.000000</td>\n",
       "      <td>51.000000</td>\n",
       "      <td>46.000000</td>\n",
       "      <td>9999.000000</td>\n",
       "      <td>99999.000000</td>\n",
       "      <td>4608.000000</td>\n",
       "      <td>99999.000000</td>\n",
       "      <td>16349.200000</td>\n",
       "      <td>6.000000</td>\n",
       "      <td>2.000000</td>\n",
       "      <td>2.000000</td>\n",
       "      <td>52.000000</td>\n",
       "      <td>95.000000</td>\n",
       "      <td>1.000000</td>\n",
       "    </tr>\n",
       "  </tbody>\n",
       "</table>\n",
       "</div>"
      ],
      "text/plain": [
       "                age  industry code  occupation code  wage per hour  \\\n",
       "count  37382.000000   37382.000000     37382.000000   37382.000000   \n",
       "mean      38.627013      23.804960        15.666577     295.836044   \n",
       "std       18.088865      17.458597        14.379932     576.387696   \n",
       "min        0.000000       0.000000         0.000000       0.000000   \n",
       "25%       27.000000       2.000000         2.000000       0.000000   \n",
       "50%       39.000000      32.000000        12.000000       0.000000   \n",
       "75%       50.000000      39.000000        29.000000     500.000000   \n",
       "max       90.000000      51.000000        46.000000    9999.000000   \n",
       "\n",
       "       capital gains  capital losses  dividends from stocks  instance weight  \\\n",
       "count   37382.000000    37382.000000           37382.000000     37382.000000   \n",
       "mean     1707.598657       85.043818             571.174522      1771.416554   \n",
       "std     10038.318677      411.696338            4122.600219       988.137404   \n",
       "min         0.000000        0.000000               0.000000        43.260000   \n",
       "25%         0.000000        0.000000               0.000000      1088.040000   \n",
       "50%         0.000000        0.000000               0.000000      1660.155000   \n",
       "75%         0.000000        0.000000               0.000000      2232.305000   \n",
       "max     99999.000000     4608.000000           99999.000000     16349.200000   \n",
       "\n",
       "       num persons worked for employer  own business or self employed  \\\n",
       "count                     37382.000000                   37382.000000   \n",
       "mean                          3.131908                       0.253999   \n",
       "std                           2.399309                       0.646198   \n",
       "min                           0.000000                       0.000000   \n",
       "25%                           1.000000                       0.000000   \n",
       "50%                           3.000000                       0.000000   \n",
       "75%                           6.000000                       0.000000   \n",
       "max                           6.000000                       2.000000   \n",
       "\n",
       "       veterans benefits  weeks worked in year          year        income  \n",
       "count       37382.000000          37382.000000  37382.000000  37382.000000  \n",
       "mean            1.788187             36.592799     94.511048      0.331229  \n",
       "std             0.605718             22.014192      0.499885      0.470662  \n",
       "min             0.000000              0.000000     94.000000      0.000000  \n",
       "25%             2.000000             12.000000     94.000000      0.000000  \n",
       "50%             2.000000             52.000000     95.000000      0.000000  \n",
       "75%             2.000000             52.000000     95.000000      1.000000  \n",
       "max             2.000000             52.000000     95.000000      1.000000  "
      ]
     },
     "execution_count": 5,
     "metadata": {},
     "output_type": "execute_result"
    }
   ],
   "source": [
    "census.describe()"
   ]
  },
  {
   "cell_type": "code",
   "execution_count": 6,
   "metadata": {},
   "outputs": [
    {
     "data": {
      "text/plain": [
       "income                             1.000000\n",
       "weeks worked in year               0.366902\n",
       "age                                0.297212\n",
       "num persons worked for employer    0.255720\n",
       "veterans benefits                  0.224425\n",
       "capital gains                      0.218972\n",
       "industry code                      0.214756\n",
       "capital losses                     0.184783\n",
       "dividends from stocks              0.167684\n",
       "year                               0.024469\n",
       "instance weight                    0.017691\n",
       "own business or self employed      0.009322\n",
       "occupation code                   -0.176494\n",
       "wage per hour                     -0.261534\n",
       "Name: income, dtype: float64"
      ]
     },
     "execution_count": 6,
     "metadata": {},
     "output_type": "execute_result"
    }
   ],
   "source": [
    "corr_matrix = census.corr(method = 'pearson')\n",
    "corr_matrix['income'].sort_values(ascending=False)"
   ]
  },
  {
   "cell_type": "code",
   "execution_count": 7,
   "metadata": {},
   "outputs": [
    {
     "name": "stdout",
     "output_type": "stream",
     "text": [
      "   wage per hour  capital gains  weeks worked in year  income\n",
      "0           1200              0                    52       0\n",
      "1            876              0                    52       0\n",
      "2            500              0                    32       0\n",
      "3            400              0                    52       0\n",
      "4              0              0                    52       1\n"
     ]
    }
   ],
   "source": [
    "census_subset_cols = ['weeks worked in year','capital gains','wage per hour','income']\n",
    "census_subset = census.drop([x for x in list(census.columns.values) if x not in census_subset_cols],axis=1)\n",
    "print(census_subset.head())\n",
    "census_subset['income'] = [str(x) for x in census_subset['income']]\n",
    "#sns.pairplot(census_subset)"
   ]
  },
  {
   "cell_type": "code",
   "execution_count": 8,
   "metadata": {},
   "outputs": [
    {
     "name": "stdout",
     "output_type": "stream",
     "text": [
      "66.87710662885881% accuracy if we just always guess 'income == 1'\n"
     ]
    }
   ],
   "source": [
    "census_income_high = census.loc[census['income'] == 1]\n",
    "census_income_low = census.loc[census['income'] == 0]\n",
    "a = len(census_income_high)\n",
    "b = len(census_income_low)\n",
    "print(\"{}% accuracy if we just always guess 'income == 1'\".format(100*max(a,b)/(a+b)))"
   ]
  },
  {
   "cell_type": "code",
   "execution_count": 9,
   "metadata": {
    "scrolled": true
   },
   "outputs": [
    {
     "data": {
      "text/plain": [
       "<matplotlib.axes._subplots.AxesSubplot at 0x7fa49309a5f8>"
      ]
     },
     "execution_count": 9,
     "metadata": {},
     "output_type": "execute_result"
    },
    {
     "data": {
      "image/png": "[encoded data removed]",
      "text/plain": [
       "<Figure size 432x288 with 1 Axes>"
      ]
     },
     "metadata": {
      "needs_background": "light"
     },
     "output_type": "display_data"
    }
   ],
   "source": [
    "census['weeks worked in year'].hist(bins=20)"
   ]
  },
  {
   "cell_type": "code",
   "execution_count": 29,
   "metadata": {
    "scrolled": true
   },
   "outputs": [
    {
     "name": "stderr",
     "output_type": "stream",
     "text": [
      "/home/joe/anaconda3/envs/tensorflow/lib/python3.6/site-packages/scipy/stats/stats.py:1713: FutureWarning: Using a non-tuple sequence for multidimensional indexing is deprecated; use `arr[tuple(seq)]` instead of `arr[seq]`. In the future this will be interpreted as an array index, `arr[np.array(seq)]`, which will result either in an error or a different result.\n",
      "  return np.add.reduce(sorted[indexer] * weights, axis=axis) / sumval\n"
     ]
    },
    {
     "data": {
      "text/plain": [
       "<matplotlib.axes._subplots.AxesSubplot at 0x7f13f4824cc0>"
      ]
     },
     "execution_count": 29,
     "metadata": {},
     "output_type": "execute_result"
    },
    {
     "data": {
      "image/png": "[encoded data removed]",
      "text/plain": [
       "<Figure size 432x288 with 1 Axes>"
      ]
     },
     "metadata": {
      "needs_background": "light"
     },
     "output_type": "display_data"
    }
   ],
   "source": [
    "sns.distplot(census_income_low['weeks worked in year'],kde=False)"
   ]
  },
  {
   "cell_type": "code",
   "execution_count": 35,
   "metadata": {},
   "outputs": [
    {
     "data": {
      "text/plain": [
       "<matplotlib.axes._subplots.AxesSubplot at 0x7f13f6580860>"
      ]
     },
     "execution_count": 35,
     "metadata": {},
     "output_type": "execute_result"
    },
    {
     "data": {
      "image/png": "[encoded data removed]",
      "text/plain": [
       "<Figure size 432x288 with 1 Axes>"
      ]
     },
     "metadata": {
      "needs_background": "light"
     },
     "output_type": "display_data"
    }
   ],
   "source": [
    "census['weeks worked in year'].hist(bins=20)"
   ]
  },
  {
   "cell_type": "code",
   "execution_count": 16,
   "metadata": {},
   "outputs": [
    {
     "data": {
      "text/plain": [
       "<matplotlib.axes._subplots.AxesSubplot at 0x7f13f5161198>"
      ]
     },
     "execution_count": 16,
     "metadata": {},
     "output_type": "execute_result"
    },
    {
     "data": {
      "image/png": "[encoded data removed]",
      "text/plain": [
       "<Figure size 432x288 with 1 Axes>"
      ]
     },
     "metadata": {
      "needs_background": "light"
     },
     "output_type": "display_data"
    }
   ],
   "source": [
    "census['age'].hist(bins=20)"
   ]
  },
  {
   "cell_type": "code",
   "execution_count": 45,
   "metadata": {
    "scrolled": true
   },
   "outputs": [
    {
     "data": {
      "text/plain": [
       "Private                           21176\n",
       "Local government                   2104\n",
       "Self-employed-not incorporated     1659\n",
       "Self-employed-incorporated         1310\n",
       "State government                   1183\n",
       "Federal government                 1118\n",
       "Never worked                         31\n",
       "Without pay                          13\n",
       "Name: class of worker, dtype: int64"
      ]
     },
     "execution_count": 45,
     "metadata": {},
     "output_type": "execute_result"
    }
   ],
   "source": [
    "census['class of worker'].value_counts()"
   ]
  },
  {
   "cell_type": "code",
   "execution_count": 48,
   "metadata": {},
   "outputs": [
    {
     "data": {
      "text/plain": [
       "<matplotlib.axes._subplots.AxesSubplot at 0x7f2481f35ac8>"
      ]
     },
     "execution_count": 48,
     "metadata": {},
     "output_type": "execute_result"
    },
    {
     "data": {
      "image/png": "[encoded data removed]",
      "text/plain": [
       "<Figure size 432x288 with 1 Axes>"
      ]
     },
     "metadata": {
      "needs_background": "light"
     },
     "output_type": "display_data"
    }
   ],
   "source": [
    "census['industry code'].hist(bins=20)"
   ]
  },
  {
   "cell_type": "code",
   "execution_count": 50,
   "metadata": {},
   "outputs": [
    {
     "data": {
      "text/plain": [
       "<matplotlib.axes._subplots.AxesSubplot at 0x7f2481f359e8>"
      ]
     },
     "execution_count": 50,
     "metadata": {},
     "output_type": "execute_result"
    },
    {
     "data": {
      "image/png": "[encoded data removed]",
      "text/plain": [
       "<Figure size 432x288 with 1 Axes>"
      ]
     },
     "metadata": {
      "needs_background": "light"
     },
     "output_type": "display_data"
    }
   ],
   "source": [
    "census['occupation code'].hist(bins=20)"
   ]
  },
  {
   "cell_type": "code",
   "execution_count": 7,
   "metadata": {
    "scrolled": true
   },
   "outputs": [
    {
     "data": {
      "text/plain": [
       "High school graduate                      9589\n",
       "Some college but no degree                6264\n",
       "Bachelors degree(BA AB BS)                6068\n",
       "Children                                  3740\n",
       "Masters degree(MA MS MEng MEd MSW MBA)    2566\n",
       "Associates degree-occup /vocational       1284\n",
       "10th grade                                1120\n",
       "Associates degree-academic program        1081\n",
       "11th grade                                1076\n",
       "Prof school degree (MD DDS DVM LLB JD)    1056\n",
       "7th and 8th grade                          998\n",
       "9th grade                                  821\n",
       "Doctorate degree(PhD EdD)                  717\n",
       "5th or 6th grade                           375\n",
       "12th grade no diploma                      321\n",
       "1st 2nd 3rd or 4th grade                   225\n",
       "Less than 1st grade                         81\n",
       "Name: education, dtype: int64"
      ]
     },
     "execution_count": 7,
     "metadata": {},
     "output_type": "execute_result"
    }
   ],
   "source": [
    "census['education'].value_counts()"
   ]
  },
  {
   "cell_type": "code",
   "execution_count": 7,
   "metadata": {},
   "outputs": [
    {
     "data": {
      "text/plain": [
       "<matplotlib.axes._subplots.AxesSubplot at 0x7fbf6d306b00>"
      ]
     },
     "execution_count": 7,
     "metadata": {},
     "output_type": "execute_result"
    },
    {
     "data": {
      "image/png": "[encoded data removed]",
      "text/plain": [
       "<Figure size 432x288 with 1 Axes>"
      ]
     },
     "metadata": {
      "needs_background": "light"
     },
     "output_type": "display_data"
    }
   ],
   "source": [
    "pd.Series([x for x in census['wage per hour'].tolist() if x != 0]).hist(bins=20)"
   ]
  },
  {
   "cell_type": "code",
   "execution_count": 8,
   "metadata": {},
   "outputs": [
    {
     "data": {
      "text/plain": [
       "High school              1050\n",
       "College or university    1047\n",
       "Name: enroll in edu inst last wk, dtype: int64"
      ]
     },
     "execution_count": 8,
     "metadata": {},
     "output_type": "execute_result"
    }
   ],
   "source": [
    "census['enroll in edu inst last wk'].value_counts()"
   ]
  },
  {
   "cell_type": "code",
   "execution_count": 10,
   "metadata": {},
   "outputs": [
    {
     "data": {
      "text/plain": [
       "Married-civilian spouse present    20839\n",
       "Never married                      11095\n",
       "Divorced                            2968\n",
       "Widowed                             1379\n",
       "Separated                            688\n",
       "Married-spouse absent                297\n",
       "Married-A F spouse present           116\n",
       "Name: marital status, dtype: int64"
      ]
     },
     "execution_count": 10,
     "metadata": {},
     "output_type": "execute_result"
    }
   ],
   "source": [
    "census['marital status'].value_counts()"
   ]
  },
  {
   "cell_type": "code",
   "execution_count": 11,
   "metadata": {},
   "outputs": [
    {
     "data": {
      "text/plain": [
       "N/A or children                        8819\n",
       "Retail trade                           4303\n",
       "Manufacturing-durable goods            3153\n",
       "Manufacturing-nondurable goods         2186\n",
       "Education                              2110\n",
       "Finance insurance and real estate      1952\n",
       "Public administration                  1590\n",
       "Other professional services            1566\n",
       "Business and repair services           1550\n",
       "Medical except hospital                1522\n",
       "Construction                           1499\n",
       "Hospital services                      1318\n",
       "Transportation                         1218\n",
       "Wholesale trade                        1075\n",
       "Personal services except private HH     619\n",
       "Agriculture                             543\n",
       "Social services                         539\n",
       "Communications                          446\n",
       "Entertainment                           444\n",
       "Utilities and sanitary services         443\n",
       "Mining                                  239\n",
       "Private household services              185\n",
       "Forestry and fisheries                   53\n",
       "Armed Forces                             10\n",
       "Name: major industry code, dtype: int64"
      ]
     },
     "execution_count": 11,
     "metadata": {},
     "output_type": "execute_result"
    }
   ],
   "source": [
    "census['major industry code'].value_counts()"
   ]
  },
  {
   "cell_type": "code",
   "execution_count": 12,
   "metadata": {},
   "outputs": [
    {
     "data": {
      "text/plain": [
       "Professional specialty                   5085\n",
       "Executive admin and managerial           4807\n",
       "Adm support including clerical           3547\n",
       "Sales                                    3416\n",
       "Precision production craft & repair      2915\n",
       "Other service                            2775\n",
       "Machine operators assmblrs & inspctrs    1769\n",
       "Transportation and material moving       1016\n",
       "Handlers equip cleaners etc              1016\n",
       "Technicians and related support           952\n",
       "Farming forestry and fishing              554\n",
       "Protective services                       542\n",
       "Private household services                159\n",
       "Armed Forces                               10\n",
       "Name: major occupation code, dtype: int64"
      ]
     },
     "execution_count": 12,
     "metadata": {},
     "output_type": "execute_result"
    }
   ],
   "source": [
    "census['major occupation code'].value_counts()"
   ]
  },
  {
   "cell_type": "code",
   "execution_count": 13,
   "metadata": {},
   "outputs": [
    {
     "data": {
      "text/plain": [
       "White                          32193\n",
       "Black                           3248\n",
       "Asian or Pacific Islander       1098\n",
       "Other                            487\n",
       "Amer Indian Aleut or Eskimo      356\n",
       "Name: race, dtype: int64"
      ]
     },
     "execution_count": 13,
     "metadata": {},
     "output_type": "execute_result"
    }
   ],
   "source": [
    "census['race'].value_counts()"
   ]
  },
  {
   "cell_type": "code",
   "execution_count": 14,
   "metadata": {},
   "outputs": [
    {
     "data": {
      "text/plain": [
       "All other                    33743\n",
       "Mexican-American              1074\n",
       "Mexican (Mexicano)             952\n",
       "Central or South American      509\n",
       "Puerto Rican                   389\n",
       "Other Spanish                  336\n",
       "Cuban                          179\n",
       "Do not know                     42\n",
       "Chicano                         38\n",
       "Name: hispanic origin, dtype: int64"
      ]
     },
     "execution_count": 14,
     "metadata": {},
     "output_type": "execute_result"
    }
   ],
   "source": [
    "census['hispanic origin'].value_counts()"
   ]
  },
  {
   "cell_type": "code",
   "execution_count": 15,
   "metadata": {},
   "outputs": [
    {
     "data": {
      "text/plain": [
       "Male      21152\n",
       "Female    16230\n",
       "Name: sex, dtype: int64"
      ]
     },
     "execution_count": 15,
     "metadata": {},
     "output_type": "execute_result"
    }
   ],
   "source": [
    "census['sex'].value_counts()"
   ]
  },
  {
   "cell_type": "code",
   "execution_count": 16,
   "metadata": {},
   "outputs": [
    {
     "data": {
      "text/plain": [
       "No     11250\n",
       "Yes     2249\n",
       "Name: member of a labor union, dtype: int64"
      ]
     },
     "execution_count": 16,
     "metadata": {},
     "output_type": "execute_result"
    }
   ],
   "source": [
    "census['member of a labor union'].value_counts()"
   ]
  },
  {
   "cell_type": "code",
   "execution_count": 17,
   "metadata": {},
   "outputs": [
    {
     "data": {
      "text/plain": [
       "Other job loser          253\n",
       "Re-entrant               170\n",
       "Job loser - on layoff     95\n",
       "Job leaver                81\n",
       "New entrant               31\n",
       "Name: reason for unemployment, dtype: int64"
      ]
     },
     "execution_count": 17,
     "metadata": {},
     "output_type": "execute_result"
    }
   ],
   "source": [
    "census['reason for unemployment'].value_counts()"
   ]
  },
  {
   "cell_type": "code",
   "execution_count": 18,
   "metadata": {
    "scrolled": false
   },
   "outputs": [
    {
     "data": {
      "text/plain": [
       "Children or Armed Forces              20234\n",
       "Full-time schedules                   12606\n",
       "Not in labor force                     2595\n",
       "PT for non-econ reasons usually FT     1032\n",
       "PT for econ reasons usually PT          355\n",
       "Unemployed full-time                    293\n",
       "PT for econ reasons usually FT          158\n",
       "Unemployed part- time                   109\n",
       "Name: full or part time employment stat, dtype: int64"
      ]
     },
     "execution_count": 18,
     "metadata": {},
     "output_type": "execute_result"
    }
   ],
   "source": [
    "census['full or part time employment stat'].value_counts()"
   ]
  },
  {
   "cell_type": "code",
   "execution_count": 52,
   "metadata": {
    "scrolled": false
   },
   "outputs": [
    {
     "data": {
      "text/plain": [
       "<matplotlib.axes._subplots.AxesSubplot at 0x7f2481cf2240>"
      ]
     },
     "execution_count": 52,
     "metadata": {},
     "output_type": "execute_result"
    },
    {
     "data": {
      "image/png": "[encoded data removed]",
      "text/plain": [
       "<Figure size 432x288 with 1 Axes>"
      ]
     },
     "metadata": {
      "needs_background": "light"
     },
     "output_type": "display_data"
    }
   ],
   "source": [
    "census['capital gains'].hist(bins=20)"
   ]
  },
  {
   "cell_type": "code",
   "execution_count": 79,
   "metadata": {},
   "outputs": [
    {
     "data": {
      "text/plain": [
       "(True, False)     24217\n",
       "(True, True)       9970\n",
       "(False, True)      2412\n",
       "(False, False)      783\n",
       "dtype: int64"
      ]
     },
     "execution_count": 79,
     "metadata": {},
     "output_type": "execute_result"
    }
   ],
   "source": [
    "gains_bool = []\n",
    "for gains in census['capital gains'].tolist():\n",
    "    gains_bool.append((gains == 0))\n",
    "pd.Series(gains_bool).value_counts()\n",
    "\n",
    "gains_vs_income = []\n",
    "incomes_bool = [bool(int(x)==1) for x in census['income'].tolist()]\n",
    "for i in range(len(gains_bool)):\n",
    "    gain = gains_bool[i]\n",
    "    income = incomes_bool[i]\n",
    "    gains_vs_income.append((gain,income))\n",
    "    \n",
    "pd.Series(gains_vs_income).value_counts()\n",
    "    "
   ]
  },
  {
   "cell_type": "code",
   "execution_count": 85,
   "metadata": {},
   "outputs": [
    {
     "data": {
      "text/plain": [
       "<matplotlib.collections.PathCollection at 0x7f247dd3e7f0>"
      ]
     },
     "execution_count": 85,
     "metadata": {},
     "output_type": "execute_result"
    },
    {
     "data": {
      "image/png": "[encoded data removed]",
      "text/plain": [
       "<Figure size 432x288 with 1 Axes>"
      ]
     },
     "metadata": {
      "needs_background": "light"
     },
     "output_type": "display_data"
    }
   ],
   "source": [
    "plt.scatter(x=census['capital losses'].tolist(),y=census['capital gains'].tolist())"
   ]
  },
  {
   "cell_type": "code",
   "execution_count": 53,
   "metadata": {
    "scrolled": true
   },
   "outputs": [
    {
     "data": {
      "text/plain": [
       "<matplotlib.axes._subplots.AxesSubplot at 0x7f2481c7a748>"
      ]
     },
     "execution_count": 53,
     "metadata": {},
     "output_type": "execute_result"
    },
    {
     "data": {
      "image/png": "[encoded data removed]",
      "text/plain": [
       "<Figure size 432x288 with 1 Axes>"
      ]
     },
     "metadata": {
      "needs_background": "light"
     },
     "output_type": "display_data"
    }
   ],
   "source": [
    "census['capital losses'].hist(bins=20)"
   ]
  },
  {
   "cell_type": "code",
   "execution_count": 67,
   "metadata": {},
   "outputs": [
    {
     "data": {
      "text/plain": [
       "True     29851\n",
       "False     7531\n",
       "dtype: int64"
      ]
     },
     "execution_count": 67,
     "metadata": {},
     "output_type": "execute_result"
    }
   ],
   "source": [
    "dividends_bool = []\n",
    "for dividend in census['dividends from stocks'].tolist():\n",
    "    dividends_bool.append((dividend == 0))\n",
    "pd.Series(dividends_bool).value_counts()"
   ]
  },
  {
   "cell_type": "code",
   "execution_count": 19,
   "metadata": {},
   "outputs": [
    {
     "data": {
      "text/plain": [
       "Joint both under 65             18614\n",
       "Single                           8706\n",
       "Nonfiler                         6339\n",
       "Head of household                1825\n",
       "Joint both 65+                   1189\n",
       "Joint one under 65 & one 65+      709\n",
       "Name: tax filer status, dtype: int64"
      ]
     },
     "execution_count": 19,
     "metadata": {},
     "output_type": "execute_result"
    }
   ],
   "source": [
    "census['tax filer status'].value_counts()"
   ]
  },
  {
   "cell_type": "code",
   "execution_count": 20,
   "metadata": {},
   "outputs": [
    {
     "data": {
      "text/plain": [
       "South        806\n",
       "West         657\n",
       "Midwest      633\n",
       "Northeast    503\n",
       "Abroad        73\n",
       "Name: region of previous residence, dtype: int64"
      ]
     },
     "execution_count": 20,
     "metadata": {},
     "output_type": "execute_result"
    }
   ],
   "source": [
    "census['region of previous residence'].value_counts()"
   ]
  },
  {
   "cell_type": "code",
   "execution_count": 21,
   "metadata": {
    "scrolled": true
   },
   "outputs": [
    {
     "data": {
      "text/plain": [
       "California              254\n",
       "Utah                    178\n",
       "North Carolina          141\n",
       "?                       134\n",
       "Florida                 133\n",
       "Oklahoma                119\n",
       "New Mexico               99\n",
       "Abroad                   97\n",
       "Minnesota                94\n",
       "North Dakota             91\n",
       "Indiana                  81\n",
       "Michigan                 74\n",
       "Alaska                   60\n",
       "Kentucky                 56\n",
       "Wyoming                  51\n",
       "New Hampshire            48\n",
       "Oregon                   45\n",
       "West Virginia            41\n",
       "Colorado                 40\n",
       "Montana                  40\n",
       "Pennsylvania             40\n",
       "Nevada                   39\n",
       "New York                 36\n",
       "Maine                    34\n",
       "Arkansas                 33\n",
       "Ohio                     32\n",
       "Illinois                 31\n",
       "Vermont                  31\n",
       "Iowa                     31\n",
       "Texas                    31\n",
       "Tennessee                31\n",
       "Arizona                  31\n",
       "Georgia                  30\n",
       "Mississippi              30\n",
       "Massachusetts            29\n",
       "Missouri                 29\n",
       "Kansas                   29\n",
       "Alabama                  29\n",
       "Virginia                 28\n",
       "Connecticut              25\n",
       "District of Columbia     23\n",
       "Louisiana                22\n",
       "New Jersey               20\n",
       "Maryland                 19\n",
       "South Dakota             18\n",
       "Nebraska                 16\n",
       "Wisconsin                15\n",
       "Delaware                 15\n",
       "South Carolina           14\n",
       "Idaho                     5\n",
       "Name: state of previous residence, dtype: int64"
      ]
     },
     "execution_count": 21,
     "metadata": {},
     "output_type": "execute_result"
    }
   ],
   "source": [
    "census['state of previous residence'].value_counts()"
   ]
  },
  {
   "cell_type": "markdown",
   "metadata": {},
   "source": [
    "# Detailed Household and Family Stat"
   ]
  },
  {
   "cell_type": "code",
   "execution_count": 22,
   "metadata": {},
   "outputs": [
    {
     "data": {
      "text/plain": [
       "Householder                                        14774\n",
       "Spouse of householder                               8204\n",
       "Nonfamily householder                               4728\n",
       "Child <18 never marr not in subfamily               4369\n",
       "Child 18+ never marr Not in a subfamily             2249\n",
       "Secondary individual                                1205\n",
       "Other Rel 18+ never marr not in subfamily            266\n",
       "Other Rel 18+ ever marr not in subfamily             234\n",
       "Child 18+ ever marr Not in a subfamily               195\n",
       "Grandchild <18 never marr child of subfamily RP      144\n",
       "Child 18+ ever marr RP of subfamily                  129\n",
       "Other Rel 18+ spouse of subfamily RP                 126\n",
       "Other Rel 18+ ever marr RP of subfamily              113\n",
       "RP of unrelated subfamily                            105\n",
       "Child 18+ never marr RP of subfamily                  98\n",
       "Grandchild <18 never marr not in subfamily            81\n",
       "Grandchild 18+ never marr not in subfamily            67\n",
       "Other Rel <18 never marr child of subfamily RP        65\n",
       "Child under 18 of RP of unrel subfamily               63\n",
       "Other Rel <18 never marr not in subfamily             59\n",
       "In group quarters                                     27\n",
       "Child 18+ spouse of subfamily RP                      23\n",
       "Other Rel 18+ never marr RP of subfamily              17\n",
       "Child <18 never marr RP of subfamily                  14\n",
       "Spouse of RP of unrelated subfamily                    9\n",
       "Grandchild 18+ ever marr not in subfamily              8\n",
       "Other Rel <18 ever marr RP of subfamily                2\n",
       "Child <18 ever marr not in subfamily                   2\n",
       "Grandchild 18+ spouse of subfamily RP                  2\n",
       "Child <18 ever marr RP of subfamily                    1\n",
       "Child <18 spouse of subfamily RP                       1\n",
       "Grandchild 18+ ever marr RP of subfamily               1\n",
       "Other Rel <18 spouse of subfamily RP                   1\n",
       "Name: detailed household and family stat, dtype: int64"
      ]
     },
     "execution_count": 22,
     "metadata": {},
     "output_type": "execute_result"
    }
   ],
   "source": [
    "census['detailed household and family stat'].value_counts()"
   ]
  },
  {
   "cell_type": "markdown",
   "metadata": {},
   "source": [
    "# Detailed Household Summary in Household"
   ]
  },
  {
   "cell_type": "code",
   "execution_count": 89,
   "metadata": {
    "scrolled": false
   },
   "outputs": [
    {
     "data": {
      "text/plain": [
       "Householder                             19506\n",
       "Spouse of householder                    8204\n",
       "Child under 18 never married             4384\n",
       "Child 18 or older                        2695\n",
       "Nonrelative of householder               1384\n",
       "Other relative of householder            1186\n",
       "Group Quarters- Secondary individual       19\n",
       "Child under 18 ever married                 4\n",
       "Name: detailed household summary in household, dtype: int64"
      ]
     },
     "execution_count": 89,
     "metadata": {},
     "output_type": "execute_result"
    }
   ],
   "source": [
    "census['detailed household summary in household'].value_counts()"
   ]
  },
  {
   "cell_type": "code",
   "execution_count": 90,
   "metadata": {
    "scrolled": true
   },
   "outputs": [
    {
     "data": {
      "text/html": [
       "<div>\n",
       "<style scoped>\n",
       "    .dataframe tbody tr th:only-of-type {\n",
       "        vertical-align: middle;\n",
       "    }\n",
       "\n",
       "    .dataframe tbody tr th {\n",
       "        vertical-align: top;\n",
       "    }\n",
       "\n",
       "    .dataframe thead th {\n",
       "        text-align: right;\n",
       "    }\n",
       "</style>\n",
       "<table border=\"1\" class=\"dataframe\">\n",
       "  <thead>\n",
       "    <tr style=\"text-align: right;\">\n",
       "      <th>income</th>\n",
       "      <th>0</th>\n",
       "      <th>1</th>\n",
       "    </tr>\n",
       "    <tr>\n",
       "      <th>detailed household summary in household</th>\n",
       "      <th></th>\n",
       "      <th></th>\n",
       "    </tr>\n",
       "  </thead>\n",
       "  <tbody>\n",
       "    <tr>\n",
       "      <th>Child 18 or older</th>\n",
       "      <td>2569</td>\n",
       "      <td>126</td>\n",
       "    </tr>\n",
       "    <tr>\n",
       "      <th>Child under 18 ever married</th>\n",
       "      <td>4</td>\n",
       "      <td>0</td>\n",
       "    </tr>\n",
       "    <tr>\n",
       "      <th>Child under 18 never married</th>\n",
       "      <td>4382</td>\n",
       "      <td>2</td>\n",
       "    </tr>\n",
       "    <tr>\n",
       "      <th>Group Quarters- Secondary individual</th>\n",
       "      <td>18</td>\n",
       "      <td>1</td>\n",
       "    </tr>\n",
       "    <tr>\n",
       "      <th>Householder</th>\n",
       "      <td>9855</td>\n",
       "      <td>9651</td>\n",
       "    </tr>\n",
       "    <tr>\n",
       "      <th>Nonrelative of householder</th>\n",
       "      <td>1150</td>\n",
       "      <td>234</td>\n",
       "    </tr>\n",
       "    <tr>\n",
       "      <th>Other relative of householder</th>\n",
       "      <td>1100</td>\n",
       "      <td>86</td>\n",
       "    </tr>\n",
       "    <tr>\n",
       "      <th>Spouse of householder</th>\n",
       "      <td>5922</td>\n",
       "      <td>2282</td>\n",
       "    </tr>\n",
       "  </tbody>\n",
       "</table>\n",
       "</div>"
      ],
      "text/plain": [
       "income                                      0     1\n",
       "detailed household summary in household            \n",
       "Child 18 or older                        2569   126\n",
       "Child under 18 ever married                 4     0\n",
       "Child under 18 never married             4382     2\n",
       "Group Quarters- Secondary individual       18     1\n",
       "Householder                              9855  9651\n",
       "Nonrelative of householder               1150   234\n",
       "Other relative of householder            1100    86\n",
       "Spouse of householder                    5922  2282"
      ]
     },
     "execution_count": 90,
     "metadata": {},
     "output_type": "execute_result"
    }
   ],
   "source": [
    "pd.crosstab(census['detailed household summary in household'],census['income'])"
   ]
  },
  {
   "cell_type": "code",
   "execution_count": null,
   "metadata": {},
   "outputs": [],
   "source": [
    "new_detailed_household_summary = []\n",
    "for item in census['detailed household summary in household'].tolist():\n",
    "    summary = str(item).lower()\n",
    "    if \"child\" == summary[0:5]:\n",
    "        new_detailed_household_summary.append(\"Child\")\n",
    "    elif summary == \"householder\":\n",
    "        new_detailed_household_summary.append(\"Householder\")\n",
    "    elif summary == \"spouse of householder\":\n",
    "        new_detailed_household_summary.append(\"Spouse of householder\")\n",
    "    else:\n",
    "        new_detailed_household_summary.append(\"Other\")\n",
    "pd.crosstab(new_detailed_household_summary,census['income'])"
   ]
  },
  {
   "cell_type": "code",
   "execution_count": 74,
   "metadata": {},
   "outputs": [
    {
     "data": {
      "text/plain": [
       "<matplotlib.axes._subplots.AxesSubplot at 0x7f247e395908>"
      ]
     },
     "execution_count": 74,
     "metadata": {},
     "output_type": "execute_result"
    },
    {
     "data": {
      "image/png": "[encoded data removed]",
      "text/plain": [
       "<Figure size 432x288 with 1 Axes>"
      ]
     },
     "metadata": {
      "needs_background": "light"
     },
     "output_type": "display_data"
    }
   ],
   "source": [
    "np.log(census['instance weight']).hist(bins=20)"
   ]
  },
  {
   "cell_type": "code",
   "execution_count": 27,
   "metadata": {},
   "outputs": [
    {
     "data": {
      "text/plain": [
       "?                   19104\n",
       "Nonmover            15478\n",
       "MSA to MSA           1886\n",
       "NonMSA to nonMSA      439\n",
       "MSA to nonMSA         114\n",
       "NonMSA to MSA          96\n",
       "Abroad to MSA          65\n",
       "Not identifiable       64\n",
       "Abroad to nonMSA        8\n",
       "Name: migration code-change in msa, dtype: int64"
      ]
     },
     "execution_count": 27,
     "metadata": {},
     "output_type": "execute_result"
    }
   ],
   "source": [
    "census['migration code-change in msa'].value_counts()"
   ]
  },
  {
   "cell_type": "code",
   "execution_count": 28,
   "metadata": {},
   "outputs": [
    {
     "data": {
      "text/plain": [
       "?                                 19104\n",
       "Nonmover                          15478\n",
       "Same county                        1657\n",
       "Different county same state         500\n",
       "Different region                    225\n",
       "Different state same division       151\n",
       "Abroad                               73\n",
       "Different division same region       66\n",
       "Name: migration code-change in reg, dtype: int64"
      ]
     },
     "execution_count": 28,
     "metadata": {},
     "output_type": "execute_result"
    }
   ],
   "source": [
    "census['migration code-change in reg'].value_counts()"
   ]
  },
  {
   "cell_type": "code",
   "execution_count": 29,
   "metadata": {},
   "outputs": [
    {
     "data": {
      "text/plain": [
       "?                               19104\n",
       "Nonmover                        15478\n",
       "Same county                      1657\n",
       "Different county same state       500\n",
       "Different state in South          171\n",
       "Different state in West            96\n",
       "Different state in Midwest         93\n",
       "Different state in Northeast       82\n",
       "Abroad                             73\n",
       "Name: migration code-move within reg, dtype: int64"
      ]
     },
     "execution_count": 29,
     "metadata": {},
     "output_type": "execute_result"
    }
   ],
   "source": [
    "census['migration code-move within reg'].value_counts()"
   ]
  },
  {
   "cell_type": "code",
   "execution_count": 30,
   "metadata": {},
   "outputs": [
    {
     "data": {
      "text/plain": [
       "Under 1 year    19232\n",
       "Yes             15478\n",
       "No               2672\n",
       "Name: live in this house 1 year ago, dtype: int64"
      ]
     },
     "execution_count": 30,
     "metadata": {},
     "output_type": "execute_result"
    }
   ],
   "source": [
    "census['live in this house 1 year ago'].value_counts()"
   ]
  },
  {
   "cell_type": "code",
   "execution_count": 31,
   "metadata": {},
   "outputs": [
    {
     "data": {
      "text/plain": [
       "?      19104\n",
       "No      1752\n",
       "Yes      920\n",
       "Name: migration prev res in sunbelt, dtype: int64"
      ]
     },
     "execution_count": 31,
     "metadata": {},
     "output_type": "execute_result"
    }
   ],
   "source": [
    "census['migration prev res in sunbelt'].value_counts()"
   ]
  },
  {
   "cell_type": "code",
   "execution_count": 32,
   "metadata": {},
   "outputs": [
    {
     "data": {
      "text/plain": [
       "Both parents present      3387\n",
       "Mother only present       1093\n",
       "Father only present        164\n",
       "Neither parent present     140\n",
       "Name: family members under 18, dtype: int64"
      ]
     },
     "execution_count": 32,
     "metadata": {},
     "output_type": "execute_result"
    }
   ],
   "source": [
    "census['family members under 18'].value_counts()"
   ]
  },
  {
   "cell_type": "code",
   "execution_count": 33,
   "metadata": {},
   "outputs": [
    {
     "data": {
      "text/plain": [
       "United-States                   30825\n",
       "Mexico                           1276\n",
       "?                                1245\n",
       "Italy                             360\n",
       "Puerto-Rico                       339\n",
       "Canada                            282\n",
       "Poland                            256\n",
       "Germany                           255\n",
       "Philippines                       244\n",
       "Cuba                              185\n",
       "China                             178\n",
       "England                           166\n",
       "Dominican-Republic                146\n",
       "India                             140\n",
       "Ireland                           132\n",
       "El-Salvador                       121\n",
       "Jamaica                            92\n",
       "Columbia                           80\n",
       "Greece                             76\n",
       "South Korea                        72\n",
       "Japan                              71\n",
       "Portugal                           65\n",
       "Haiti                              63\n",
       "Ecuador                            63\n",
       "Hungary                            60\n",
       "Vietnam                            60\n",
       "Iran                               58\n",
       "Scotland                           56\n",
       "Peru                               49\n",
       "Yugoslavia                         47\n",
       "Nicaragua                          46\n",
       "Guatemala                          42\n",
       "France                             36\n",
       "Taiwan                             32\n",
       "Cambodia                           26\n",
       "Honduras                           26\n",
       "Outlying-U S (Guam USVI etc)       24\n",
       "Thailand                           21\n",
       "Laos                               20\n",
       "Hong Kong                          19\n",
       "Trinadad&Tobago                    15\n",
       "Holand-Netherlands                 12\n",
       "Panama                              1\n",
       "Name: country of birth father, dtype: int64"
      ]
     },
     "execution_count": 33,
     "metadata": {},
     "output_type": "execute_result"
    }
   ],
   "source": [
    "census['country of birth father'].value_counts()"
   ]
  },
  {
   "cell_type": "code",
   "execution_count": 34,
   "metadata": {},
   "outputs": [
    {
     "data": {
      "text/plain": [
       "United-States                   31008\n",
       "Mexico                           1256\n",
       "?                                1108\n",
       "Puerto-Rico                       316\n",
       "Canada                            288\n",
       "Germany                           287\n",
       "Italy                             282\n",
       "Philippines                       255\n",
       "Poland                            232\n",
       "England                           221\n",
       "Cuba                              179\n",
       "Ireland                           156\n",
       "China                             156\n",
       "India                             144\n",
       "El-Salvador                       134\n",
       "Dominican-Republic                127\n",
       "Japan                              91\n",
       "Jamaica                            90\n",
       "South Korea                        87\n",
       "Columbia                           74\n",
       "Vietnam                            64\n",
       "Hungary                            62\n",
       "Ecuador                            62\n",
       "Haiti                              61\n",
       "Portugal                           57\n",
       "Scotland                           55\n",
       "Iran                               52\n",
       "Greece                             51\n",
       "Peru                               50\n",
       "France                             48\n",
       "Nicaragua                          47\n",
       "Guatemala                          46\n",
       "Yugoslavia                         40\n",
       "Taiwan                             36\n",
       "Honduras                           28\n",
       "Cambodia                           23\n",
       "Hong Kong                          21\n",
       "Thailand                           20\n",
       "Laos                               18\n",
       "Outlying-U S (Guam USVI etc)       17\n",
       "Trinadad&Tobago                    16\n",
       "Holand-Netherlands                 12\n",
       "Panama                              5\n",
       "Name: country of birth mother, dtype: int64"
      ]
     },
     "execution_count": 34,
     "metadata": {},
     "output_type": "execute_result"
    }
   ],
   "source": [
    "census['country of birth mother'].value_counts()"
   ]
  },
  {
   "cell_type": "code",
   "execution_count": 35,
   "metadata": {},
   "outputs": [
    {
     "data": {
      "text/plain": [
       "United-States                   33437\n",
       "Mexico                            790\n",
       "?                                 680\n",
       "Philippines                       217\n",
       "Puerto-Rico                       176\n",
       "Germany                           169\n",
       "Cuba                              151\n",
       "Canada                            128\n",
       "India                             121\n",
       "England                           119\n",
       "El-Salvador                        95\n",
       "China                              92\n",
       "Poland                             89\n",
       "Dominican-Republic                 88\n",
       "Jamaica                            80\n",
       "Italy                              80\n",
       "South Korea                        64\n",
       "Japan                              63\n",
       "Vietnam                            60\n",
       "Columbia                           54\n",
       "Haiti                              50\n",
       "Iran                               49\n",
       "Ecuador                            48\n",
       "Taiwan                             47\n",
       "Peru                               40\n",
       "Ireland                            38\n",
       "Greece                             35\n",
       "Portugal                           34\n",
       "Guatemala                          33\n",
       "Nicaragua                          33\n",
       "France                             28\n",
       "Scotland                           26\n",
       "Hong Kong                          26\n",
       "Honduras                           22\n",
       "Outlying-U S (Guam USVI etc)       20\n",
       "Thailand                           19\n",
       "Yugoslavia                         17\n",
       "Hungary                            16\n",
       "Cambodia                           14\n",
       "Laos                               12\n",
       "Trinadad&Tobago                    10\n",
       "Holand-Netherlands                  7\n",
       "Panama                              5\n",
       "Name: country of birth self, dtype: int64"
      ]
     },
     "execution_count": 35,
     "metadata": {},
     "output_type": "execute_result"
    }
   ],
   "source": [
    "census['country of birth self'].value_counts()"
   ]
  },
  {
   "cell_type": "code",
   "execution_count": 36,
   "metadata": {
    "scrolled": true
   },
   "outputs": [
    {
     "data": {
      "text/plain": [
       "Native- Born in the United States              33437\n",
       "Foreign born- Not a citizen of U S              2100\n",
       "Foreign born- U S citizen by naturalization     1315\n",
       "Native- Born abroad of American Parent(s)        334\n",
       "Native- Born in Puerto Rico or U S Outlying      196\n",
       "Name: citizenship, dtype: int64"
      ]
     },
     "execution_count": 36,
     "metadata": {},
     "output_type": "execute_result"
    }
   ],
   "source": [
    "census['citizenship'].value_counts()"
   ]
  },
  {
   "cell_type": "code",
   "execution_count": 88,
   "metadata": {},
   "outputs": [
    {
     "data": {
      "text/plain": [
       "0    32150\n",
       "2     4263\n",
       "1      969\n",
       "Name: own business or self employed, dtype: int64"
      ]
     },
     "execution_count": 88,
     "metadata": {},
     "output_type": "execute_result"
    }
   ],
   "source": [
    "census['own business or self employed'].value_counts()"
   ]
  },
  {
   "cell_type": "code",
   "execution_count": 37,
   "metadata": {},
   "outputs": [
    {
     "data": {
      "text/plain": [
       "No     385\n",
       "Yes     59\n",
       "Name: fill inc questionnaire for veterans admin, dtype: int64"
      ]
     },
     "execution_count": 37,
     "metadata": {},
     "output_type": "execute_result"
    }
   ],
   "source": [
    "census['fill inc questionnaire for veterans admin'].value_counts()"
   ]
  },
  {
   "cell_type": "code",
   "execution_count": null,
   "metadata": {},
   "outputs": [],
   "source": []
  }
 ],
 "metadata": {
  "kernelspec": {
   "display_name": "Python 3",
   "language": "python",
   "name": "python3"
  },
  "language_info": {
   "codemirror_mode": {
    "name": "ipython",
    "version": 3
   },
   "file_extension": ".py",
   "mimetype": "text/x-python",
   "name": "python",
   "nbconvert_exporter": "python",
   "pygments_lexer": "ipython3",
   "version": "3.6.7"
  }
 },
 "nbformat": 4,
 "nbformat_minor": 2
}
