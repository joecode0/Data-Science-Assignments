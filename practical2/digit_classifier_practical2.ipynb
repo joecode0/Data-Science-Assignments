{
 "cells": [
  {
   "cell_type": "code",
   "execution_count": 1,
   "metadata": {},
   "outputs": [
    {
     "data": {
      "text/plain": [
       "['data', 'target', 'target_names', 'images', 'DESCR']"
      ]
     },
     "execution_count": 1,
     "metadata": {},
     "output_type": "execute_result"
    }
   ],
   "source": [
    "from sklearn import datasets\n",
    "%matplotlib inline \n",
    "#so that the plot will be displayed in the notebook\n",
    "import numpy as np\n",
    "np.random.seed(42)\n",
    "\n",
    "import matplotlib\n",
    "from matplotlib import pyplot as plt\n",
    "\n",
    "\n",
    "digits = datasets.load_digits()\n",
    "list(digits.keys())"
   ]
  },
  {
   "cell_type": "code",
   "execution_count": 2,
   "metadata": {},
   "outputs": [
    {
     "data": {
      "text/plain": [
       "{'data': array([[ 0.,  0.,  5., ...,  0.,  0.,  0.],\n",
       "        [ 0.,  0.,  0., ..., 10.,  0.,  0.],\n",
       "        [ 0.,  0.,  0., ..., 16.,  9.,  0.],\n",
       "        ...,\n",
       "        [ 0.,  0.,  1., ...,  6.,  0.,  0.],\n",
       "        [ 0.,  0.,  2., ..., 12.,  0.,  0.],\n",
       "        [ 0.,  0., 10., ..., 12.,  1.,  0.]]),\n",
       " 'target': array([0, 1, 2, ..., 8, 9, 8]),\n",
       " 'target_names': array([0, 1, 2, 3, 4, 5, 6, 7, 8, 9]),\n",
       " 'images': array([[[ 0.,  0.,  5., ...,  1.,  0.,  0.],\n",
       "         [ 0.,  0., 13., ..., 15.,  5.,  0.],\n",
       "         [ 0.,  3., 15., ..., 11.,  8.,  0.],\n",
       "         ...,\n",
       "         [ 0.,  4., 11., ..., 12.,  7.,  0.],\n",
       "         [ 0.,  2., 14., ..., 12.,  0.,  0.],\n",
       "         [ 0.,  0.,  6., ...,  0.,  0.,  0.]],\n",
       " \n",
       "        [[ 0.,  0.,  0., ...,  5.,  0.,  0.],\n",
       "         [ 0.,  0.,  0., ...,  9.,  0.,  0.],\n",
       "         [ 0.,  0.,  3., ...,  6.,  0.,  0.],\n",
       "         ...,\n",
       "         [ 0.,  0.,  1., ...,  6.,  0.,  0.],\n",
       "         [ 0.,  0.,  1., ...,  6.,  0.,  0.],\n",
       "         [ 0.,  0.,  0., ..., 10.,  0.,  0.]],\n",
       " \n",
       "        [[ 0.,  0.,  0., ..., 12.,  0.,  0.],\n",
       "         [ 0.,  0.,  3., ..., 14.,  0.,  0.],\n",
       "         [ 0.,  0.,  8., ..., 16.,  0.,  0.],\n",
       "         ...,\n",
       "         [ 0.,  9., 16., ...,  0.,  0.,  0.],\n",
       "         [ 0.,  3., 13., ..., 11.,  5.,  0.],\n",
       "         [ 0.,  0.,  0., ..., 16.,  9.,  0.]],\n",
       " \n",
       "        ...,\n",
       " \n",
       "        [[ 0.,  0.,  1., ...,  1.,  0.,  0.],\n",
       "         [ 0.,  0., 13., ...,  2.,  1.,  0.],\n",
       "         [ 0.,  0., 16., ..., 16.,  5.,  0.],\n",
       "         ...,\n",
       "         [ 0.,  0., 16., ..., 15.,  0.,  0.],\n",
       "         [ 0.,  0., 15., ..., 16.,  0.,  0.],\n",
       "         [ 0.,  0.,  2., ...,  6.,  0.,  0.]],\n",
       " \n",
       "        [[ 0.,  0.,  2., ...,  0.,  0.,  0.],\n",
       "         [ 0.,  0., 14., ..., 15.,  1.,  0.],\n",
       "         [ 0.,  4., 16., ..., 16.,  7.,  0.],\n",
       "         ...,\n",
       "         [ 0.,  0.,  0., ..., 16.,  2.,  0.],\n",
       "         [ 0.,  0.,  4., ..., 16.,  2.,  0.],\n",
       "         [ 0.,  0.,  5., ..., 12.,  0.,  0.]],\n",
       " \n",
       "        [[ 0.,  0., 10., ...,  1.,  0.,  0.],\n",
       "         [ 0.,  2., 16., ...,  1.,  0.,  0.],\n",
       "         [ 0.,  0., 15., ..., 15.,  0.,  0.],\n",
       "         ...,\n",
       "         [ 0.,  4., 16., ..., 16.,  6.,  0.],\n",
       "         [ 0.,  8., 16., ..., 16.,  8.,  0.],\n",
       "         [ 0.,  1.,  8., ..., 12.,  1.,  0.]]]),\n",
       " 'DESCR': \"Optical Recognition of Handwritten Digits Data Set\\n===================================================\\n\\nNotes\\n-----\\nData Set Characteristics:\\n    :Number of Instances: 5620\\n    :Number of Attributes: 64\\n    :Attribute Information: 8x8 image of integer pixels in the range 0..16.\\n    :Missing Attribute Values: None\\n    :Creator: E. Alpaydin (alpaydin '@' boun.edu.tr)\\n    :Date: July; 1998\\n\\nThis is a copy of the test set of the UCI ML hand-written digits datasets\\nhttp://archive.ics.uci.edu/ml/datasets/Optical+Recognition+of+Handwritten+Digits\\n\\nThe data set contains images of hand-written digits: 10 classes where\\neach class refers to a digit.\\n\\nPreprocessing programs made available by NIST were used to extract\\nnormalized bitmaps of handwritten digits from a preprinted form. From a\\ntotal of 43 people, 30 contributed to the training set and different 13\\nto the test set. 32x32 bitmaps are divided into nonoverlapping blocks of\\n4x4 and the number of on pixels are counted in each block. This generates\\nan input matrix of 8x8 where each element is an integer in the range\\n0..16. This reduces dimensionality and gives invariance to small\\ndistortions.\\n\\nFor info on NIST preprocessing routines, see M. D. Garris, J. L. Blue, G.\\nT. Candela, D. L. Dimmick, J. Geist, P. J. Grother, S. A. Janet, and C.\\nL. Wilson, NIST Form-Based Handprint Recognition System, NISTIR 5469,\\n1994.\\n\\nReferences\\n----------\\n  - C. Kaynak (1995) Methods of Combining Multiple Classifiers and Their\\n    Applications to Handwritten Digit Recognition, MSc Thesis, Institute of\\n    Graduate Studies in Science and Engineering, Bogazici University.\\n  - E. Alpaydin, C. Kaynak (1998) Cascading Classifiers, Kybernetika.\\n  - Ken Tang and Ponnuthurai N. Suganthan and Xi Yao and A. Kai Qin.\\n    Linear dimensionalityreduction using relevance weighted LDA. School of\\n    Electrical and Electronic Engineering Nanyang Technological University.\\n    2005.\\n  - Claudio Gentile. A New Approximate Maximal Margin Classification\\n    Algorithm. NIPS. 2000.\\n\"}"
      ]
     },
     "execution_count": 2,
     "metadata": {},
     "output_type": "execute_result"
    }
   ],
   "source": [
    "digits"
   ]
  },
  {
   "cell_type": "code",
   "execution_count": 3,
   "metadata": {},
   "outputs": [
    {
     "data": {
      "text/plain": [
       "(1797, 64)"
      ]
     },
     "execution_count": 3,
     "metadata": {},
     "output_type": "execute_result"
    }
   ],
   "source": [
    "X, y = digits[\"data\"], digits[\"target\"]\n",
    "X.shape"
   ]
  },
  {
   "cell_type": "code",
   "execution_count": 4,
   "metadata": {},
   "outputs": [
    {
     "data": {
      "text/plain": [
       "(1797,)"
      ]
     },
     "execution_count": 4,
     "metadata": {},
     "output_type": "execute_result"
    }
   ],
   "source": [
    "y.shape"
   ]
  },
  {
   "cell_type": "code",
   "execution_count": 5,
   "metadata": {},
   "outputs": [
    {
     "data": {
      "image/png": "[encoded data removed]",
      "text/plain": [
       "<Figure size 432x288 with 1 Axes>"
      ]
     },
     "metadata": {
      "needs_background": "light"
     },
     "output_type": "display_data"
    }
   ],
   "source": [
    "some_digit = X[3]\n",
    "some_digit_image = some_digit.reshape(8, 8)\n",
    "\n",
    "plt.imshow(some_digit_image, cmap=matplotlib.cm.binary, interpolation=\"nearest\")\n",
    "plt.axis(\"off\")\n",
    "plt.show()"
   ]
  },
  {
   "cell_type": "code",
   "execution_count": 6,
   "metadata": {},
   "outputs": [
    {
     "data": {
      "text/plain": [
       "3"
      ]
     },
     "execution_count": 6,
     "metadata": {},
     "output_type": "execute_result"
    }
   ],
   "source": [
    "y[3]"
   ]
  },
  {
   "cell_type": "markdown",
   "metadata": {},
   "source": [
    "For the rest of the practical, apply the data preprocessing techniques, implement and evaluate the classification models on the digits dataset using the steps that you applied above to the iris dataset.\n",
    "\n",
    "## Splitting the data into training and test subsets"
   ]
  },
  {
   "cell_type": "code",
   "execution_count": 7,
   "metadata": {},
   "outputs": [
    {
     "name": "stdout",
     "output_type": "stream",
     "text": [
      "StratifiedShuffleSplit(n_splits=1, random_state=42, test_size=0.2,\n",
      "            train_size=None)\n",
      "TRAIN: 1437 TEST: 360\n",
      "(1437, 64) (1437,) (360, 64) (360,)\n"
     ]
    }
   ],
   "source": [
    "from sklearn.model_selection import StratifiedShuffleSplit\n",
    "\n",
    "split = StratifiedShuffleSplit(n_splits=1, test_size=0.2, random_state=42)\n",
    "split.get_n_splits(X, y)\n",
    "print(split)       \n",
    "\n",
    "for train_index, test_index in split.split(X, y):\n",
    "    print(\"TRAIN:\", len(train_index), \"TEST:\", len(test_index))\n",
    "    X_train, X_test = X[train_index], X[test_index]\n",
    "    y_train, y_test = y[train_index], y[test_index]\n",
    "\n",
    "print(X_train.shape, y_train.shape, X_test.shape, y_test.shape)"
   ]
  },
  {
   "cell_type": "code",
   "execution_count": 8,
   "metadata": {},
   "outputs": [
    {
     "data": {
      "text/html": [
       "<div>\n",
       "<style scoped>\n",
       "    .dataframe tbody tr th:only-of-type {\n",
       "        vertical-align: middle;\n",
       "    }\n",
       "\n",
       "    .dataframe tbody tr th {\n",
       "        vertical-align: top;\n",
       "    }\n",
       "\n",
       "    .dataframe thead th {\n",
       "        text-align: right;\n",
       "    }\n",
       "</style>\n",
       "<table border=\"1\" class=\"dataframe\">\n",
       "  <thead>\n",
       "    <tr style=\"text-align: right;\">\n",
       "      <th></th>\n",
       "      <th>Overall</th>\n",
       "      <th>Stratified tr</th>\n",
       "      <th>Stratified ts</th>\n",
       "      <th>Strat. tr %error</th>\n",
       "      <th>Strat. ts %error</th>\n",
       "    </tr>\n",
       "  </thead>\n",
       "  <tbody>\n",
       "    <tr>\n",
       "      <th>0</th>\n",
       "      <td>0.099054</td>\n",
       "      <td>0.098817</td>\n",
       "      <td>0.100000</td>\n",
       "      <td>-0.239263</td>\n",
       "      <td>0.955056</td>\n",
       "    </tr>\n",
       "    <tr>\n",
       "      <th>1</th>\n",
       "      <td>0.101280</td>\n",
       "      <td>0.101601</td>\n",
       "      <td>0.100000</td>\n",
       "      <td>0.316594</td>\n",
       "      <td>-1.263736</td>\n",
       "    </tr>\n",
       "    <tr>\n",
       "      <th>2</th>\n",
       "      <td>0.098497</td>\n",
       "      <td>0.098817</td>\n",
       "      <td>0.097222</td>\n",
       "      <td>0.324357</td>\n",
       "      <td>-1.294727</td>\n",
       "    </tr>\n",
       "    <tr>\n",
       "      <th>3</th>\n",
       "      <td>0.101836</td>\n",
       "      <td>0.101601</td>\n",
       "      <td>0.102778</td>\n",
       "      <td>-0.231584</td>\n",
       "      <td>0.924408</td>\n",
       "    </tr>\n",
       "    <tr>\n",
       "      <th>4</th>\n",
       "      <td>0.100723</td>\n",
       "      <td>0.100905</td>\n",
       "      <td>0.100000</td>\n",
       "      <td>0.179933</td>\n",
       "      <td>-0.718232</td>\n",
       "    </tr>\n",
       "    <tr>\n",
       "      <th>5</th>\n",
       "      <td>0.101280</td>\n",
       "      <td>0.100905</td>\n",
       "      <td>0.102778</td>\n",
       "      <td>-0.370506</td>\n",
       "      <td>1.478938</td>\n",
       "    </tr>\n",
       "    <tr>\n",
       "      <th>6</th>\n",
       "      <td>0.100723</td>\n",
       "      <td>0.100905</td>\n",
       "      <td>0.100000</td>\n",
       "      <td>0.179933</td>\n",
       "      <td>-0.718232</td>\n",
       "    </tr>\n",
       "    <tr>\n",
       "      <th>7</th>\n",
       "      <td>0.099610</td>\n",
       "      <td>0.099513</td>\n",
       "      <td>0.100000</td>\n",
       "      <td>-0.097969</td>\n",
       "      <td>0.391061</td>\n",
       "    </tr>\n",
       "    <tr>\n",
       "      <th>8</th>\n",
       "      <td>0.096828</td>\n",
       "      <td>0.096729</td>\n",
       "      <td>0.097222</td>\n",
       "      <td>-0.101984</td>\n",
       "      <td>0.407088</td>\n",
       "    </tr>\n",
       "    <tr>\n",
       "      <th>9</th>\n",
       "      <td>0.100167</td>\n",
       "      <td>0.100209</td>\n",
       "      <td>0.100000</td>\n",
       "      <td>0.041754</td>\n",
       "      <td>-0.166667</td>\n",
       "    </tr>\n",
       "  </tbody>\n",
       "</table>\n",
       "</div>"
      ],
      "text/plain": [
       "    Overall  Stratified tr  Stratified ts  Strat. tr %error  Strat. ts %error\n",
       "0  0.099054       0.098817       0.100000         -0.239263          0.955056\n",
       "1  0.101280       0.101601       0.100000          0.316594         -1.263736\n",
       "2  0.098497       0.098817       0.097222          0.324357         -1.294727\n",
       "3  0.101836       0.101601       0.102778         -0.231584          0.924408\n",
       "4  0.100723       0.100905       0.100000          0.179933         -0.718232\n",
       "5  0.101280       0.100905       0.102778         -0.370506          1.478938\n",
       "6  0.100723       0.100905       0.100000          0.179933         -0.718232\n",
       "7  0.099610       0.099513       0.100000         -0.097969          0.391061\n",
       "8  0.096828       0.096729       0.097222         -0.101984          0.407088\n",
       "9  0.100167       0.100209       0.100000          0.041754         -0.166667"
      ]
     },
     "execution_count": 8,
     "metadata": {},
     "output_type": "execute_result"
    }
   ],
   "source": [
    "import pandas as pd\n",
    "\n",
    "# def original_proportions(data):\n",
    "#     props = {}\n",
    "#     for value in set(data[\"target\"]):\n",
    "#         data_value = [i for i in data[\"target\"] if i==value]\n",
    "#         props[value] = len(data_value) / len(data[\"target\"])\n",
    "#     return props\n",
    "\n",
    "def subset_proportions(subset):\n",
    "    props = {}\n",
    "    for value in set(subset):\n",
    "        data_value = [i for i in subset if i==value]\n",
    "        props[value] = len(data_value) / len(subset)\n",
    "    return props\n",
    "\n",
    "   \n",
    "compare_props = pd.DataFrame({\n",
    "    \"Overall\": subset_proportions(digits[\"target\"]),\n",
    "    \"Stratified tr\": subset_proportions(y_train),\n",
    "    \"Stratified ts\": subset_proportions(y_test),\n",
    "})\n",
    "compare_props[\"Strat. tr %error\"] = 100 * compare_props[\"Stratified tr\"] / compare_props[\"Overall\"] - 100\n",
    "compare_props[\"Strat. ts %error\"] = 100 * compare_props[\"Stratified ts\"] / compare_props[\"Overall\"] - 100\n",
    "\n",
    "compare_props.sort_index()"
   ]
  },
  {
   "cell_type": "markdown",
   "metadata": {},
   "source": [
    "## Case 1: Binary classification"
   ]
  },
  {
   "cell_type": "code",
   "execution_count": 9,
   "metadata": {},
   "outputs": [],
   "source": [
    "y_train_zero = (y_train == 0) # will return True when the label is 0 (i.e., digit labelled zero)\n",
    "y_test_zero = (y_test == 0)\n",
    "\n",
    "y_train_one = (y_train == 1)\n",
    "y_test_one = (y_test == 1)\n",
    "\n",
    "y_train_four = (y_train == 4)\n",
    "y_test_four = (y_test == 4)\n",
    "\n",
    "y_train_eight = (y_train == 8)\n",
    "y_test_eight = (y_test == 8)"
   ]
  },
  {
   "cell_type": "code",
   "execution_count": 10,
   "metadata": {},
   "outputs": [
    {
     "data": {
      "text/plain": [
       "array([ 0.,  0.,  4., 16., 16.,  4.,  0.,  0.,  0.,  0., 10., 15., 12.,\n",
       "       14.,  0.,  0.,  0.,  2., 11.,  0.,  0.,  9.,  6.,  0.,  0.,  5.,\n",
       "        6.,  0.,  0.,  4.,  5.,  0.,  0.,  4.,  9.,  0.,  0.,  7.,  4.,\n",
       "        0.,  0.,  4., 10.,  0.,  2., 14.,  0.,  0.,  0.,  0., 14., 15.,\n",
       "       16.,  8.,  0.,  0.,  0.,  0.,  4., 13., 10.,  0.,  0.,  0.])"
      ]
     },
     "execution_count": 10,
     "metadata": {},
     "output_type": "execute_result"
    }
   ],
   "source": [
    "zero_example = X_test[10]\n",
    "zero_example"
   ]
  },
  {
   "cell_type": "markdown",
   "metadata": {},
   "source": [
    "### Perceptron"
   ]
  },
  {
   "cell_type": "code",
   "execution_count": 11,
   "metadata": {},
   "outputs": [
    {
     "data": {
      "text/plain": [
       "array([0])"
      ]
     },
     "execution_count": 11,
     "metadata": {},
     "output_type": "execute_result"
    }
   ],
   "source": [
    "from sklearn.linear_model import SGDClassifier\n",
    "\n",
    "sgd = SGDClassifier(max_iter=5, tol=None, random_state=42,\n",
    "                   loss=\"perceptron\", eta0=1, learning_rate=\"constant\", penalty=None)\n",
    "sgd.fit(X_train, y_train)\n",
    "sgd.predict([zero_example])"
   ]
  },
  {
   "cell_type": "code",
   "execution_count": 12,
   "metadata": {},
   "outputs": [
    {
     "name": "stdout",
     "output_type": "stream",
     "text": [
      "Is it the value 0? True\n",
      "Is it the value 1? True\n",
      "Is it the value 2? True\n",
      "Is it the value 3? True\n",
      "Is it the value 4? False\n",
      "Is it the value 5? True\n",
      "Is it the value 6? True\n",
      "Is it the value 7? True\n",
      "Is it the value 8? False\n",
      "Is it the value 9? True\n"
     ]
    }
   ],
   "source": [
    "def test_classifier_for_each_digit(classifier):\n",
    "    for i in range(10):\n",
    "        y_train_value = (y_train == i)\n",
    "        y_test_value = (y_test == i)\n",
    "        value_trues = [j for j in range(len(y_test_value)) if y_test_value[j] == True]\n",
    "        value_example = X_test[value_trues[0]]\n",
    "        classifier.fit(X_train,y_train_value)\n",
    "        some_digit_image = value_example.reshape(8, 8)\n",
    "        #print(some_digit_image)\n",
    "        print(\"Is it the value {}? \".format(i),end='')\n",
    "        print(classifier.predict([value_example])[0])\n",
    "    \n",
    "test_classifier_for_each_digit(sgd)"
   ]
  },
  {
   "cell_type": "markdown",
   "metadata": {},
   "source": [
    "Therefore predicted fairly well, only getting the first examples of 4 and 8 incorrect.\n",
    "\n",
    "### Logistic Regression"
   ]
  },
  {
   "cell_type": "code",
   "execution_count": 13,
   "metadata": {},
   "outputs": [
    {
     "name": "stdout",
     "output_type": "stream",
     "text": [
      "Is it the value 0? True\n",
      "Is it the value 1? False\n",
      "Is it the value 2? True\n",
      "Is it the value 3? True\n",
      "Is it the value 4? True\n",
      "Is it the value 5? True\n",
      "Is it the value 6? True\n",
      "Is it the value 7? True\n",
      "Is it the value 8? False\n",
      "Is it the value 9? True\n"
     ]
    }
   ],
   "source": [
    "from sklearn.linear_model import LogisticRegression\n",
    "\n",
    "log_reg = LogisticRegression()\n",
    "test_classifier_for_each_digit(log_reg)"
   ]
  },
  {
   "cell_type": "markdown",
   "metadata": {},
   "source": [
    "Therefore also predicted fairly well, only getting the first examples of 1 and 8 incorrect. These results are implying that the first occurence of an 8-labelled digit is either fairly difficult to classify, or 8 itself is a harder one to classify.\n",
    "\n",
    "### Naive Bayes"
   ]
  },
  {
   "cell_type": "code",
   "execution_count": 14,
   "metadata": {},
   "outputs": [
    {
     "name": "stdout",
     "output_type": "stream",
     "text": [
      "Is it the value 0? True\n",
      "Is it the value 1? True\n",
      "Is it the value 2? True\n",
      "Is it the value 3? True\n",
      "Is it the value 4? True\n",
      "Is it the value 5? True\n",
      "Is it the value 6? True\n",
      "Is it the value 7? True\n",
      "Is it the value 8? True\n",
      "Is it the value 9? True\n"
     ]
    }
   ],
   "source": [
    "from sklearn.naive_bayes import GaussianNB, MultinomialNB\n",
    "\n",
    "mnb = MultinomialNB() # or:\n",
    "gnb = GaussianNB() \n",
    "\n",
    "test_classifier_for_each_digit(mnb)"
   ]
  },
  {
   "cell_type": "code",
   "execution_count": 15,
   "metadata": {},
   "outputs": [
    {
     "name": "stdout",
     "output_type": "stream",
     "text": [
      "Is it the value 0? True\n",
      "Is it the value 1? True\n",
      "Is it the value 2? True\n",
      "Is it the value 3? True\n",
      "Is it the value 4? True\n",
      "Is it the value 5? True\n",
      "Is it the value 6? True\n",
      "Is it the value 7? True\n",
      "Is it the value 8? True\n",
      "Is it the value 9? True\n"
     ]
    }
   ],
   "source": [
    "test_classifier_for_each_digit(gnb)"
   ]
  },
  {
   "cell_type": "markdown",
   "metadata": {},
   "source": [
    "This implies this predictor is potentially performing better. However we need to look into results in more detail to ensure this isn't caused by also having many False Positives.\n",
    "\n",
    "## Evaluation"
   ]
  },
  {
   "cell_type": "code",
   "execution_count": 16,
   "metadata": {
    "scrolled": true
   },
   "outputs": [
    {
     "name": "stdout",
     "output_type": "stream",
     "text": [
      "0\n",
      "0.9993055555555556\n",
      "0.9923465931087883\n",
      "0.996525358110724\n",
      "1\n",
      "0.9700637787396165\n",
      "0.6068215521502719\n",
      "0.9666132163051735\n",
      "2\n",
      "1.0\n",
      "0.7356029810298103\n",
      "0.9937354819976771\n",
      "3\n",
      "0.9798150537115852\n",
      "0.6583846738121361\n",
      "0.9588946625996165\n",
      "4\n",
      "0.997212543554007\n",
      "0.8413714672861013\n",
      "0.9951292102206738\n",
      "5\n",
      "0.9888646922183508\n",
      "0.5407907471931862\n",
      "0.9777342237708091\n",
      "6\n",
      "0.9937306426635695\n",
      "0.9387679055361982\n",
      "0.988862272551297\n",
      "7\n",
      "0.9923417030124349\n",
      "0.8357837453874039\n",
      "0.9944298756798757\n",
      "8\n",
      "0.9526637826942705\n",
      "0.5177701871299432\n",
      "0.8824035381962212\n",
      "9\n",
      "0.9728657690547934\n",
      "0.7146786479103553\n",
      "0.9172399077886884\n"
     ]
    }
   ],
   "source": [
    "from sklearn.model_selection import cross_val_score\n",
    "\n",
    "def get_cross_val_score_for_value(value,classifiers):\n",
    "    y_train_value = (y_train == value)\n",
    "    for classifier in classifiers:\n",
    "        print(np.mean(cross_val_score(classifier, X_train, y_train_value, cv=5, scoring=\"accuracy\")))\n",
    "    \n",
    "for i in range(10):\n",
    "    print(i)\n",
    "    get_cross_val_score_for_value(i,[log_reg,gnb,sgd])"
   ]
  },
  {
   "cell_type": "markdown",
   "metadata": {},
   "source": [
    "A few conclusions from these results:\n",
    "The Logistic Regression and Perceptron classifiers commonly perform better.\n",
    "\n",
    "The numbers 0,1,2,4,5,6 and 7 seem far easier to predict than 3, 8 and 9. Especially 8, with one of the cross validation scores with the Perceptron classifier being very low at 0.7.\n",
    "\n",
    "To give these values some more context, let's build a \"always predict not value\" classifier and get its accuracy for each value."
   ]
  },
  {
   "cell_type": "code",
   "execution_count": 17,
   "metadata": {},
   "outputs": [
    {
     "name": "stdout",
     "output_type": "stream",
     "text": [
      "0\n",
      "0.9011977351916377\n",
      "1\n",
      "0.8984247967479675\n",
      "2\n",
      "0.9011759581881533\n",
      "3\n",
      "0.8984078590785908\n",
      "4\n",
      "0.8991071428571429\n",
      "5\n",
      "0.8990732675183896\n",
      "6\n",
      "0.8990950445218738\n",
      "7\n",
      "0.9004766744096013\n",
      "8\n",
      "0.9032617111885404\n",
      "9\n",
      "0.8997798102981029\n"
     ]
    }
   ],
   "source": [
    "from sklearn.base import BaseEstimator\n",
    "\n",
    "class NotXClassifier(BaseEstimator):\n",
    "    def fit(self, X, y=None):\n",
    "        pass\n",
    "    def predict(self, X):\n",
    "        return np.zeros((len(X), 1), dtype=bool)\n",
    "    \n",
    "notX_clf = NotXClassifier()\n",
    "for i in range(10):\n",
    "    print(i)\n",
    "    get_cross_val_score_for_value(i,[notX_clf])\n",
    "#cross_val_score(notX_clf, X_train, y_train_zero, cv=5, scoring=\"accuracy\")"
   ]
  },
  {
   "cell_type": "markdown",
   "metadata": {},
   "source": [
    "### Confusion matrix"
   ]
  },
  {
   "cell_type": "code",
   "execution_count": 18,
   "metadata": {},
   "outputs": [
    {
     "name": "stdout",
     "output_type": "stream",
     "text": [
      "Logistic Regression - 0:\n",
      "[[1295    0]\n",
      " [   1  141]]\n",
      "Perceptron - 0:\n",
      "[[1292    3]\n",
      " [   2  140]]\n",
      "Naive Bayes - 0:\n",
      "[[1286    9]\n",
      " [   2  140]]\n",
      "Logistic Regression - 1:\n",
      "[[1265   26]\n",
      " [  17  129]]\n",
      "Perceptron - 1:\n",
      "[[1256   35]\n",
      " [  13  133]]\n",
      "Naive Bayes - 1:\n",
      "[[728 563]\n",
      " [  2 144]]\n",
      "Logistic Regression - 2:\n",
      "[[1295    0]\n",
      " [   0  142]]\n",
      "Perceptron - 2:\n",
      "[[1292    3]\n",
      " [   6  136]]\n",
      "Naive Bayes - 2:\n",
      "[[923 372]\n",
      " [  8 134]]\n",
      "Logistic Regression - 3:\n",
      "[[1273   18]\n",
      " [  11  135]]\n",
      "Perceptron - 3:\n",
      "[[1269   22]\n",
      " [  37  109]]\n",
      "Naive Bayes - 3:\n",
      "[[804 487]\n",
      " [  4 142]]\n",
      "Logistic Regression - 4:\n",
      "[[1291    1]\n",
      " [   3  142]]\n",
      "Perceptron - 4:\n",
      "[[1289    3]\n",
      " [   4  141]]\n",
      "Naive Bayes - 4:\n",
      "[[1070  222]\n",
      " [   6  139]]\n",
      "Logistic Regression - 5:\n",
      "[[1284    8]\n",
      " [   8  137]]\n",
      "Perceptron - 5:\n",
      "[[1277   15]\n",
      " [  17  128]]\n",
      "Naive Bayes - 5:\n",
      "[[637 655]\n",
      " [  5 140]]\n",
      "Logistic Regression - 6:\n",
      "[[1287    5]\n",
      " [   4  141]]\n",
      "Perceptron - 6:\n",
      "[[1289    3]\n",
      " [  13  132]]\n",
      "Naive Bayes - 6:\n",
      "[[1206   86]\n",
      " [   2  143]]\n",
      "Logistic Regression - 7:\n",
      "[[1288    6]\n",
      " [   5  138]]\n",
      "Perceptron - 7:\n",
      "[[1293    1]\n",
      " [   7  136]]\n",
      "Naive Bayes - 7:\n",
      "[[1060  234]\n",
      " [   2  141]]\n",
      "Logistic Regression - 8:\n",
      "[[1266   32]\n",
      " [  36  103]]\n",
      "Perceptron - 8:\n",
      "[[1168  130]\n",
      " [  39  100]]\n",
      "Naive Bayes - 8:\n",
      "[[606 692]\n",
      " [  1 138]]\n",
      "Logistic Regression - 9:\n",
      "[[1269   24]\n",
      " [  15  129]]\n",
      "Perceptron - 9:\n",
      "[[1231   62]\n",
      " [  57   87]]\n",
      "Naive Bayes - 9:\n",
      "[[885 408]\n",
      " [  2 142]]\n"
     ]
    }
   ],
   "source": [
    "from sklearn.model_selection import cross_val_predict\n",
    "from sklearn.metrics import confusion_matrix\n",
    "\n",
    "def get_confusion_matrix(value):\n",
    "    y_train_value = (y_train == value)\n",
    "    y_train_pred_log_reg = cross_val_predict(log_reg, X_train, y_train_value, cv=5)\n",
    "    print(\"Logistic Regression - {}:\".format(value))\n",
    "    print(confusion_matrix(y_train_value, y_train_pred_log_reg))\n",
    "    \n",
    "    y_train_pred_sgd = cross_val_predict(sgd, X_train, y_train_value, cv=5)\n",
    "    print(\"Perceptron - {}:\".format(value))\n",
    "    print(confusion_matrix(y_train_value, y_train_pred_sgd))\n",
    "    \n",
    "    y_train_pred_gnb = cross_val_predict(gnb, X_train, y_train_value, cv=5)\n",
    "    print(\"Naive Bayes - {}:\".format(value))\n",
    "    print(confusion_matrix(y_train_value, y_train_pred_gnb))\n",
    "\n",
    "for i in range(10):\n",
    "    get_confusion_matrix(i)"
   ]
  },
  {
   "cell_type": "code",
   "execution_count": 19,
   "metadata": {},
   "outputs": [
    {
     "name": "stdout",
     "output_type": "stream",
     "text": [
      "0\n",
      "Logistic Regression\n",
      "Precision: 1.0, Recall: 0.9929577464788732, F1 Score: 0.9964664310954063\n",
      "Perceptron\n",
      "Precision: 0.9790209790209791, Recall: 0.9859154929577465, F1 Score: 0.9824561403508772\n",
      "Naive Bayes\n",
      "Precision: 0.9395973154362416, Recall: 0.9859154929577465, F1 Score: 0.9621993127147765\n",
      "\n",
      "1\n",
      "Logistic Regression\n",
      "Precision: 0.832258064516129, Recall: 0.8835616438356164, F1 Score: 0.8571428571428571\n",
      "Perceptron\n",
      "Precision: 0.7916666666666666, Recall: 0.910958904109589, F1 Score: 0.8471337579617834\n",
      "Naive Bayes\n",
      "Precision: 0.2036775106082037, Recall: 0.9863013698630136, F1 Score: 0.33763188745603756\n",
      "\n",
      "2\n",
      "Logistic Regression\n",
      "Precision: 1.0, Recall: 1.0, F1 Score: 1.0\n",
      "Perceptron\n",
      "Precision: 0.9784172661870504, Recall: 0.9577464788732394, F1 Score: 0.9679715302491103\n",
      "Naive Bayes\n",
      "Precision: 0.2648221343873518, Recall: 0.9436619718309859, F1 Score: 0.4135802469135803\n",
      "\n",
      "3\n",
      "Logistic Regression\n",
      "Precision: 0.8823529411764706, Recall: 0.9246575342465754, F1 Score: 0.9030100334448161\n",
      "Perceptron\n",
      "Precision: 0.8320610687022901, Recall: 0.7465753424657534, F1 Score: 0.7870036101083032\n",
      "Naive Bayes\n",
      "Precision: 0.22575516693163752, Recall: 0.9726027397260274, F1 Score: 0.36645161290322587\n",
      "\n",
      "4\n",
      "Logistic Regression\n",
      "Precision: 0.993006993006993, Recall: 0.9793103448275862, F1 Score: 0.986111111111111\n",
      "Perceptron\n",
      "Precision: 0.9791666666666666, Recall: 0.9724137931034482, F1 Score: 0.9757785467128027\n",
      "Naive Bayes\n",
      "Precision: 0.3850415512465374, Recall: 0.9586206896551724, F1 Score: 0.549407114624506\n",
      "\n",
      "5\n",
      "Logistic Regression\n",
      "Precision: 0.9448275862068966, Recall: 0.9448275862068966, F1 Score: 0.9448275862068966\n",
      "Perceptron\n",
      "Precision: 0.8951048951048951, Recall: 0.8827586206896552, F1 Score: 0.888888888888889\n",
      "Naive Bayes\n",
      "Precision: 0.1761006289308176, Recall: 0.9655172413793104, F1 Score: 0.2978723404255319\n",
      "\n",
      "6\n",
      "Logistic Regression\n",
      "Precision: 0.9657534246575342, Recall: 0.9724137931034482, F1 Score: 0.9690721649484535\n",
      "Perceptron\n",
      "Precision: 0.9777777777777777, Recall: 0.9103448275862069, F1 Score: 0.9428571428571428\n",
      "Naive Bayes\n",
      "Precision: 0.6244541484716157, Recall: 0.9862068965517241, F1 Score: 0.7647058823529412\n",
      "\n",
      "7\n",
      "Logistic Regression\n",
      "Precision: 0.9583333333333334, Recall: 0.965034965034965, F1 Score: 0.9616724738675957\n",
      "Perceptron\n",
      "Precision: 0.9927007299270073, Recall: 0.951048951048951, F1 Score: 0.9714285714285715\n",
      "Naive Bayes\n",
      "Precision: 0.376, Recall: 0.986013986013986, F1 Score: 0.5444015444015443\n",
      "\n",
      "8\n",
      "Logistic Regression\n",
      "Precision: 0.762962962962963, Recall: 0.7410071942446043, F1 Score: 0.751824817518248\n",
      "Perceptron\n",
      "Precision: 0.43478260869565216, Recall: 0.7194244604316546, F1 Score: 0.5420054200542006\n",
      "Naive Bayes\n",
      "Precision: 0.16626506024096385, Recall: 0.9928057553956835, F1 Score: 0.28482972136222906\n",
      "\n",
      "9\n",
      "Logistic Regression\n",
      "Precision: 0.8431372549019608, Recall: 0.8958333333333334, F1 Score: 0.8686868686868686\n",
      "Perceptron\n",
      "Precision: 0.5838926174496645, Recall: 0.6041666666666666, F1 Score: 0.5938566552901023\n",
      "Naive Bayes\n",
      "Precision: 0.2581818181818182, Recall: 0.9861111111111112, F1 Score: 0.40922190201729103\n",
      "\n"
     ]
    }
   ],
   "source": [
    "from sklearn.metrics import precision_score, recall_score, f1_score\n",
    "\n",
    "def get_precision_recall_f1_scores(value):\n",
    "    print(value)\n",
    "    y_train_value = (y_train == value)\n",
    "    y_train_pred_log_reg = cross_val_predict(log_reg, X_train, y_train_value, cv=5)\n",
    "    precision = precision_score(y_train_value, y_train_pred_log_reg)\n",
    "    recall = recall_score(y_train_value, y_train_pred_log_reg)\n",
    "    f1 = f1_score(y_train_value, y_train_pred_log_reg)\n",
    "    print(\"Logistic Regression\")\n",
    "    print(\"Precision: {}, Recall: {}, F1 Score: {}\".format(precision, recall, f1))\n",
    "    \n",
    "    y_train_pred_sgd = cross_val_predict(sgd, X_train, y_train_value, cv=5)\n",
    "    precision = precision_score(y_train_value, y_train_pred_sgd)\n",
    "    recall = recall_score(y_train_value, y_train_pred_sgd)\n",
    "    f1 = f1_score(y_train_value, y_train_pred_sgd)\n",
    "    print(\"Perceptron\")\n",
    "    print(\"Precision: {}, Recall: {}, F1 Score: {}\".format(precision, recall, f1))\n",
    "    \n",
    "    y_train_pred_gnb = cross_val_predict(gnb, X_train, y_train_value, cv=5)\n",
    "    precision = precision_score(y_train_value, y_train_pred_gnb)\n",
    "    recall = recall_score(y_train_value, y_train_pred_gnb)\n",
    "    f1 = f1_score(y_train_value, y_train_pred_gnb)\n",
    "    print(\"Naive Bayes\")\n",
    "    print(\"Precision: {}, Recall: {}, F1 Score: {}\".format(precision, recall, f1))\n",
    "    print()\n",
    "    \n",
    "for i in range(10):\n",
    "    get_precision_recall_f1_scores(i)"
   ]
  },
  {
   "cell_type": "markdown",
   "metadata": {},
   "source": [
    "### Precision-recall trade-off"
   ]
  },
  {
   "cell_type": "code",
   "execution_count": 20,
   "metadata": {},
   "outputs": [
    {
     "name": "stdout",
     "output_type": "stream",
     "text": [
      "[-10.26200358  -6.45744502 -14.32362923 ...  -2.82403579 -19.71333142\n",
      "  -8.5243048 ]\n"
     ]
    },
    {
     "data": {
      "image/png": "[encoded data removed]",
      "text/plain": [
       "<Figure size 432x288 with 1 Axes>"
      ]
     },
     "metadata": {
      "needs_background": "light"
     },
     "output_type": "display_data"
    }
   ],
   "source": [
    "from sklearn.metrics import precision_recall_curve\n",
    "y_train_eight = (y_train == 8) \n",
    "y_scores = cross_val_predict(log_reg, X_train, y_train_eight, cv=5, method=\"decision_function\")\n",
    "print(y_scores)\n",
    "precisions, recalls, thresholds = precision_recall_curve(y_train_eight, y_scores)\n",
    "\n",
    "def plot_pr_vs_threshold(precisions, recalls, thresholds):\n",
    "    plt.plot(thresholds, precisions[:-1], \"b--\", label=\"Precision\")\n",
    "    plt.plot(thresholds, recalls[:-1], \"g--\", label=\"Recall\")\n",
    "    plt.xlabel(\"Threshold\")\n",
    "    plt.legend(loc=\"upper right\")\n",
    "    plt.ylim([0, 1])\n",
    "    \n",
    "plot_pr_vs_threshold(precisions, recalls, thresholds)\n",
    "plt.show()"
   ]
  },
  {
   "cell_type": "code",
   "execution_count": 21,
   "metadata": {},
   "outputs": [
    {
     "data": {
      "image/png": "[encoded data removed]",
      "text/plain": [
       "<Figure size 432x288 with 1 Axes>"
      ]
     },
     "metadata": {
      "needs_background": "light"
     },
     "output_type": "display_data"
    }
   ],
   "source": [
    "def plot_precision_vs_recall(precisions, recalls):\n",
    "    plt.plot(recalls, precisions, \"b-\", linewidth=2)\n",
    "    plt.xlabel(\"Recall\")\n",
    "    plt.ylabel(\"Precision\")\n",
    "    plt.axis([0, 1, 0, 1])\n",
    "\n",
    "plot_precision_vs_recall(precisions, recalls)\n",
    "plt.show()"
   ]
  },
  {
   "cell_type": "markdown",
   "metadata": {},
   "source": [
    "### The Receiver Operating Characteristic (ROC)"
   ]
  },
  {
   "cell_type": "code",
   "execution_count": 22,
   "metadata": {},
   "outputs": [
    {
     "data": {
      "image/png": "[encoded data removed]",
      "text/plain": [
       "<Figure size 432x288 with 1 Axes>"
      ]
     },
     "metadata": {
      "needs_background": "light"
     },
     "output_type": "display_data"
    }
   ],
   "source": [
    "from sklearn.metrics import roc_curve\n",
    "\n",
    "fpr, tpr, thresholds = roc_curve(y_train_eight, y_scores)\n",
    "\n",
    "def plot_roc_curve(fpr, tpr, label=None):\n",
    "    plt.plot(fpr, tpr, linewidth=2, label=label)\n",
    "    plt.plot([0, 1], [0, 1], \"k--\")\n",
    "    plt.axis([0, 1, 0, 1.01])\n",
    "    plt.xlabel(\"False positive rate (fpr)\")\n",
    "    plt.ylabel(\"True positive rate (tpr)\")\n",
    "    \n",
    "plot_roc_curve(fpr, tpr)\n",
    "plt.show()"
   ]
  },
  {
   "cell_type": "code",
   "execution_count": 23,
   "metadata": {},
   "outputs": [
    {
     "data": {
      "text/plain": [
       "0.9725864916695304"
      ]
     },
     "execution_count": 23,
     "metadata": {},
     "output_type": "execute_result"
    }
   ],
   "source": [
    "from sklearn.metrics import roc_auc_score\n",
    "roc_auc_score(y_train_eight, y_scores)"
   ]
  },
  {
   "cell_type": "code",
   "execution_count": 24,
   "metadata": {},
   "outputs": [
    {
     "data": {
      "image/png": "[encoded data removed]",
      "text/plain": [
       "<Figure size 432x288 with 1 Axes>"
      ]
     },
     "metadata": {
      "needs_background": "light"
     },
     "output_type": "display_data"
    }
   ],
   "source": [
    "y_probas_gnb = cross_val_predict(gnb, X_train, y_train_eight, cv=3, method=\"predict_proba\")\n",
    "y_scores_gnb = y_probas_gnb[:, 1] # score = proba of the positive class\n",
    "fpr_gnb, tpr_gnb, thresholds_gnb = roc_curve(y_train_eight, y_scores_gnb)\n",
    "\n",
    "plt.plot(fpr, tpr, \"b:\", label=\"Logistic Regression\")\n",
    "plot_roc_curve(fpr_gnb, tpr_gnb, \"Gaussian Naive Bayes\")\n",
    "plt.legend(loc=\"lower right\")\n",
    "plt.show()"
   ]
  },
  {
   "cell_type": "code",
   "execution_count": 25,
   "metadata": {},
   "outputs": [
    {
     "data": {
      "text/plain": [
       "0.7886870780725189"
      ]
     },
     "execution_count": 25,
     "metadata": {},
     "output_type": "execute_result"
    }
   ],
   "source": [
    "roc_auc_score(y_train_eight, y_scores_gnb)"
   ]
  },
  {
   "cell_type": "markdown",
   "metadata": {},
   "source": [
    "## Step 4: Data Transformations\n",
    "\n",
    "### Kernel Trick"
   ]
  },
  {
   "cell_type": "code",
   "execution_count": 28,
   "metadata": {},
   "outputs": [
    {
     "name": "stdout",
     "output_type": "stream",
     "text": [
      "(1437, 64) -> (1437, 100)\n"
     ]
    },
    {
     "data": {
      "text/plain": [
       "0.546276965901183"
      ]
     },
     "execution_count": 28,
     "metadata": {},
     "output_type": "execute_result"
    }
   ],
   "source": [
    "from sklearn.kernel_approximation import RBFSampler\n",
    "y_train_example = y_train_one\n",
    "\n",
    "rbf_features = RBFSampler(gamma=1, random_state=42)\n",
    "X_train_features = rbf_features.fit_transform(X_train)\n",
    "print(X_train.shape, \"->\", X_train_features.shape)\n",
    "sgd_rbf = SGDClassifier(max_iter=5, random_state=42, loss=\"perceptron\", \n",
    "                        eta0=1, learning_rate=\"constant\", penalty=None)\n",
    "sgd_rbf.fit(X_train_features, y_train_example) \n",
    "\n",
    "sgd_rbf.score(X_train_features, y_train_example)"
   ]
  },
  {
   "cell_type": "code",
   "execution_count": 29,
   "metadata": {},
   "outputs": [
    {
     "name": "stdout",
     "output_type": "stream",
     "text": [
      "[[1256   35]\n",
      " [  13  133]]\n",
      "0.7916666666666666 0.910958904109589 0.8471337579617834\n",
      "[[1182  109]\n",
      " [ 131   15]]\n",
      "0.12096774193548387 0.10273972602739725 0.1111111111111111\n"
     ]
    }
   ],
   "source": [
    "y_train_pred = cross_val_predict(sgd, X_train, y_train_example, cv=5)\n",
    "precision = precision_score(y_train_example, y_train_pred)\n",
    "recall = recall_score(y_train_example, y_train_pred)\n",
    "f1 = f1_score(y_train_example, y_train_pred)\n",
    "print(confusion_matrix(y_train_example,y_train_pred))\n",
    "print(precision, recall, f1)\n",
    "\n",
    "y_train_pred = cross_val_predict(sgd_rbf, X_train_features, y_train_example, cv=5)\n",
    "precision = precision_score(y_train_example, y_train_pred)\n",
    "recall = recall_score(y_train_example, y_train_pred)\n",
    "f1 = f1_score(y_train_example, y_train_pred)\n",
    "print(confusion_matrix(y_train_example,y_train_pred))\n",
    "print(precision, recall, f1)"
   ]
  },
  {
   "cell_type": "code",
   "execution_count": 30,
   "metadata": {},
   "outputs": [
    {
     "data": {
      "text/plain": [
       "146"
      ]
     },
     "execution_count": 30,
     "metadata": {},
     "output_type": "execute_result"
    }
   ],
   "source": [
    "len([x for x in y_train_example if x])"
   ]
  },
  {
   "cell_type": "code",
   "execution_count": 31,
   "metadata": {},
   "outputs": [
    {
     "data": {
      "text/plain": [
       "array([[1182,  109],\n",
       "       [ 131,   15]])"
      ]
     },
     "execution_count": 31,
     "metadata": {},
     "output_type": "execute_result"
    }
   ],
   "source": [
    "confusion_matrix(y_train_example,y_train_pred)"
   ]
  },
  {
   "cell_type": "code",
   "execution_count": 32,
   "metadata": {},
   "outputs": [
    {
     "data": {
      "text/plain": [
       "0.12096774193548387"
      ]
     },
     "execution_count": 32,
     "metadata": {},
     "output_type": "execute_result"
    }
   ],
   "source": [
    "precision_score(y_train_example,y_train_pred)"
   ]
  },
  {
   "cell_type": "markdown",
   "metadata": {},
   "source": [
    "## Case 2: Multi-class classification"
   ]
  },
  {
   "cell_type": "code",
   "execution_count": 33,
   "metadata": {},
   "outputs": [
    {
     "name": "stdout",
     "output_type": "stream",
     "text": [
      "[0]\n"
     ]
    }
   ],
   "source": [
    "sgd.fit(X_train, y_train) # i.e., all instances, not just one class\n",
    "print(sgd.predict([zero_example]))\n",
    "#print(sgd.predict([versicolor_example]))"
   ]
  },
  {
   "cell_type": "code",
   "execution_count": 34,
   "metadata": {},
   "outputs": [
    {
     "name": "stdout",
     "output_type": "stream",
     "text": [
      "[0]\n"
     ]
    }
   ],
   "source": [
    "sgd_rbf.fit(X_train_features, y_train) # i.e., all instances, not just one class\n",
    "X_test_features = rbf_features.fit_transform(X_test)\n",
    "zero_rbf_example = X_test_features[10] # note that you need to transform the test data in the same way, too\n",
    "\n",
    "print(sgd_rbf.predict([zero_rbf_example]))\n",
    "#print(sgd_rbf.predict([versicolor_rbf_example]))"
   ]
  },
  {
   "cell_type": "code",
   "execution_count": 35,
   "metadata": {},
   "outputs": [
    {
     "name": "stdout",
     "output_type": "stream",
     "text": [
      "[[ 0.67191459  0.36417198 -2.72745012 -0.92646238 -1.2289185  -0.95346482\n",
      "  -3.25240311 -2.96368434 -2.33488139 -0.63756397]]\n",
      "0\n",
      "0\n",
      "0\n"
     ]
    }
   ],
   "source": [
    "zero_scores = sgd_rbf.decision_function([zero_rbf_example])\n",
    "print(zero_scores)\n",
    "\n",
    "# check which class gets the maximum score\n",
    "prediction = np.argmax(zero_scores)\n",
    "print(prediction)\n",
    "# check which class this corresponds to in the classifier\n",
    "print(sgd_rbf.classes_[prediction])\n",
    "print(digits.target_names[sgd_rbf.classes_[prediction]])"
   ]
  },
  {
   "cell_type": "code",
   "execution_count": 36,
   "metadata": {},
   "outputs": [
    {
     "ename": "ValueError",
     "evalue": "X has 100 features per sample; expecting 64",
     "output_type": "error",
     "traceback": [
      "\u001b[0;31m---------------------------------------------------------------------------\u001b[0m",
      "\u001b[0;31mValueError\u001b[0m                                Traceback (most recent call last)",
      "\u001b[0;32m<ipython-input-36-b17c3d2788f4>\u001b[0m in \u001b[0;36m<module>\u001b[0;34m()\u001b[0m\n\u001b[1;32m      4\u001b[0m                                            eta0=1, learning_rate=\"constant\", penalty=None))\n\u001b[1;32m      5\u001b[0m \u001b[0movo_clf\u001b[0m\u001b[0;34m.\u001b[0m\u001b[0mfit\u001b[0m\u001b[0;34m(\u001b[0m\u001b[0mX_train\u001b[0m\u001b[0;34m,\u001b[0m \u001b[0my_train\u001b[0m\u001b[0;34m)\u001b[0m\u001b[0;34m\u001b[0m\u001b[0m\n\u001b[0;32m----> 6\u001b[0;31m \u001b[0movo_clf\u001b[0m\u001b[0;34m.\u001b[0m\u001b[0mpredict\u001b[0m\u001b[0;34m(\u001b[0m\u001b[0;34m[\u001b[0m\u001b[0mzero_rbf_example\u001b[0m\u001b[0;34m]\u001b[0m\u001b[0;34m)\u001b[0m\u001b[0;34m\u001b[0m\u001b[0m\n\u001b[0m",
      "\u001b[0;32m~/anaconda3/lib/python3.6/site-packages/sklearn/multiclass.py\u001b[0m in \u001b[0;36mpredict\u001b[0;34m(self, X)\u001b[0m\n\u001b[1;32m    582\u001b[0m             \u001b[0mPredicted\u001b[0m \u001b[0mmulti\u001b[0m\u001b[0;34m-\u001b[0m\u001b[0;32mclass\u001b[0m \u001b[0mtargets\u001b[0m\u001b[0;34m.\u001b[0m\u001b[0;34m\u001b[0m\u001b[0m\n\u001b[1;32m    583\u001b[0m         \"\"\"\n\u001b[0;32m--> 584\u001b[0;31m         \u001b[0mY\u001b[0m \u001b[0;34m=\u001b[0m \u001b[0mself\u001b[0m\u001b[0;34m.\u001b[0m\u001b[0mdecision_function\u001b[0m\u001b[0;34m(\u001b[0m\u001b[0mX\u001b[0m\u001b[0;34m)\u001b[0m\u001b[0;34m\u001b[0m\u001b[0m\n\u001b[0m\u001b[1;32m    585\u001b[0m         \u001b[0;32mif\u001b[0m \u001b[0mself\u001b[0m\u001b[0;34m.\u001b[0m\u001b[0mn_classes_\u001b[0m \u001b[0;34m==\u001b[0m \u001b[0;36m2\u001b[0m\u001b[0;34m:\u001b[0m\u001b[0;34m\u001b[0m\u001b[0m\n\u001b[1;32m    586\u001b[0m             \u001b[0;32mreturn\u001b[0m \u001b[0mself\u001b[0m\u001b[0;34m.\u001b[0m\u001b[0mclasses_\u001b[0m\u001b[0;34m[\u001b[0m\u001b[0;34m(\u001b[0m\u001b[0mY\u001b[0m \u001b[0;34m>\u001b[0m \u001b[0;36m0\u001b[0m\u001b[0;34m)\u001b[0m\u001b[0;34m.\u001b[0m\u001b[0mastype\u001b[0m\u001b[0;34m(\u001b[0m\u001b[0mnp\u001b[0m\u001b[0;34m.\u001b[0m\u001b[0mint\u001b[0m\u001b[0;34m)\u001b[0m\u001b[0;34m]\u001b[0m\u001b[0;34m\u001b[0m\u001b[0m\n",
      "\u001b[0;32m~/anaconda3/lib/python3.6/site-packages/sklearn/multiclass.py\u001b[0m in \u001b[0;36mdecision_function\u001b[0;34m(self, X)\u001b[0m\n\u001b[1;32m    612\u001b[0m \u001b[0;34m\u001b[0m\u001b[0m\n\u001b[1;32m    613\u001b[0m         predictions = np.vstack([est.predict(Xi)\n\u001b[0;32m--> 614\u001b[0;31m                                  for est, Xi in zip(self.estimators_, Xs)]).T\n\u001b[0m\u001b[1;32m    615\u001b[0m         confidences = np.vstack([_predict_binary(est, Xi)\n\u001b[1;32m    616\u001b[0m                                  for est, Xi in zip(self.estimators_, Xs)]).T\n",
      "\u001b[0;32m~/anaconda3/lib/python3.6/site-packages/sklearn/multiclass.py\u001b[0m in \u001b[0;36m<listcomp>\u001b[0;34m(.0)\u001b[0m\n\u001b[1;32m    612\u001b[0m \u001b[0;34m\u001b[0m\u001b[0m\n\u001b[1;32m    613\u001b[0m         predictions = np.vstack([est.predict(Xi)\n\u001b[0;32m--> 614\u001b[0;31m                                  for est, Xi in zip(self.estimators_, Xs)]).T\n\u001b[0m\u001b[1;32m    615\u001b[0m         confidences = np.vstack([_predict_binary(est, Xi)\n\u001b[1;32m    616\u001b[0m                                  for est, Xi in zip(self.estimators_, Xs)]).T\n",
      "\u001b[0;32m~/anaconda3/lib/python3.6/site-packages/sklearn/linear_model/base.py\u001b[0m in \u001b[0;36mpredict\u001b[0;34m(self, X)\u001b[0m\n\u001b[1;32m    322\u001b[0m             \u001b[0mPredicted\u001b[0m \u001b[0;32mclass\u001b[0m \u001b[0mlabel\u001b[0m \u001b[0mper\u001b[0m \u001b[0msample\u001b[0m\u001b[0;34m.\u001b[0m\u001b[0;34m\u001b[0m\u001b[0m\n\u001b[1;32m    323\u001b[0m         \"\"\"\n\u001b[0;32m--> 324\u001b[0;31m         \u001b[0mscores\u001b[0m \u001b[0;34m=\u001b[0m \u001b[0mself\u001b[0m\u001b[0;34m.\u001b[0m\u001b[0mdecision_function\u001b[0m\u001b[0;34m(\u001b[0m\u001b[0mX\u001b[0m\u001b[0;34m)\u001b[0m\u001b[0;34m\u001b[0m\u001b[0m\n\u001b[0m\u001b[1;32m    325\u001b[0m         \u001b[0;32mif\u001b[0m \u001b[0mlen\u001b[0m\u001b[0;34m(\u001b[0m\u001b[0mscores\u001b[0m\u001b[0;34m.\u001b[0m\u001b[0mshape\u001b[0m\u001b[0;34m)\u001b[0m \u001b[0;34m==\u001b[0m \u001b[0;36m1\u001b[0m\u001b[0;34m:\u001b[0m\u001b[0;34m\u001b[0m\u001b[0m\n\u001b[1;32m    326\u001b[0m             \u001b[0mindices\u001b[0m \u001b[0;34m=\u001b[0m \u001b[0;34m(\u001b[0m\u001b[0mscores\u001b[0m \u001b[0;34m>\u001b[0m \u001b[0;36m0\u001b[0m\u001b[0;34m)\u001b[0m\u001b[0;34m.\u001b[0m\u001b[0mastype\u001b[0m\u001b[0;34m(\u001b[0m\u001b[0mnp\u001b[0m\u001b[0;34m.\u001b[0m\u001b[0mint\u001b[0m\u001b[0;34m)\u001b[0m\u001b[0;34m\u001b[0m\u001b[0m\n",
      "\u001b[0;32m~/anaconda3/lib/python3.6/site-packages/sklearn/linear_model/base.py\u001b[0m in \u001b[0;36mdecision_function\u001b[0;34m(self, X)\u001b[0m\n\u001b[1;32m    303\u001b[0m         \u001b[0;32mif\u001b[0m \u001b[0mX\u001b[0m\u001b[0;34m.\u001b[0m\u001b[0mshape\u001b[0m\u001b[0;34m[\u001b[0m\u001b[0;36m1\u001b[0m\u001b[0;34m]\u001b[0m \u001b[0;34m!=\u001b[0m \u001b[0mn_features\u001b[0m\u001b[0;34m:\u001b[0m\u001b[0;34m\u001b[0m\u001b[0m\n\u001b[1;32m    304\u001b[0m             raise ValueError(\"X has %d features per sample; expecting %d\"\n\u001b[0;32m--> 305\u001b[0;31m                              % (X.shape[1], n_features))\n\u001b[0m\u001b[1;32m    306\u001b[0m \u001b[0;34m\u001b[0m\u001b[0m\n\u001b[1;32m    307\u001b[0m         scores = safe_sparse_dot(X, self.coef_.T,\n",
      "\u001b[0;31mValueError\u001b[0m: X has 100 features per sample; expecting 64"
     ]
    }
   ],
   "source": [
    "from sklearn.multiclass import OneVsOneClassifier\n",
    "\n",
    "ovo_clf = OneVsOneClassifier(SGDClassifier(max_iter=5, random_state=42, loss=\"perceptron\", \n",
    "                                           eta0=1, learning_rate=\"constant\", penalty=None))\n",
    "ovo_clf.fit(X_train, y_train)\n",
    "ovo_clf.predict([zero_rbf_example])\n"
   ]
  },
  {
   "cell_type": "code",
   "execution_count": 37,
   "metadata": {},
   "outputs": [
    {
     "data": {
      "text/plain": [
       "45"
      ]
     },
     "execution_count": 37,
     "metadata": {},
     "output_type": "execute_result"
    }
   ],
   "source": [
    "len(ovo_clf.estimators_)"
   ]
  },
  {
   "cell_type": "code",
   "execution_count": 38,
   "metadata": {},
   "outputs": [
    {
     "data": {
      "text/plain": [
       "array([0])"
      ]
     },
     "execution_count": 38,
     "metadata": {},
     "output_type": "execute_result"
    }
   ],
   "source": [
    "gnb.fit(X_train, y_train)\n",
    "gnb.predict([zero_example])"
   ]
  },
  {
   "cell_type": "code",
   "execution_count": 39,
   "metadata": {},
   "outputs": [
    {
     "data": {
      "text/plain": [
       "array([[1.00000000e+000, 6.08179183e-050, 7.88003495e-098,\n",
       "        3.52388508e-100, 1.94069912e-042, 2.80650069e-066,\n",
       "        0.00000000e+000, 1.58881798e-046, 5.22280251e-047,\n",
       "        1.01554949e-061]])"
      ]
     },
     "execution_count": 39,
     "metadata": {},
     "output_type": "execute_result"
    }
   ],
   "source": [
    "gnb.predict_proba([zero_example])"
   ]
  },
  {
   "cell_type": "code",
   "execution_count": 40,
   "metadata": {},
   "outputs": [
    {
     "name": "stdout",
     "output_type": "stream",
     "text": [
      "[0.94158076 0.91349481 0.94773519 0.85314685 0.88380282]\n",
      "[0.95876289 0.94809689 0.96167247 0.94405594 0.96478873]\n",
      "[0.84879725 0.83737024 0.82229965 0.85314685 0.77464789]\n"
     ]
    }
   ],
   "source": [
    "print(cross_val_score(sgd_rbf, X_train, y_train, cv=5, scoring=\"accuracy\"))\n",
    "print(cross_val_score(ovo_clf, X_train, y_train, cv=5, scoring=\"accuracy\"))\n",
    "print(cross_val_score(gnb, X_train, y_train, cv=5, scoring=\"accuracy\"))"
   ]
  },
  {
   "cell_type": "code",
   "execution_count": 41,
   "metadata": {},
   "outputs": [
    {
     "name": "stdout",
     "output_type": "stream",
     "text": [
      "[0.10309278 0.07958478 0.09407666 0.12587413 0.11267606]\n",
      "[0.10652921 0.08650519 0.11149826 0.08041958 0.1056338 ]\n",
      "[0.78694158 0.78892734 0.77003484 0.8041958  0.72183099]\n"
     ]
    }
   ],
   "source": [
    "from sklearn.preprocessing import StandardScaler, MinMaxScaler\n",
    "\n",
    "scaler = StandardScaler()\n",
    "X_train_scaled = scaler.fit_transform(X_train.astype(np.float64))\n",
    "X_train_features_scaled = scaler.fit_transform(X_train_features.astype(np.float64))\n",
    "\n",
    "print(cross_val_score(sgd_rbf, X_train_features_scaled, y_train, cv=5, scoring=\"accuracy\"))\n",
    "print(cross_val_score(ovo_clf, X_train_features_scaled, y_train, cv=5, scoring=\"accuracy\"))\n",
    "print(cross_val_score(gnb, X_train_scaled, y_train, cv=5, scoring=\"accuracy\"))"
   ]
  },
  {
   "cell_type": "markdown",
   "metadata": {},
   "source": [
    "### Step 5: Error analysis"
   ]
  },
  {
   "cell_type": "code",
   "execution_count": 42,
   "metadata": {},
   "outputs": [
    {
     "data": {
      "text/plain": [
       "array([[ 8, 27,  7, 12, 22,  8,  6,  7,  1, 44],\n",
       "       [10, 17,  6,  3, 36,  8,  9,  7,  0, 50],\n",
       "       [ 5, 24, 13,  8, 23,  6,  5,  5,  2, 51],\n",
       "       [ 9, 25,  8,  7, 25, 12,  6,  5,  4, 45],\n",
       "       [ 9, 27,  5,  6, 16,  9,  9,  6,  4, 54],\n",
       "       [ 5, 25, 11,  6, 22,  8,  7,  7,  1, 53],\n",
       "       [ 8, 24,  9,  8, 25,  6, 11,  5,  6, 43],\n",
       "       [12, 25, 13,  4, 25,  4,  4,  9,  0, 47],\n",
       "       [ 5, 19, 12,  3, 30, 10,  3,  5,  4, 48],\n",
       "       [ 5, 27, 10,  8, 23,  9,  5,  9,  6, 42]])"
      ]
     },
     "execution_count": 42,
     "metadata": {},
     "output_type": "execute_result"
    }
   ],
   "source": [
    "y_train_pred = cross_val_predict(sgd_rbf, X_train_features, y_train, cv=3)\n",
    "conf_mx = confusion_matrix(y_train, y_train_pred)\n",
    "conf_mx"
   ]
  },
  {
   "cell_type": "code",
   "execution_count": 43,
   "metadata": {},
   "outputs": [
    {
     "data": {
      "image/png": "[encoded data removed]",
      "text/plain": [
       "<Figure size 432x288 with 1 Axes>"
      ]
     },
     "metadata": {
      "needs_background": "light"
     },
     "output_type": "display_data"
    }
   ],
   "source": [
    "\n",
    "plt.imshow(conf_mx, cmap = \"jet\")\n",
    "plt.show()"
   ]
  },
  {
   "cell_type": "code",
   "execution_count": 44,
   "metadata": {},
   "outputs": [
    {
     "data": {
      "image/png": "[encoded data removed]",
      "text/plain": [
       "<Figure size 432x288 with 1 Axes>"
      ]
     },
     "metadata": {
      "needs_background": "light"
     },
     "output_type": "display_data"
    }
   ],
   "source": [
    "row_sums = conf_mx.sum(axis=1, keepdims=True)\n",
    "norm_conf_mx = conf_mx / row_sums\n",
    "np.fill_diagonal(norm_conf_mx, 0)\n",
    "plt.imshow(norm_conf_mx, cmap = \"jet\")\n",
    "plt.show()"
   ]
  },
  {
   "cell_type": "markdown",
   "metadata": {},
   "source": [
    "### Final step – evaluating on the test set"
   ]
  },
  {
   "cell_type": "code",
   "execution_count": 45,
   "metadata": {},
   "outputs": [
    {
     "name": "stdout",
     "output_type": "stream",
     "text": [
      "0.8888888888888888\n"
     ]
    },
    {
     "data": {
      "text/plain": [
       "array([[35,  1,  0,  0,  0,  0,  0,  0,  0,  0],\n",
       "       [ 0, 35,  0,  0,  0,  1,  0,  0,  0,  0],\n",
       "       [ 0,  4, 31,  0,  0,  0,  0,  0,  0,  0],\n",
       "       [ 0,  0,  0, 36,  0,  1,  0,  0,  0,  0],\n",
       "       [ 0,  6,  0,  0, 30,  0,  0,  0,  0,  0],\n",
       "       [ 0,  0,  0,  0,  0, 37,  0,  0,  0,  0],\n",
       "       [ 0,  2,  0,  0,  0,  0, 34,  0,  0,  0],\n",
       "       [ 0,  1,  0,  1,  0,  0,  0, 34,  0,  0],\n",
       "       [ 0, 15,  0,  0,  0,  2,  0,  0, 18,  0],\n",
       "       [ 0,  4,  0,  0,  0,  0,  0,  2,  0, 30]])"
      ]
     },
     "execution_count": 45,
     "metadata": {},
     "output_type": "execute_result"
    }
   ],
   "source": [
    "from sklearn.metrics import accuracy_score\n",
    "\n",
    "sgd_rbf.fit(X_train, y_train) \n",
    "#X_test_features_scaled = scaler.fit_transform(X_test_features.astype(np.float64))\n",
    "y_pred = sgd_rbf.predict(X_test)\n",
    "print(accuracy_score(y_test, y_pred))\n",
    "confusion_matrix(y_test, y_pred)"
   ]
  },
  {
   "cell_type": "code",
   "execution_count": 46,
   "metadata": {},
   "outputs": [
    {
     "name": "stdout",
     "output_type": "stream",
     "text": [
      "0.9331101546309579 0.8888888888888888 0.8941795496950958\n"
     ]
    }
   ],
   "source": [
    "precision = precision_score(y_test, y_pred, average='weighted')\n",
    "recall = recall_score(y_test, y_pred, average='weighted')\n",
    "f1 = f1_score(y_test, y_pred, average='weighted')\n",
    "print(precision, recall, f1)"
   ]
  },
  {
   "cell_type": "code",
   "execution_count": 47,
   "metadata": {},
   "outputs": [
    {
     "name": "stdout",
     "output_type": "stream",
     "text": [
      "0.9555555555555556\n"
     ]
    },
    {
     "data": {
      "text/plain": [
       "array([[35,  0,  0,  0,  1,  0,  0,  0,  0,  0],\n",
       "       [ 0, 29,  0,  0,  0,  0,  0,  0,  5,  2],\n",
       "       [ 0,  0, 35,  0,  0,  0,  0,  0,  0,  0],\n",
       "       [ 0,  0,  0, 36,  0,  1,  0,  0,  0,  0],\n",
       "       [ 0,  0,  0,  0, 36,  0,  0,  0,  0,  0],\n",
       "       [ 0,  0,  0,  0,  0, 37,  0,  0,  0,  0],\n",
       "       [ 0,  1,  0,  0,  0,  0, 34,  0,  1,  0],\n",
       "       [ 0,  0,  0,  0,  0,  0,  0, 36,  0,  0],\n",
       "       [ 0,  2,  0,  0,  0,  0,  0,  1, 32,  0],\n",
       "       [ 0,  0,  0,  0,  0,  0,  0,  1,  1, 34]])"
      ]
     },
     "execution_count": 47,
     "metadata": {},
     "output_type": "execute_result"
    }
   ],
   "source": [
    "from sklearn.metrics import accuracy_score\n",
    "\n",
    "ovo_clf.fit(X_train, y_train) \n",
    "#X_test_features_scaled = scaler.fit_transform(X_test_features.astype(np.float64))\n",
    "y_pred = ovo_clf.predict(X_test)\n",
    "print(accuracy_score(y_test, y_pred))\n",
    "confusion_matrix(y_test, y_pred)"
   ]
  },
  {
   "cell_type": "code",
   "execution_count": 48,
   "metadata": {},
   "outputs": [
    {
     "name": "stdout",
     "output_type": "stream",
     "text": [
      "0.9569487630342894 0.9555555555555556 0.955483979541146\n"
     ]
    }
   ],
   "source": [
    "precision = precision_score(y_test, y_pred, average='weighted')\n",
    "recall = recall_score(y_test, y_pred, average='weighted')\n",
    "f1 = f1_score(y_test, y_pred, average='weighted')\n",
    "print(precision, recall, f1)"
   ]
  },
  {
   "cell_type": "code",
   "execution_count": 49,
   "metadata": {},
   "outputs": [
    {
     "name": "stdout",
     "output_type": "stream",
     "text": [
      "0.8111111111111111\n"
     ]
    },
    {
     "data": {
      "text/plain": [
       "array([[33,  0,  0,  0,  1,  1,  0,  0,  1,  0],\n",
       "       [ 0, 29,  1,  0,  0,  0,  1,  0,  3,  2],\n",
       "       [ 0,  3, 19,  0,  0,  0,  0,  0, 13,  0],\n",
       "       [ 0,  0,  1, 26,  0,  0,  0,  1,  8,  1],\n",
       "       [ 0,  2,  0,  0, 26,  0,  1,  6,  1,  0],\n",
       "       [ 0,  0,  0,  0,  0, 35,  0,  1,  0,  1],\n",
       "       [ 0,  1,  0,  0,  0,  0, 35,  0,  0,  0],\n",
       "       [ 0,  0,  0,  0,  0,  1,  0, 35,  0,  0],\n",
       "       [ 0,  4,  1,  0,  0,  0,  0,  1, 29,  0],\n",
       "       [ 0,  3,  1,  0,  0,  0,  0,  4,  3, 25]])"
      ]
     },
     "execution_count": 49,
     "metadata": {},
     "output_type": "execute_result"
    }
   ],
   "source": [
    "# X_test_scaled = scaler.fit_transform(X_test.astype(np.float64))\n",
    "gnb.fit(X_train, y_train)\n",
    "y_pred = gnb.predict(X_test)\n",
    "print(accuracy_score(y_test, y_pred))\n",
    "confusion_matrix(y_test, y_pred)"
   ]
  },
  {
   "cell_type": "code",
   "execution_count": 50,
   "metadata": {},
   "outputs": [
    {
     "name": "stdout",
     "output_type": "stream",
     "text": [
      "0.8479871939298477 0.8111111111111111 0.8150828576150382\n"
     ]
    }
   ],
   "source": [
    "precision = precision_score(y_test, y_pred, average='weighted')\n",
    "recall = recall_score(y_test, y_pred, average='weighted')\n",
    "f1 = f1_score(y_test, y_pred, average='weighted')\n",
    "print(precision, recall, f1)\n"
   ]
  },
  {
   "cell_type": "code",
   "execution_count": null,
   "metadata": {},
   "outputs": [],
   "source": []
  },
  {
   "cell_type": "code",
   "execution_count": null,
   "metadata": {},
   "outputs": [],
   "source": []
  },
  {
   "cell_type": "code",
   "execution_count": null,
   "metadata": {},
   "outputs": [],
   "source": []
  },
  {
   "cell_type": "code",
   "execution_count": null,
   "metadata": {},
   "outputs": [],
   "source": []
  }
 ],
 "metadata": {
  "kernelspec": {
   "display_name": "Python 3",
   "language": "python",
   "name": "python3"
  },
  "language_info": {
   "codemirror_mode": {
    "name": "ipython",
    "version": 3
   },
   "file_extension": ".py",
   "mimetype": "text/x-python",
   "name": "python",
   "nbconvert_exporter": "python",
   "pygments_lexer": "ipython3",
   "version": "3.6.5"
  }
 },
 "nbformat": 4,
 "nbformat_minor": 2
}
