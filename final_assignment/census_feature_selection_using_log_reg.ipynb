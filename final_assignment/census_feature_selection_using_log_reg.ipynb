{
 "cells": [
  {
   "cell_type": "code",
   "execution_count": 1,
   "metadata": {},
   "outputs": [],
   "source": [
    "%run initial_data_transformation_process.ipynb"
   ]
  },
  {
   "cell_type": "code",
   "execution_count": 2,
   "metadata": {},
   "outputs": [
    {
     "data": {
      "text/plain": [
       "LogisticRegression(C=1.0, class_weight=None, dual=False, fit_intercept=True,\n",
       "          intercept_scaling=1, max_iter=100, multi_class='warn',\n",
       "          n_jobs=None, penalty='l2', random_state=None, solver='warn',\n",
       "          tol=0.0001, verbose=0, warm_start=False)"
      ]
     },
     "execution_count": 2,
     "metadata": {},
     "output_type": "execute_result"
    }
   ],
   "source": [
    "from sklearn.linear_model import LogisticRegression\n",
    "\n",
    "census_features = census_train.drop('income',axis=1)\n",
    "census_target = census_train['income'].copy()\n",
    "\n",
    "log_reg = LogisticRegression()\n",
    "log_reg.fit(census_features, census_target)"
   ]
  },
  {
   "cell_type": "code",
   "execution_count": 3,
   "metadata": {},
   "outputs": [],
   "source": [
    "predictions = log_reg.predict(census_features)"
   ]
  },
  {
   "cell_type": "code",
   "execution_count": 4,
   "metadata": {},
   "outputs": [
    {
     "data": {
      "text/plain": [
       "array([0, 0, 0, 0, 0])"
      ]
     },
     "execution_count": 4,
     "metadata": {},
     "output_type": "execute_result"
    }
   ],
   "source": [
    "predictions[0:5]"
   ]
  },
  {
   "cell_type": "code",
   "execution_count": 5,
   "metadata": {},
   "outputs": [
    {
     "data": {
      "text/plain": [
       "array([[18445,  1555],\n",
       "       [ 1734,  8171]])"
      ]
     },
     "execution_count": 5,
     "metadata": {},
     "output_type": "execute_result"
    }
   ],
   "source": [
    "from sklearn.metrics import confusion_matrix\n",
    "confusion_matrix(census_target,predictions)"
   ]
  },
  {
   "cell_type": "code",
   "execution_count": 6,
   "metadata": {},
   "outputs": [
    {
     "name": "stdout",
     "output_type": "stream",
     "text": [
      "0.8900183915733155 0.8401192679415999 0.8249369005552751 0.8324588660791605\n"
     ]
    }
   ],
   "source": [
    "from sklearn.metrics import accuracy_score, precision_score, recall_score, f1_score\n",
    "\n",
    "accuracy = accuracy_score(census_target, predictions)\n",
    "precision = precision_score(census_target, predictions)\n",
    "recall = recall_score(census_target, predictions)\n",
    "f1 = f1_score(census_target, predictions)\n",
    "print(accuracy,precision, recall, f1)"
   ]
  },
  {
   "cell_type": "code",
   "execution_count": 7,
   "metadata": {},
   "outputs": [
    {
     "name": "stdout",
     "output_type": "stream",
     "text": [
      "[[ 0.56778288 -0.57653198  1.55999127  0.26968274  1.10280626  0.052425\n",
      "   0.33611448  0.90759873 -0.08124466 -0.42988399  0.57370742 -0.28822369\n",
      "  -0.04286369  0.99977713  0.42691747 -0.59761315 -0.88379945  0.74733354\n",
      "  -0.64777562 -0.13309701 -0.56197922 -1.31189336  1.58418509 -0.66556081\n",
      "   0.45481653 -0.11248232 -0.10319967  0.05144038 -0.27146731 -0.60308544\n",
      "   0.42665336 -0.14679451 -0.48571812 -0.30492801  0.57370742 -0.37843967\n",
      "  -0.21617961  0.48833138 -0.69833034  0.27524909  0.1129072  -0.01305254\n",
      "   0.21826195 -0.00986282  0.52965481 -1.06763321  0.00635268 -0.48254269\n",
      "  -1.16617359  0.56527253  0.74172802  0.13092235 -0.11243321 -0.12826637\n",
      "  -0.34865263  0.15369241 -0.41768246 -0.28967227  0.38412814 -0.15922238\n",
      "  -0.63786424  0.47386003  0.0113099  -0.33453649 -0.1342018  -0.185663\n",
      "  -0.0033618  -0.04395953  0.51446376 -0.06875991  0.56807117  0.23531578\n",
      "  -0.92270406 -0.31455035  0.19869989  0.01745117 -0.24319964  0.41695556\n",
      "   0.21774117 -0.47297749  0.85336161  0.28548374 -0.06033966 -0.69676086\n",
      "  -0.62459334  0.07277205 -0.73161479 -1.32517984  0.55652149  1.03021991\n",
      "   0.21435558 -0.97156037  0.51446376  1.02401721 -0.10842027 -0.79565354\n",
      "  -0.77362821  0.28548374 -0.94376318  0.14583297 -1.36290295  0.8981881\n",
      "   0.96256984  0.63454322  0.34558466 -0.17798156]]\n"
     ]
    }
   ],
   "source": [
    "print(log_reg.coef_)"
   ]
  },
  {
   "cell_type": "code",
   "execution_count": 8,
   "metadata": {
    "scrolled": true
   },
   "outputs": [],
   "source": [
    "X_test = census_test.drop('income',axis=1)\n",
    "Y_test = census_test['income'].copy()\n",
    "\n",
    "import eli5\n",
    "from eli5.sklearn import PermutationImportance\n",
    "\n",
    "perm = PermutationImportance(log_reg, random_state=1).fit(X_test, Y_test)\n",
    "a = eli5.show_weights(perm, feature_names = X_test.columns.tolist(),top=106)\n",
    "\n",
    "html = a.data\n",
    "with open('original_permutation_importance.html', 'w') as f:\n",
    "    f.write(html)\n"
   ]
  },
  {
   "cell_type": "code",
   "execution_count": 9,
   "metadata": {},
   "outputs": [],
   "source": [
    "extra_columns_to_drop = ['major industry code_Armed Forces',\n",
    "'major industry code_Forestry and fisheries',\n",
    "'worker class_Without pay',\n",
    "'employment status_Part-time/ Unemployed',\n",
    "'major industry code_Medical except hospital',\n",
    "'unemployment reason_Job loser - on layoff',\n",
    "'major industry code_Finance insurance and real estate',\n",
    "'marital status_Never married',\n",
    "'parents-self birth countries_Self US, Parents Other',\n",
    "'tax filer status_Joint - over 65',\n",
    "'year_94',\n",
    "'major industry code_Entertainment',\n",
    "'major industry code_Agriculture',\n",
    "'worker class_Federal government',\n",
    "'major industry code_Public administration',\n",
    "'major occupation code_Precision production craft & repair',\n",
    "'major industry code_N/A or children',\n",
    "'marital status_Married - not together',\n",
    "'major industry code_Personal services except private HH',\n",
    "'major industry code_Utilities and sanitary services',\n",
    "'veterans benefits_Yes',\n",
    "'major industry code_Wholesale trade',\n",
    "'veterans benefits_No',\n",
    "'major occupation code_Armed Forces',\n",
    "'unemployment reason_New entrant',\n",
    "'major industry code_Private household services',\n",
    "'worker class_Never worked',\n",
    "'major occupation code_Technicians and related support',\n",
    "'major occupation code_Farming forestry and fishing',\n",
    "'major industry code_Other professional services',\n",
    "'lived here 1y ago_No',\n",
    "'unemployment reason_Re-entrant',\n",
    "'enrolled/ in education_High school',\n",
    "'unemployment reason_Job leaver',\n",
    "'major industry code_Construction',\n",
    "'unemployment reason_Not In Universe',\n",
    "'tax filer status_Single',\n",
    "'enrolled/ in education_Not In Universe',\n",
    "'major industry code_Manufacturing-durable goods',\n",
    "'unemployment reason_Other job loser',\n",
    "'parents-self birth countries_Self Other',\n",
    "'worker class_Private',\n",
    "'household status_Other',\n",
    "'parents-self birth countries_All US',\n",
    "'major industry code_Manufacturing-nondurable goods',\n",
    "'major occupation code_Transportation and material moving',\n",
    "'major industry code_Transportation',\n",
    "'own business or self-employed_Yes',\n",
    "'major industry code_Business and repair services',\n",
    "'worker class_State government',\n",
    "'major industry code_Communications',\n",
    "'household status_Spouse of Householder',\n",
    "'labor union member_Yes',\n",
    "'tax filer status_Head of household',\n",
    "'major occupation code_Protective services',\n",
    "'worker class_Local government']\n",
    "\n",
    "def drop_further_columns(data):\n",
    "    data.drop(extra_columns_to_drop,inplace=True,axis=1)\n",
    "    return data"
   ]
  },
  {
   "cell_type": "code",
   "execution_count": 10,
   "metadata": {},
   "outputs": [
    {
     "data": {
      "text/plain": [
       "LogisticRegression(C=1.0, class_weight=None, dual=False, fit_intercept=True,\n",
       "          intercept_scaling=1, max_iter=100, multi_class='warn',\n",
       "          n_jobs=None, penalty='l2', random_state=None, solver='warn',\n",
       "          tol=0.0001, verbose=0, warm_start=False)"
      ]
     },
     "execution_count": 10,
     "metadata": {},
     "output_type": "execute_result"
    }
   ],
   "source": [
    "new_census_features = drop_further_columns(census_features)\n",
    "new_census_target = census_target\n",
    "\n",
    "new_log_reg = LogisticRegression()\n",
    "new_log_reg.fit(new_census_features, new_census_target)"
   ]
  },
  {
   "cell_type": "code",
   "execution_count": 11,
   "metadata": {},
   "outputs": [],
   "source": [
    "new_predictions = new_log_reg.predict(new_census_features)"
   ]
  },
  {
   "cell_type": "code",
   "execution_count": 12,
   "metadata": {},
   "outputs": [
    {
     "name": "stdout",
     "output_type": "stream",
     "text": [
      "0.8877445243270357 0.8366234834464322 0.8215042907622413 0.8289949569558351\n"
     ]
    }
   ],
   "source": [
    "new_accuracy = accuracy_score(new_census_target, new_predictions)\n",
    "new_precision = precision_score(new_census_target, new_predictions)\n",
    "new_recall = recall_score(new_census_target, new_predictions)\n",
    "new_f1 = f1_score(new_census_target, new_predictions)\n",
    "print(new_accuracy, new_precision, new_recall, new_f1)"
   ]
  },
  {
   "cell_type": "code",
   "execution_count": 16,
   "metadata": {},
   "outputs": [],
   "source": [
    "X_test = census_test.drop('income',axis=1)\n",
    "X_test = drop_further_columns(X_test)\n",
    "Y_test = census_test['income'].copy()\n",
    "\n",
    "import eli5\n",
    "from eli5.sklearn import PermutationImportance\n",
    "\n",
    "new_perm = PermutationImportance(new_log_reg, random_state=1).fit(X_test, Y_test)\n",
    "a = eli5.show_weights(new_perm, feature_names = X_test.columns.tolist(),top=54)\n",
    "\n",
    "html = a.data\n",
    "with open('new_50_features_permutation_importance.html', 'w') as f:\n",
    "    f.write(html)"
   ]
  },
  {
   "cell_type": "code",
   "execution_count": null,
   "metadata": {},
   "outputs": [],
   "source": [
    "new_data.info()"
   ]
  },
  {
   "cell_type": "code",
   "execution_count": null,
   "metadata": {},
   "outputs": [],
   "source": [
    "# from above we have\n",
    "#census_train = full_data_scaled.loc[train_index]\n",
    "#census_test = full_data_scaled.loc[test_index]"
   ]
  },
  {
   "cell_type": "code",
   "execution_count": null,
   "metadata": {},
   "outputs": [],
   "source": []
  }
 ],
 "metadata": {
  "kernelspec": {
   "display_name": "Python 3",
   "language": "python",
   "name": "python3"
  },
  "language_info": {
   "codemirror_mode": {
    "name": "ipython",
    "version": 3
   },
   "file_extension": ".py",
   "mimetype": "text/x-python",
   "name": "python",
   "nbconvert_exporter": "python",
   "pygments_lexer": "ipython3",
   "version": "3.6.7"
  }
 },
 "nbformat": 4,
 "nbformat_minor": 2
}
