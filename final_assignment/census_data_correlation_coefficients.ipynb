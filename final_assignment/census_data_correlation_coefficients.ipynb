{
 "cells": [
  {
   "cell_type": "code",
   "execution_count": 11,
   "metadata": {},
   "outputs": [
    {
     "data": {
      "text/html": [
       "<div>\n",
       "<style scoped>\n",
       "    .dataframe tbody tr th:only-of-type {\n",
       "        vertical-align: middle;\n",
       "    }\n",
       "\n",
       "    .dataframe tbody tr th {\n",
       "        vertical-align: top;\n",
       "    }\n",
       "\n",
       "    .dataframe thead th {\n",
       "        text-align: right;\n",
       "    }\n",
       "</style>\n",
       "<table border=\"1\" class=\"dataframe\">\n",
       "  <thead>\n",
       "    <tr style=\"text-align: right;\">\n",
       "      <th></th>\n",
       "      <th>age</th>\n",
       "      <th>class of worker</th>\n",
       "      <th>industry code</th>\n",
       "      <th>occupation code</th>\n",
       "      <th>education</th>\n",
       "      <th>wage per hour</th>\n",
       "      <th>enroll in edu inst last wk</th>\n",
       "      <th>marital status</th>\n",
       "      <th>major industry code</th>\n",
       "      <th>major occupation code</th>\n",
       "      <th>...</th>\n",
       "      <th>country of birth father</th>\n",
       "      <th>country of birth mother</th>\n",
       "      <th>country of birth self</th>\n",
       "      <th>citizenship</th>\n",
       "      <th>own business or self employed</th>\n",
       "      <th>fill inc questionnaire for veterans admin</th>\n",
       "      <th>veterans benefits</th>\n",
       "      <th>weeks worked in year</th>\n",
       "      <th>year</th>\n",
       "      <th>income</th>\n",
       "    </tr>\n",
       "  </thead>\n",
       "  <tbody>\n",
       "    <tr>\n",
       "      <th>0</th>\n",
       "      <td>48</td>\n",
       "      <td>Private</td>\n",
       "      <td>40</td>\n",
       "      <td>10</td>\n",
       "      <td>Some college but no degree</td>\n",
       "      <td>1200</td>\n",
       "      <td>NaN</td>\n",
       "      <td>Married-civilian spouse present</td>\n",
       "      <td>Entertainment</td>\n",
       "      <td>Professional specialty</td>\n",
       "      <td>...</td>\n",
       "      <td>Philippines</td>\n",
       "      <td>United-States</td>\n",
       "      <td>United-States</td>\n",
       "      <td>Native- Born in the United States</td>\n",
       "      <td>2</td>\n",
       "      <td>NaN</td>\n",
       "      <td>2</td>\n",
       "      <td>52</td>\n",
       "      <td>95</td>\n",
       "      <td>0</td>\n",
       "    </tr>\n",
       "    <tr>\n",
       "      <th>1</th>\n",
       "      <td>47</td>\n",
       "      <td>Local government</td>\n",
       "      <td>43</td>\n",
       "      <td>26</td>\n",
       "      <td>Some college but no degree</td>\n",
       "      <td>876</td>\n",
       "      <td>NaN</td>\n",
       "      <td>Married-civilian spouse present</td>\n",
       "      <td>Education</td>\n",
       "      <td>Adm support including clerical</td>\n",
       "      <td>...</td>\n",
       "      <td>United-States</td>\n",
       "      <td>United-States</td>\n",
       "      <td>United-States</td>\n",
       "      <td>Native- Born in the United States</td>\n",
       "      <td>0</td>\n",
       "      <td>NaN</td>\n",
       "      <td>2</td>\n",
       "      <td>52</td>\n",
       "      <td>95</td>\n",
       "      <td>0</td>\n",
       "    </tr>\n",
       "    <tr>\n",
       "      <th>2</th>\n",
       "      <td>56</td>\n",
       "      <td>Private</td>\n",
       "      <td>35</td>\n",
       "      <td>22</td>\n",
       "      <td>Some college but no degree</td>\n",
       "      <td>500</td>\n",
       "      <td>NaN</td>\n",
       "      <td>Married-civilian spouse present</td>\n",
       "      <td>Finance insurance and real estate</td>\n",
       "      <td>Adm support including clerical</td>\n",
       "      <td>...</td>\n",
       "      <td>United-States</td>\n",
       "      <td>United-States</td>\n",
       "      <td>United-States</td>\n",
       "      <td>Native- Born in the United States</td>\n",
       "      <td>2</td>\n",
       "      <td>NaN</td>\n",
       "      <td>2</td>\n",
       "      <td>32</td>\n",
       "      <td>95</td>\n",
       "      <td>0</td>\n",
       "    </tr>\n",
       "    <tr>\n",
       "      <th>3</th>\n",
       "      <td>66</td>\n",
       "      <td>Private</td>\n",
       "      <td>37</td>\n",
       "      <td>36</td>\n",
       "      <td>Some college but no degree</td>\n",
       "      <td>400</td>\n",
       "      <td>NaN</td>\n",
       "      <td>Married-civilian spouse present</td>\n",
       "      <td>Business and repair services</td>\n",
       "      <td>Machine operators assmblrs &amp; inspctrs</td>\n",
       "      <td>...</td>\n",
       "      <td>United-States</td>\n",
       "      <td>United-States</td>\n",
       "      <td>United-States</td>\n",
       "      <td>Native- Born in the United States</td>\n",
       "      <td>0</td>\n",
       "      <td>NaN</td>\n",
       "      <td>2</td>\n",
       "      <td>52</td>\n",
       "      <td>95</td>\n",
       "      <td>0</td>\n",
       "    </tr>\n",
       "    <tr>\n",
       "      <th>4</th>\n",
       "      <td>42</td>\n",
       "      <td>Self-employed-incorporated</td>\n",
       "      <td>37</td>\n",
       "      <td>2</td>\n",
       "      <td>Some college but no degree</td>\n",
       "      <td>0</td>\n",
       "      <td>NaN</td>\n",
       "      <td>Married-civilian spouse present</td>\n",
       "      <td>Business and repair services</td>\n",
       "      <td>Executive admin and managerial</td>\n",
       "      <td>...</td>\n",
       "      <td>United-States</td>\n",
       "      <td>United-States</td>\n",
       "      <td>United-States</td>\n",
       "      <td>Native- Born in the United States</td>\n",
       "      <td>0</td>\n",
       "      <td>NaN</td>\n",
       "      <td>2</td>\n",
       "      <td>52</td>\n",
       "      <td>95</td>\n",
       "      <td>1</td>\n",
       "    </tr>\n",
       "  </tbody>\n",
       "</table>\n",
       "<p>5 rows × 42 columns</p>\n",
       "</div>"
      ],
      "text/plain": [
       "   age             class of worker  industry code  occupation code  \\\n",
       "0   48                     Private             40               10   \n",
       "1   47            Local government             43               26   \n",
       "2   56                     Private             35               22   \n",
       "3   66                     Private             37               36   \n",
       "4   42  Self-employed-incorporated             37                2   \n",
       "\n",
       "                    education  wage per hour enroll in edu inst last wk  \\\n",
       "0  Some college but no degree           1200                        NaN   \n",
       "1  Some college but no degree            876                        NaN   \n",
       "2  Some college but no degree            500                        NaN   \n",
       "3  Some college but no degree            400                        NaN   \n",
       "4  Some college but no degree              0                        NaN   \n",
       "\n",
       "                    marital status                major industry code  \\\n",
       "0  Married-civilian spouse present                      Entertainment   \n",
       "1  Married-civilian spouse present                          Education   \n",
       "2  Married-civilian spouse present  Finance insurance and real estate   \n",
       "3  Married-civilian spouse present       Business and repair services   \n",
       "4  Married-civilian spouse present       Business and repair services   \n",
       "\n",
       "                   major occupation code  ...   country of birth father  \\\n",
       "0                 Professional specialty  ...               Philippines   \n",
       "1         Adm support including clerical  ...             United-States   \n",
       "2         Adm support including clerical  ...             United-States   \n",
       "3  Machine operators assmblrs & inspctrs  ...             United-States   \n",
       "4         Executive admin and managerial  ...             United-States   \n",
       "\n",
       "  country of birth mother country of birth self  \\\n",
       "0           United-States         United-States   \n",
       "1           United-States         United-States   \n",
       "2           United-States         United-States   \n",
       "3           United-States         United-States   \n",
       "4           United-States         United-States   \n",
       "\n",
       "                         citizenship own business or self employed  \\\n",
       "0  Native- Born in the United States                             2   \n",
       "1  Native- Born in the United States                             0   \n",
       "2  Native- Born in the United States                             2   \n",
       "3  Native- Born in the United States                             0   \n",
       "4  Native- Born in the United States                             0   \n",
       "\n",
       "  fill inc questionnaire for veterans admin  veterans benefits  \\\n",
       "0                                       NaN                  2   \n",
       "1                                       NaN                  2   \n",
       "2                                       NaN                  2   \n",
       "3                                       NaN                  2   \n",
       "4                                       NaN                  2   \n",
       "\n",
       "   weeks worked in year  year income  \n",
       "0                    52    95      0  \n",
       "1                    52    95      0  \n",
       "2                    32    95      0  \n",
       "3                    52    95      0  \n",
       "4                    52    95      1  \n",
       "\n",
       "[5 rows x 42 columns]"
      ]
     },
     "execution_count": 11,
     "metadata": {},
     "output_type": "execute_result"
    }
   ],
   "source": [
    "%matplotlib inline\n",
    "import pandas as pd\n",
    "import numpy as np\n",
    "import matplotlib.pyplot as plt\n",
    "import seaborn as sns\n",
    "\n",
    "census_original = pd.read_csv(\"data/census-income.csv\")\n",
    "census = census_original.copy()\n",
    "census.head()"
   ]
  },
  {
   "cell_type": "code",
   "execution_count": 12,
   "metadata": {},
   "outputs": [
    {
     "name": "stdout",
     "output_type": "stream",
     "text": [
      "<class 'pandas.core.frame.DataFrame'>\n",
      "RangeIndex: 37382 entries, 0 to 37381\n",
      "Data columns (total 42 columns):\n",
      "age                                          37382 non-null int64\n",
      "class of worker                              28594 non-null object\n",
      "industry code                                37382 non-null int64\n",
      "occupation code                              37382 non-null int64\n",
      "education                                    37382 non-null object\n",
      "wage per hour                                37382 non-null int64\n",
      "enroll in edu inst last wk                   2097 non-null object\n",
      "marital status                               37382 non-null object\n",
      "major industry code                          37382 non-null object\n",
      "major occupation code                        28563 non-null object\n",
      "race                                         37382 non-null object\n",
      "hispanic origin                              37262 non-null object\n",
      "sex                                          37382 non-null object\n",
      "member of a labor union                      13499 non-null object\n",
      "reason for unemployment                      630 non-null object\n",
      "full or part time employment stat            37382 non-null object\n",
      "capital gains                                37382 non-null int64\n",
      "capital losses                               37382 non-null int64\n",
      "dividends from stocks                        37382 non-null int64\n",
      "tax filer status                             37382 non-null object\n",
      "region of previous residence                 2672 non-null object\n",
      "state of previous residence                  2672 non-null object\n",
      "detailed household and family stat           37382 non-null object\n",
      "detailed household summary in household      37382 non-null object\n",
      "instance weight                              37382 non-null float64\n",
      "migration code-change in msa                 37254 non-null object\n",
      "migration code-change in reg                 37254 non-null object\n",
      "migration code-move within reg               37254 non-null object\n",
      "live in this house 1 year ago                37382 non-null object\n",
      "migration prev res in sunbelt                21776 non-null object\n",
      "num persons worked for employer              37382 non-null int64\n",
      "family members under 18                      4784 non-null object\n",
      "country of birth father                      37382 non-null object\n",
      "country of birth mother                      37382 non-null object\n",
      "country of birth self                        37382 non-null object\n",
      "citizenship                                  37382 non-null object\n",
      "own business or self employed                37382 non-null int64\n",
      "fill inc questionnaire for veterans admin    444 non-null object\n",
      "veterans benefits                            37382 non-null int64\n",
      "weeks worked in year                         37382 non-null int64\n",
      "year                                         37382 non-null int64\n",
      "income                                       37382 non-null int64\n",
      "dtypes: float64(1), int64(13), object(28)\n",
      "memory usage: 12.0+ MB\n"
     ]
    }
   ],
   "source": [
    "census.info()"
   ]
  },
  {
   "cell_type": "code",
   "execution_count": 13,
   "metadata": {},
   "outputs": [],
   "source": [
    "null_entries_list = ['class of worker','enroll in edu inst last wk','major occupation code',\n",
    "                            'member of a labor union','reason for unemployment','region of previous residence',\n",
    "                            'state of previous residence','migration code-change in msa',\n",
    "                            'migration code-change in reg','migration code-move within reg',\n",
    "                            'migration prev res in sunbelt','family members under 18',\n",
    "                            'fill inc questionnaire for veterans admin']\n",
    "null_census = census[null_entries_list]"
   ]
  },
  {
   "cell_type": "code",
   "execution_count": 14,
   "metadata": {},
   "outputs": [
    {
     "data": {
      "text/plain": [
       "<matplotlib.axes._subplots.AxesSubplot at 0x7f5f7a406ef0>"
      ]
     },
     "execution_count": 14,
     "metadata": {},
     "output_type": "execute_result"
    },
    {
     "data": {
      "image/png": "[encoded data removed]",
      "text/plain": [
       "<Figure size 432x288 with 1 Axes>"
      ]
     },
     "metadata": {
      "needs_background": "light"
     },
     "output_type": "display_data"
    }
   ],
   "source": [
    "sns.heatmap(null_census.isnull(), cbar=False)"
   ]
  },
  {
   "cell_type": "code",
   "execution_count": 15,
   "metadata": {},
   "outputs": [
    {
     "data": {
      "text/plain": [
       "?                   19104\n",
       "Nonmover            15478\n",
       "MSA to MSA           1886\n",
       "NonMSA to nonMSA      439\n",
       "MSA to nonMSA         114\n",
       "NonMSA to MSA          96\n",
       "Abroad to MSA          65\n",
       "Not identifiable       64\n",
       "Abroad to nonMSA        8\n",
       "Name: migration code-change in msa, dtype: int64"
      ]
     },
     "execution_count": 15,
     "metadata": {},
     "output_type": "execute_result"
    }
   ],
   "source": [
    "census['migration code-change in msa'].value_counts()"
   ]
  },
  {
   "cell_type": "code",
   "execution_count": 20,
   "metadata": {},
   "outputs": [],
   "source": [
    "import scipy.stats as ss\n",
    "def cramers_corrected_stat(confusion_matrix):\n",
    "    \"\"\" calculate Cramers V statistic for categorial-categorial association.\n",
    "        uses correction from Bergsma and Wicher, \n",
    "        Journal of the Korean Statistical Society 42 (2013): 323-328\n",
    "    \"\"\"\n",
    "    chi2 = ss.chi2_contingency(confusion_matrix)[0]\n",
    "    n = confusion_matrix.sum().sum()\n",
    "    phi2 = chi2/n\n",
    "    r,k = confusion_matrix.shape\n",
    "    phi2corr = max(0, phi2 - ((k-1)*(r-1))/(n-1))    \n",
    "    rcorr = r - ((r-1)**2)/(n-1)\n",
    "    kcorr = k - ((k-1)**2)/(n-1)\n",
    "    return np.sqrt(phi2corr / min( (kcorr-1), (rcorr-1)))"
   ]
  },
  {
   "cell_type": "code",
   "execution_count": 22,
   "metadata": {},
   "outputs": [
    {
     "data": {
      "text/plain": [
       "0.06594863517888182"
      ]
     },
     "execution_count": 22,
     "metadata": {},
     "output_type": "execute_result"
    }
   ],
   "source": [
    "confusion_matrix = pd.crosstab(census['migration code-change in msa'], census['income'])\n",
    "cramers_corrected_stat(confusion_matrix)"
   ]
  },
  {
   "cell_type": "code",
   "execution_count": 23,
   "metadata": {},
   "outputs": [
    {
     "data": {
      "text/plain": [
       "0.06474598918733648"
      ]
     },
     "execution_count": 23,
     "metadata": {},
     "output_type": "execute_result"
    }
   ],
   "source": [
    "confusion_matrix = pd.crosstab(census['migration code-change in reg'], census['income'])\n",
    "cramers_corrected_stat(confusion_matrix)"
   ]
  },
  {
   "cell_type": "code",
   "execution_count": 24,
   "metadata": {},
   "outputs": [
    {
     "data": {
      "text/plain": [
       "0.2641085447596001"
      ]
     },
     "execution_count": 24,
     "metadata": {},
     "output_type": "execute_result"
    }
   ],
   "source": [
    "confusion_matrix = pd.crosstab(census['class of worker'], census['income'])\n",
    "cramers_corrected_stat(confusion_matrix)"
   ]
  },
  {
   "cell_type": "code",
   "execution_count": 25,
   "metadata": {},
   "outputs": [
    {
     "data": {
      "text/plain": [
       "0.12360897567265648"
      ]
     },
     "execution_count": 25,
     "metadata": {},
     "output_type": "execute_result"
    }
   ],
   "source": [
    "confusion_matrix = pd.crosstab(census['race'], census['income'])\n",
    "cramers_corrected_stat(confusion_matrix)"
   ]
  },
  {
   "cell_type": "code",
   "execution_count": 46,
   "metadata": {},
   "outputs": [
    {
     "name": "stdout",
     "output_type": "stream",
     "text": [
      "                                      Feature  Cramer Coef.  Count\n",
      "1                                   education      0.573069  37382\n",
      "5                       major occupation code      0.528456  28563\n",
      "15         detailed household and family stat      0.417755  37382\n",
      "16    detailed household summary in household      0.405074  37382\n",
      "4                         major industry code      0.377083  37382\n",
      "12                           tax filer status      0.368011  37382\n",
      "3                              marital status      0.341098  37382\n",
      "8                                         sex      0.310995  37382\n",
      "0                             class of worker      0.264109  28594\n",
      "10                    reason for unemployment      0.246388    630\n",
      "28  fill inc questionnaire for veterans admin      0.182658    444\n",
      "11          full or part time employment stat      0.162522  37382\n",
      "23                    country of birth father      0.139824  37382\n",
      "24                    country of birth mother      0.132769  37382\n",
      "7                             hispanic origin      0.124004  37262\n",
      "6                                        race      0.123609  37382\n",
      "25                      country of birth self      0.114645  37382\n",
      "14                state of previous residence      0.112449   2672\n",
      "27              own business or self employed      0.103282  37382\n",
      "13               region of previous residence      0.085737   2672\n",
      "21              migration prev res in sunbelt      0.077858  21776\n",
      "2                  enroll in edu inst last wk      0.073304   2097\n",
      "26                                citizenship      0.070347  37382\n",
      "17               migration code-change in msa      0.065949  37254\n",
      "18               migration code-change in reg      0.064746  37254\n",
      "19             migration code-move within reg      0.064686  37254\n",
      "20              live in this house 1 year ago      0.058535  37382\n",
      "9                     member of a labor union      0.019185  13499\n",
      "22                    family members under 18      0.000000   4784\n",
      "                            Feature  Pearson Coef.  Count\n",
      "12                           income       1.000000  37382\n",
      "10             weeks worked in year       0.366902  37382\n",
      "0                               age       0.297212  37382\n",
      "8   num persons worked for employer       0.255720  37382\n",
      "9                 veterans benefits       0.224425  37382\n",
      "4                     capital gains       0.218972  37382\n",
      "1                     industry code       0.214756  37382\n",
      "5                    capital losses       0.184783  37382\n",
      "6             dividends from stocks       0.167684  37382\n",
      "11                             year       0.024469  37382\n",
      "7                   instance weight       0.017691  37382\n",
      "2                   occupation code      -0.176494  37382\n",
      "3                     wage per hour      -0.261534  37382\n"
     ]
    }
   ],
   "source": [
    "corr_matrix = census.corr(method = 'pearson')\n",
    "incomes = census['income']\n",
    "cramer_cols = []\n",
    "cramer_vals = []\n",
    "pearson_cols = []\n",
    "pearson_vals = []\n",
    "cramer_counts = []\n",
    "pearson_counts = []\n",
    "for col in list(census.columns.values):\n",
    "    series = census[col]\n",
    "    dtype = series.dtype\n",
    "    if (dtype != np.int64 and dtype != np.float64) or col == \"own business or self employed\":\n",
    "        confusion_matrix = pd.crosstab(series, incomes)\n",
    "        cramer = cramers_corrected_stat(confusion_matrix)\n",
    "        cramer_cols.append(col)\n",
    "        cramer_vals.append(cramer)\n",
    "        cramer_counts.append(len(series)-sum(series.isnull()))\n",
    "    else:\n",
    "        pearson = corr_matrix['income'][col]\n",
    "        pearson_cols.append(col)\n",
    "        pearson_vals.append(pearson)\n",
    "        pearson_counts.append(len(series)-sum(series.isnull()))\n",
    "cramer_dict = {'Feature':cramer_cols,'Cramer Coef.':cramer_vals,'Count':cramer_counts}\n",
    "cramer_df = pd.DataFrame(cramer_dict)\n",
    "\n",
    "pearson_dict = {'Feature':pearson_cols,'Pearson Coef.':pearson_vals,'Count':pearson_counts}\n",
    "pearson_df = pd.DataFrame(pearson_dict)\n",
    "\n",
    "cramer_df.sort_values(by='Cramer Coef.',axis=0,ascending=False,inplace=True)\n",
    "print(cramer_df)\n",
    "pearson_df.sort_values(by='Pearson Coef.',axis=0,ascending=False,inplace=True)\n",
    "print(pearson_df)"
   ]
  },
  {
   "cell_type": "code",
   "execution_count": null,
   "metadata": {},
   "outputs": [],
   "source": []
  }
 ],
 "metadata": {
  "kernelspec": {
   "display_name": "Python 3",
   "language": "python",
   "name": "python3"
  },
  "language_info": {
   "codemirror_mode": {
    "name": "ipython",
    "version": 3
   },
   "file_extension": ".py",
   "mimetype": "text/x-python",
   "name": "python",
   "nbconvert_exporter": "python",
   "pygments_lexer": "ipython3",
   "version": "3.6.7"
  }
 },
 "nbformat": 4,
 "nbformat_minor": 2
}
