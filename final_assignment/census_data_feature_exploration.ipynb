{
 "cells": [
  {
   "cell_type": "code",
   "execution_count": 32,
   "metadata": {},
   "outputs": [
    {
     "data": {
      "text/html": [
       "<div>\n",
       "<style scoped>\n",
       "    .dataframe tbody tr th:only-of-type {\n",
       "        vertical-align: middle;\n",
       "    }\n",
       "\n",
       "    .dataframe tbody tr th {\n",
       "        vertical-align: top;\n",
       "    }\n",
       "\n",
       "    .dataframe thead th {\n",
       "        text-align: right;\n",
       "    }\n",
       "</style>\n",
       "<table border=\"1\" class=\"dataframe\">\n",
       "  <thead>\n",
       "    <tr style=\"text-align: right;\">\n",
       "      <th></th>\n",
       "      <th>age</th>\n",
       "      <th>class of worker</th>\n",
       "      <th>industry code</th>\n",
       "      <th>occupation code</th>\n",
       "      <th>education</th>\n",
       "      <th>wage per hour</th>\n",
       "      <th>enroll in edu inst last wk</th>\n",
       "      <th>marital status</th>\n",
       "      <th>major industry code</th>\n",
       "      <th>major occupation code</th>\n",
       "      <th>...</th>\n",
       "      <th>country of birth father</th>\n",
       "      <th>country of birth mother</th>\n",
       "      <th>country of birth self</th>\n",
       "      <th>citizenship</th>\n",
       "      <th>own business or self employed</th>\n",
       "      <th>fill inc questionnaire for veterans admin</th>\n",
       "      <th>veterans benefits</th>\n",
       "      <th>weeks worked in year</th>\n",
       "      <th>year</th>\n",
       "      <th>income</th>\n",
       "    </tr>\n",
       "  </thead>\n",
       "  <tbody>\n",
       "    <tr>\n",
       "      <th>30828</th>\n",
       "      <td>51</td>\n",
       "      <td>Private</td>\n",
       "      <td>9</td>\n",
       "      <td>36</td>\n",
       "      <td>High school graduate</td>\n",
       "      <td>0</td>\n",
       "      <td>NaN</td>\n",
       "      <td>Married-civilian spouse present</td>\n",
       "      <td>Manufacturing-durable goods</td>\n",
       "      <td>Machine operators assmblrs &amp; inspctrs</td>\n",
       "      <td>...</td>\n",
       "      <td>United-States</td>\n",
       "      <td>United-States</td>\n",
       "      <td>United-States</td>\n",
       "      <td>Native- Born in the United States</td>\n",
       "      <td>0</td>\n",
       "      <td>NaN</td>\n",
       "      <td>2</td>\n",
       "      <td>52</td>\n",
       "      <td>94</td>\n",
       "      <td>0</td>\n",
       "    </tr>\n",
       "    <tr>\n",
       "      <th>34015</th>\n",
       "      <td>25</td>\n",
       "      <td>Private</td>\n",
       "      <td>19</td>\n",
       "      <td>42</td>\n",
       "      <td>5th or 6th grade</td>\n",
       "      <td>0</td>\n",
       "      <td>NaN</td>\n",
       "      <td>Never married</td>\n",
       "      <td>Manufacturing-nondurable goods</td>\n",
       "      <td>Handlers equip cleaners etc</td>\n",
       "      <td>...</td>\n",
       "      <td>Mexico</td>\n",
       "      <td>Mexico</td>\n",
       "      <td>Mexico</td>\n",
       "      <td>Foreign born- Not a citizen of U S</td>\n",
       "      <td>0</td>\n",
       "      <td>NaN</td>\n",
       "      <td>2</td>\n",
       "      <td>32</td>\n",
       "      <td>94</td>\n",
       "      <td>0</td>\n",
       "    </tr>\n",
       "    <tr>\n",
       "      <th>23303</th>\n",
       "      <td>41</td>\n",
       "      <td>Self-employed-not incorporated</td>\n",
       "      <td>45</td>\n",
       "      <td>11</td>\n",
       "      <td>Doctorate degree(PhD EdD)</td>\n",
       "      <td>0</td>\n",
       "      <td>NaN</td>\n",
       "      <td>Never married</td>\n",
       "      <td>Other professional services</td>\n",
       "      <td>Professional specialty</td>\n",
       "      <td>...</td>\n",
       "      <td>United-States</td>\n",
       "      <td>United-States</td>\n",
       "      <td>United-States</td>\n",
       "      <td>Native- Born in the United States</td>\n",
       "      <td>0</td>\n",
       "      <td>NaN</td>\n",
       "      <td>2</td>\n",
       "      <td>52</td>\n",
       "      <td>94</td>\n",
       "      <td>0</td>\n",
       "    </tr>\n",
       "    <tr>\n",
       "      <th>21506</th>\n",
       "      <td>34</td>\n",
       "      <td>Private</td>\n",
       "      <td>35</td>\n",
       "      <td>16</td>\n",
       "      <td>Masters degree(MA MS MEng MEd MSW MBA)</td>\n",
       "      <td>0</td>\n",
       "      <td>NaN</td>\n",
       "      <td>Never married</td>\n",
       "      <td>Finance insurance and real estate</td>\n",
       "      <td>Sales</td>\n",
       "      <td>...</td>\n",
       "      <td>United-States</td>\n",
       "      <td>United-States</td>\n",
       "      <td>United-States</td>\n",
       "      <td>Native- Born in the United States</td>\n",
       "      <td>0</td>\n",
       "      <td>NaN</td>\n",
       "      <td>2</td>\n",
       "      <td>52</td>\n",
       "      <td>95</td>\n",
       "      <td>1</td>\n",
       "    </tr>\n",
       "    <tr>\n",
       "      <th>9208</th>\n",
       "      <td>23</td>\n",
       "      <td>Private</td>\n",
       "      <td>40</td>\n",
       "      <td>29</td>\n",
       "      <td>High school graduate</td>\n",
       "      <td>350</td>\n",
       "      <td>NaN</td>\n",
       "      <td>Never married</td>\n",
       "      <td>Entertainment</td>\n",
       "      <td>Other service</td>\n",
       "      <td>...</td>\n",
       "      <td>United-States</td>\n",
       "      <td>United-States</td>\n",
       "      <td>United-States</td>\n",
       "      <td>Native- Born in the United States</td>\n",
       "      <td>0</td>\n",
       "      <td>NaN</td>\n",
       "      <td>2</td>\n",
       "      <td>52</td>\n",
       "      <td>95</td>\n",
       "      <td>0</td>\n",
       "    </tr>\n",
       "  </tbody>\n",
       "</table>\n",
       "<p>5 rows × 42 columns</p>\n",
       "</div>"
      ],
      "text/plain": [
       "       age                 class of worker  industry code  occupation code  \\\n",
       "30828   51                         Private              9               36   \n",
       "34015   25                         Private             19               42   \n",
       "23303   41  Self-employed-not incorporated             45               11   \n",
       "21506   34                         Private             35               16   \n",
       "9208    23                         Private             40               29   \n",
       "\n",
       "                                    education  wage per hour  \\\n",
       "30828                    High school graduate              0   \n",
       "34015                        5th or 6th grade              0   \n",
       "23303               Doctorate degree(PhD EdD)              0   \n",
       "21506  Masters degree(MA MS MEng MEd MSW MBA)              0   \n",
       "9208                     High school graduate            350   \n",
       "\n",
       "      enroll in edu inst last wk                   marital status  \\\n",
       "30828                        NaN  Married-civilian spouse present   \n",
       "34015                        NaN                    Never married   \n",
       "23303                        NaN                    Never married   \n",
       "21506                        NaN                    Never married   \n",
       "9208                         NaN                    Never married   \n",
       "\n",
       "                     major industry code  \\\n",
       "30828        Manufacturing-durable goods   \n",
       "34015     Manufacturing-nondurable goods   \n",
       "23303        Other professional services   \n",
       "21506  Finance insurance and real estate   \n",
       "9208                       Entertainment   \n",
       "\n",
       "                       major occupation code  ...   country of birth father  \\\n",
       "30828  Machine operators assmblrs & inspctrs  ...             United-States   \n",
       "34015            Handlers equip cleaners etc  ...                    Mexico   \n",
       "23303                 Professional specialty  ...             United-States   \n",
       "21506                                  Sales  ...             United-States   \n",
       "9208                           Other service  ...             United-States   \n",
       "\n",
       "      country of birth mother country of birth self  \\\n",
       "30828           United-States         United-States   \n",
       "34015                  Mexico                Mexico   \n",
       "23303           United-States         United-States   \n",
       "21506           United-States         United-States   \n",
       "9208            United-States         United-States   \n",
       "\n",
       "                              citizenship own business or self employed  \\\n",
       "30828   Native- Born in the United States                             0   \n",
       "34015  Foreign born- Not a citizen of U S                             0   \n",
       "23303   Native- Born in the United States                             0   \n",
       "21506   Native- Born in the United States                             0   \n",
       "9208    Native- Born in the United States                             0   \n",
       "\n",
       "      fill inc questionnaire for veterans admin  veterans benefits  \\\n",
       "30828                                       NaN                  2   \n",
       "34015                                       NaN                  2   \n",
       "23303                                       NaN                  2   \n",
       "21506                                       NaN                  2   \n",
       "9208                                        NaN                  2   \n",
       "\n",
       "       weeks worked in year  year income  \n",
       "30828                    52    94      0  \n",
       "34015                    32    94      0  \n",
       "23303                    52    94      0  \n",
       "21506                    52    95      1  \n",
       "9208                     52    95      0  \n",
       "\n",
       "[5 rows x 42 columns]"
      ]
     },
     "execution_count": 32,
     "metadata": {},
     "output_type": "execute_result"
    }
   ],
   "source": [
    "%matplotlib inline\n",
    "import pandas as pd\n",
    "import numpy as np\n",
    "import matplotlib.pyplot as plt\n",
    "import seaborn as sns\n",
    "from sklearn.model_selection import StratifiedShuffleSplit\n",
    "import time\n",
    "\n",
    "census_original = pd.read_csv(\"data/census-income.csv\")\n",
    "census = census_original.copy()\n",
    "\n",
    "split = StratifiedShuffleSplit(n_splits=1, test_size=0.01, random_state=42)\n",
    "for big_set_index, small_set_index in split.split(census, census[\"income\"]):\n",
    "    big_set = census.loc[big_set_index]\n",
    "    small_set = census.loc[small_set_index]\n",
    "    \n",
    "small_set.head()"
   ]
  },
  {
   "cell_type": "code",
   "execution_count": 4,
   "metadata": {},
   "outputs": [
    {
     "name": "stdout",
     "output_type": "stream",
     "text": [
      "<class 'pandas.core.frame.DataFrame'>\n",
      "RangeIndex: 37382 entries, 0 to 37381\n",
      "Data columns (total 42 columns):\n",
      "age                                          37382 non-null int64\n",
      "class of worker                              28594 non-null object\n",
      "industry code                                37382 non-null int64\n",
      "occupation code                              37382 non-null int64\n",
      "education                                    37382 non-null object\n",
      "wage per hour                                37382 non-null int64\n",
      "enroll in edu inst last wk                   2097 non-null object\n",
      "marital status                               37382 non-null object\n",
      "major industry code                          37382 non-null object\n",
      "major occupation code                        28563 non-null object\n",
      "race                                         37382 non-null object\n",
      "hispanic origin                              37262 non-null object\n",
      "sex                                          37382 non-null object\n",
      "member of a labor union                      13499 non-null object\n",
      "reason for unemployment                      630 non-null object\n",
      "full or part time employment stat            37382 non-null object\n",
      "capital gains                                37382 non-null int64\n",
      "capital losses                               37382 non-null int64\n",
      "dividends from stocks                        37382 non-null int64\n",
      "tax filer status                             37382 non-null object\n",
      "region of previous residence                 2672 non-null object\n",
      "state of previous residence                  2672 non-null object\n",
      "detailed household and family stat           37382 non-null object\n",
      "detailed household summary in household      37382 non-null object\n",
      "instance weight                              37382 non-null float64\n",
      "migration code-change in msa                 37254 non-null object\n",
      "migration code-change in reg                 37254 non-null object\n",
      "migration code-move within reg               37254 non-null object\n",
      "live in this house 1 year ago                37382 non-null object\n",
      "migration prev res in sunbelt                21776 non-null object\n",
      "num persons worked for employer              37382 non-null int64\n",
      "family members under 18                      4784 non-null object\n",
      "country of birth father                      37382 non-null object\n",
      "country of birth mother                      37382 non-null object\n",
      "country of birth self                        37382 non-null object\n",
      "citizenship                                  37382 non-null object\n",
      "own business or self employed                37382 non-null int64\n",
      "fill inc questionnaire for veterans admin    444 non-null object\n",
      "veterans benefits                            37382 non-null int64\n",
      "weeks worked in year                         37382 non-null int64\n",
      "year                                         37382 non-null int64\n",
      "income                                       37382 non-null int64\n",
      "dtypes: float64(1), int64(13), object(28)\n",
      "memory usage: 12.0+ MB\n"
     ]
    }
   ],
   "source": [
    "census.info()"
   ]
  },
  {
   "cell_type": "markdown",
   "metadata": {},
   "source": [
    "# Class of Worker"
   ]
  },
  {
   "cell_type": "code",
   "execution_count": 5,
   "metadata": {},
   "outputs": [
    {
     "data": {
      "text/plain": [
       "Private                           21176\n",
       "Local government                   2104\n",
       "Self-employed-not incorporated     1659\n",
       "Self-employed-incorporated         1310\n",
       "State government                   1183\n",
       "Federal government                 1118\n",
       "Never worked                         31\n",
       "Without pay                          13\n",
       "Name: class of worker, dtype: int64"
      ]
     },
     "execution_count": 5,
     "metadata": {},
     "output_type": "execute_result"
    }
   ],
   "source": [
    "census['class of worker'].value_counts()"
   ]
  },
  {
   "cell_type": "code",
   "execution_count": 71,
   "metadata": {},
   "outputs": [
    {
     "name": "stdout",
     "output_type": "stream",
     "text": [
      "Private            210\n",
      "Not In Universe     93\n",
      "Government          40\n",
      "Self-employed       30\n",
      "Other                1\n",
      "Name: class of worker, dtype: int64\n"
     ]
    }
   ],
   "source": [
    "worker_class = []\n",
    "temp_small_set = small_set.copy()\n",
    "for item in temp_small_set['class of worker'].tolist():\n",
    "    class_ = str(item).lower()\n",
    "    if class_ == \"private\":\n",
    "        worker_class.append(\"Private\")\n",
    "    elif class_ == \"local government\" or class_ == \"state government\" or class_ == \"federal government\":\n",
    "        worker_class.append(\"Government\")\n",
    "    elif class_ == \"self-employed-not incorporated\" or class_ == \"self-employed-incorporated\":\n",
    "        worker_class.append(\"Self-employed\")\n",
    "    elif class_ == \"never worked\" or class_ == \"without pay\":\n",
    "        worker_class.append(\"Other\")\n",
    "    else:\n",
    "        worker_class.append(np.nan)\n",
    "        \n",
    "temp_small_set['class of worker'] = worker_class\n",
    "temp_small_set['class of worker'] = temp_small_set['class of worker'].fillna(\"Not In Universe\")\n",
    "print(temp_small_set['class of worker'].value_counts())"
   ]
  },
  {
   "cell_type": "markdown",
   "metadata": {},
   "source": [
    "# Education"
   ]
  },
  {
   "cell_type": "code",
   "execution_count": 24,
   "metadata": {},
   "outputs": [
    {
     "data": {
      "text/plain": [
       "High school graduate                      9589\n",
       "Some college but no degree                6264\n",
       "Bachelors degree(BA AB BS)                6068\n",
       "Children                                  3740\n",
       "Masters degree(MA MS MEng MEd MSW MBA)    2566\n",
       "Associates degree-occup /vocational       1284\n",
       "10th grade                                1120\n",
       "Associates degree-academic program        1081\n",
       "11th grade                                1076\n",
       "Prof school degree (MD DDS DVM LLB JD)    1056\n",
       "7th and 8th grade                          998\n",
       "9th grade                                  821\n",
       "Doctorate degree(PhD EdD)                  717\n",
       "5th or 6th grade                           375\n",
       "12th grade no diploma                      321\n",
       "1st 2nd 3rd or 4th grade                   225\n",
       "Less than 1st grade                         81\n",
       "Name: education, dtype: int64"
      ]
     },
     "execution_count": 24,
     "metadata": {},
     "output_type": "execute_result"
    }
   ],
   "source": [
    "census['education'].value_counts()"
   ]
  },
  {
   "cell_type": "code",
   "execution_count": 36,
   "metadata": {},
   "outputs": [
    {
     "name": "stdout",
     "output_type": "stream",
     "text": [
      "High School Graduate          92\n",
      "College/ Associates Degree    76\n",
      "Bachelors Degree              63\n",
      "Other                         58\n",
      "Post-graduates Degree         50\n",
      "Children                      35\n",
      "dtype: int64\n",
      "High School Graduate          92\n",
      "College/ Associates Degree    76\n",
      "Bachelors Degree              63\n",
      "Other                         58\n",
      "Post-graduates Degree         50\n",
      "Children                      35\n",
      "Name: education, dtype: int64\n"
     ]
    }
   ],
   "source": [
    "education_class = []\n",
    "temp_small_set = small_set.copy()\n",
    "for item in temp_small_set['education'].tolist():\n",
    "    class_ = str(item).lower()\n",
    "    if class_ == \"high school graduate\":\n",
    "        education_class.append(\"High School Graduate\")\n",
    "    elif class_ == \"some college but no degree\" or class_ == \"associates degree-occup /vocational\" or class_ == \"associates degree-academic program\":\n",
    "        education_class.append(\"College/ Associates Degree\")\n",
    "    elif class_ == \"bachelors degree(ba ab bs)\":\n",
    "        education_class.append(\"Bachelors Degree\")\n",
    "    elif class_ == \"masters degree(ma ms meng med msw mba)\" or class_ == \"prof school degree (md dds dvm llb jd)\" or class_ == \"doctorate degree(phd edd)\":\n",
    "        education_class.append(\"Post-graduates Degree\")\n",
    "    elif class_ == \"children\":\n",
    "        education_class.append(\"Children\")\n",
    "    else:\n",
    "        education_class.append(\"Other\")\n",
    "print(pd.Series(education_class).value_counts())\n",
    "temp_small_set['education'] = education_class\n",
    "\n",
    "temp_small_set['education'] = temp_small_set.groupby('income')['education'].transform(lambda x: x.fillna(x.mode()[0]))\n",
    "print(temp_small_set['education'].value_counts())"
   ]
  },
  {
   "cell_type": "raw",
   "metadata": {},
   "source": []
  },
  {
   "cell_type": "markdown",
   "metadata": {},
   "source": [
    "# Enroll in edu inst last wk"
   ]
  },
  {
   "cell_type": "code",
   "execution_count": 37,
   "metadata": {},
   "outputs": [
    {
     "data": {
      "text/plain": [
       "High school              1050\n",
       "College or university    1047\n",
       "Name: enroll in edu inst last wk, dtype: int64"
      ]
     },
     "execution_count": 37,
     "metadata": {},
     "output_type": "execute_result"
    }
   ],
   "source": [
    "census['enroll in edu inst last wk'].value_counts()"
   ]
  },
  {
   "cell_type": "code",
   "execution_count": 72,
   "metadata": {},
   "outputs": [
    {
     "data": {
      "text/plain": [
       "Not In Universe          355\n",
       "High school               11\n",
       "College or university      8\n",
       "Name: enroll in edu inst last wk, dtype: int64"
      ]
     },
     "execution_count": 72,
     "metadata": {},
     "output_type": "execute_result"
    }
   ],
   "source": [
    "temp_small_set = small_set.copy()\n",
    "temp_small_set['enroll in edu inst last wk'] = temp_small_set['enroll in edu inst last wk'].fillna(\"Not In Universe\")\n",
    "temp_small_set['enroll in edu inst last wk'].value_counts()"
   ]
  },
  {
   "cell_type": "markdown",
   "metadata": {},
   "source": [
    "# Marital status"
   ]
  },
  {
   "cell_type": "code",
   "execution_count": 39,
   "metadata": {},
   "outputs": [
    {
     "data": {
      "text/plain": [
       "Married-civilian spouse present    20839\n",
       "Never married                      11095\n",
       "Divorced                            2968\n",
       "Widowed                             1379\n",
       "Separated                            688\n",
       "Married-spouse absent                297\n",
       "Married-A F spouse present           116\n",
       "Name: marital status, dtype: int64"
      ]
     },
     "execution_count": 39,
     "metadata": {},
     "output_type": "execute_result"
    }
   ],
   "source": [
    "census['marital status'].value_counts()"
   ]
  },
  {
   "cell_type": "code",
   "execution_count": 44,
   "metadata": {},
   "outputs": [
    {
     "name": "stdout",
     "output_type": "stream",
     "text": [
      "Married - together        215\n",
      "Never married             103\n",
      "Married - not together     56\n",
      "dtype: int64\n",
      "Married - together        215\n",
      "Never married             103\n",
      "Married - not together     56\n",
      "Name: marital status, dtype: int64\n"
     ]
    }
   ],
   "source": [
    "marital_status = []\n",
    "temp_small_set = small_set.copy()\n",
    "for item in temp_small_set['marital status'].tolist():\n",
    "    class_ = str(item).lower()\n",
    "    if class_ == \"married-civilian spouse present\" or class_ == \"married -a f spouse present\" or class_ == \"married-spouse absent\":\n",
    "        marital_status.append(\"Married - together\")\n",
    "    elif class_ == \"never married\":\n",
    "        marital_status.append(\"Never married\")\n",
    "    else:\n",
    "        marital_status.append(\"Married - not together\")\n",
    "print(pd.Series(marital_status).value_counts())\n",
    "temp_small_set['marital status'] = marital_status\n",
    "\n",
    "temp_small_set['marital status'] = temp_small_set.groupby('income')['marital status'].transform(lambda x: x.fillna(x.mode()[0]))\n",
    "print(temp_small_set['marital status'].value_counts())"
   ]
  },
  {
   "cell_type": "markdown",
   "metadata": {},
   "source": [
    "# major industry code"
   ]
  },
  {
   "cell_type": "code",
   "execution_count": 116,
   "metadata": {},
   "outputs": [
    {
     "data": {
      "text/plain": [
       "N/A or children                        8819\n",
       "Retail trade                           4303\n",
       "Manufacturing-durable goods            3153\n",
       "Manufacturing-nondurable goods         2186\n",
       "Education                              2110\n",
       "Finance insurance and real estate      1952\n",
       "Public administration                  1590\n",
       "Other professional services            1566\n",
       "Business and repair services           1550\n",
       "Medical except hospital                1522\n",
       "Construction                           1499\n",
       "Hospital services                      1318\n",
       "Transportation                         1218\n",
       "Wholesale trade                        1075\n",
       "Personal services except private HH     619\n",
       "Agriculture                             543\n",
       "Social services                         539\n",
       "Communications                          446\n",
       "Entertainment                           444\n",
       "Utilities and sanitary services         443\n",
       "Mining                                  239\n",
       "Private household services              185\n",
       "Forestry and fisheries                   53\n",
       "Armed Forces                             10\n",
       "Name: major industry code, dtype: int64"
      ]
     },
     "execution_count": 116,
     "metadata": {},
     "output_type": "execute_result"
    }
   ],
   "source": [
    "census['major industry code'].value_counts()"
   ]
  },
  {
   "cell_type": "code",
   "execution_count": 49,
   "metadata": {},
   "outputs": [],
   "source": [
    "# Using this, we can drop industry code"
   ]
  },
  {
   "cell_type": "markdown",
   "metadata": {},
   "source": [
    "# major occupation code"
   ]
  },
  {
   "cell_type": "code",
   "execution_count": 50,
   "metadata": {},
   "outputs": [
    {
     "data": {
      "text/plain": [
       "Professional specialty                   5085\n",
       "Executive admin and managerial           4807\n",
       "Adm support including clerical           3547\n",
       "Sales                                    3416\n",
       "Precision production craft & repair      2915\n",
       "Other service                            2775\n",
       "Machine operators assmblrs & inspctrs    1769\n",
       "Transportation and material moving       1016\n",
       "Handlers equip cleaners etc              1016\n",
       "Technicians and related support           952\n",
       "Farming forestry and fishing              554\n",
       "Protective services                       542\n",
       "Private household services                159\n",
       "Armed Forces                               10\n",
       "Name: major occupation code, dtype: int64"
      ]
     },
     "execution_count": 50,
     "metadata": {},
     "output_type": "execute_result"
    }
   ],
   "source": [
    "census['major occupation code'].value_counts()"
   ]
  },
  {
   "cell_type": "code",
   "execution_count": 54,
   "metadata": {},
   "outputs": [
    {
     "data": {
      "text/plain": [
       "0     8819\n",
       "2     3557\n",
       "26    1914\n",
       "19    1319\n",
       "29    1285\n",
       "36    1166\n",
       "3     1041\n",
       "16    1031\n",
       "33    1013\n",
       "34     970\n",
       "35     932\n",
       "12     896\n",
       "10     795\n",
       "4      772\n",
       "8      761\n",
       "23     715\n",
       "38     707\n",
       "17     637\n",
       "37     603\n",
       "31     594\n",
       "28     542\n",
       "7      523\n",
       "42     486\n",
       "30     469\n",
       "11     440\n",
       "32     427\n",
       "24     409\n",
       "18     402\n",
       "5      401\n",
       "41     398\n",
       "13     360\n",
       "39     309\n",
       "14     308\n",
       "44     302\n",
       "9      297\n",
       "15     284\n",
       "25     227\n",
       "43     211\n",
       "1      209\n",
       "6      200\n",
       "21     164\n",
       "27     159\n",
       "40     132\n",
       "22     118\n",
       "45      41\n",
       "20      27\n",
       "46      10\n",
       "Name: occupation code, dtype: int64"
      ]
     },
     "execution_count": 54,
     "metadata": {},
     "output_type": "execute_result"
    }
   ],
   "source": [
    "census['occupation code'].value_counts()"
   ]
  },
  {
   "cell_type": "code",
   "execution_count": 55,
   "metadata": {},
   "outputs": [],
   "source": [
    "# with around 8819 being 0 \"not in universe\", and exactly 8819 missing from major occupation code, we can \n",
    "# confidently assume that the nan values represent not in universe, and can add that column"
   ]
  },
  {
   "cell_type": "code",
   "execution_count": 58,
   "metadata": {},
   "outputs": [
    {
     "name": "stdout",
     "output_type": "stream",
     "text": [
      "Not In Universe                          94\n",
      "Executive admin and managerial           53\n",
      "Professional specialty                   48\n",
      "Adm support including clerical           43\n",
      "Sales                                    35\n",
      "Precision production craft & repair      25\n",
      "Other service                            22\n",
      "Machine operators assmblrs & inspctrs    16\n",
      "Handlers equip cleaners etc              12\n",
      "Transportation and material moving        9\n",
      "Technicians and related support           6\n",
      "Farming forestry and fishing              6\n",
      "Protective services                       5\n",
      "Name: major occupation code, dtype: int64\n"
     ]
    }
   ],
   "source": [
    "temp_small_set = small_set.copy()\n",
    "temp_small_set['major occupation code'] = temp_small_set['major occupation code'].transform(lambda x: x.fillna(\"Not In Universe\"))\n",
    "print(temp_small_set['major occupation code'].value_counts())"
   ]
  },
  {
   "cell_type": "code",
   "execution_count": 59,
   "metadata": {},
   "outputs": [],
   "source": [
    "# and drop occupation code"
   ]
  },
  {
   "cell_type": "markdown",
   "metadata": {},
   "source": [
    "# Race, hispanic origin and sex"
   ]
  },
  {
   "cell_type": "code",
   "execution_count": 60,
   "metadata": {},
   "outputs": [
    {
     "data": {
      "text/plain": [
       "White                          32193\n",
       "Black                           3248\n",
       "Asian or Pacific Islander       1098\n",
       "Other                            487\n",
       "Amer Indian Aleut or Eskimo      356\n",
       "Name: race, dtype: int64"
      ]
     },
     "execution_count": 60,
     "metadata": {},
     "output_type": "execute_result"
    }
   ],
   "source": [
    "census['race'].value_counts()"
   ]
  },
  {
   "cell_type": "code",
   "execution_count": 61,
   "metadata": {},
   "outputs": [
    {
     "data": {
      "text/plain": [
       "All other                    33743\n",
       "Mexican-American              1074\n",
       "Mexican (Mexicano)             952\n",
       "Central or South American      509\n",
       "Puerto Rican                   389\n",
       "Other Spanish                  336\n",
       "Cuban                          179\n",
       "Do not know                     42\n",
       "Chicano                         38\n",
       "Name: hispanic origin, dtype: int64"
      ]
     },
     "execution_count": 61,
     "metadata": {},
     "output_type": "execute_result"
    }
   ],
   "source": [
    "census['hispanic origin'].value_counts()"
   ]
  },
  {
   "cell_type": "code",
   "execution_count": 62,
   "metadata": {},
   "outputs": [
    {
     "data": {
      "text/plain": [
       "Male      21152\n",
       "Female    16230\n",
       "Name: sex, dtype: int64"
      ]
     },
     "execution_count": 62,
     "metadata": {},
     "output_type": "execute_result"
    }
   ],
   "source": [
    "census['sex'].value_counts()"
   ]
  },
  {
   "cell_type": "code",
   "execution_count": 63,
   "metadata": {},
   "outputs": [],
   "source": [
    "# will leave these in despite ethics - will see if they have useful predictive power before deciding what to do"
   ]
  },
  {
   "cell_type": "markdown",
   "metadata": {},
   "source": [
    "# Member of a labor union"
   ]
  },
  {
   "cell_type": "code",
   "execution_count": 64,
   "metadata": {},
   "outputs": [
    {
     "data": {
      "text/plain": [
       "No     11250\n",
       "Yes     2249\n",
       "Name: member of a labor union, dtype: int64"
      ]
     },
     "execution_count": 64,
     "metadata": {},
     "output_type": "execute_result"
    }
   ],
   "source": [
    "census['member of a labor union'].value_counts()"
   ]
  },
  {
   "cell_type": "code",
   "execution_count": 67,
   "metadata": {},
   "outputs": [
    {
     "data": {
      "text/plain": [
       "Not In Universe    245\n",
       "No                 109\n",
       "Yes                 20\n",
       "Name: member of a labor union, dtype: int64"
      ]
     },
     "execution_count": 67,
     "metadata": {},
     "output_type": "execute_result"
    }
   ],
   "source": [
    "temp_small_set = small_set.copy()\n",
    "temp_small_set['member of a labor union'] = temp_small_set['member of a labor union'].fillna(\"Not In Universe\")\n",
    "temp_small_set['member of a labor union'].value_counts()"
   ]
  },
  {
   "cell_type": "markdown",
   "metadata": {},
   "source": [
    "# Reason for Unemployment"
   ]
  },
  {
   "cell_type": "code",
   "execution_count": 68,
   "metadata": {},
   "outputs": [
    {
     "data": {
      "text/plain": [
       "Other job loser          253\n",
       "Re-entrant               170\n",
       "Job loser - on layoff     95\n",
       "Job leaver                81\n",
       "New entrant               31\n",
       "Name: reason for unemployment, dtype: int64"
      ]
     },
     "execution_count": 68,
     "metadata": {},
     "output_type": "execute_result"
    }
   ],
   "source": [
    "census['reason for unemployment'].value_counts()"
   ]
  },
  {
   "cell_type": "code",
   "execution_count": 73,
   "metadata": {},
   "outputs": [
    {
     "data": {
      "text/plain": [
       "Not In Universe    367\n",
       "Re-entrant           4\n",
       "Other job loser      2\n",
       "New entrant          1\n",
       "Name: reason for unemployment, dtype: int64"
      ]
     },
     "execution_count": 73,
     "metadata": {},
     "output_type": "execute_result"
    }
   ],
   "source": [
    "temp_small_set = small_set.copy()\n",
    "temp_small_set['reason for unemployment'] = temp_small_set['reason for unemployment'].fillna(\"Not In Universe\")\n",
    "temp_small_set['reason for unemployment'].value_counts()"
   ]
  },
  {
   "cell_type": "markdown",
   "metadata": {},
   "source": [
    "# full or part time employment stat"
   ]
  },
  {
   "cell_type": "code",
   "execution_count": 74,
   "metadata": {},
   "outputs": [
    {
     "data": {
      "text/plain": [
       "Children or Armed Forces              20234\n",
       "Full-time schedules                   12606\n",
       "Not in labor force                     2595\n",
       "PT for non-econ reasons usually FT     1032\n",
       "PT for econ reasons usually PT          355\n",
       "Unemployed full-time                    293\n",
       "PT for econ reasons usually FT          158\n",
       "Unemployed part- time                   109\n",
       "Name: full or part time employment stat, dtype: int64"
      ]
     },
     "execution_count": 74,
     "metadata": {},
     "output_type": "execute_result"
    }
   ],
   "source": [
    "census['full or part time employment stat'].value_counts()"
   ]
  },
  {
   "cell_type": "code",
   "execution_count": 77,
   "metadata": {},
   "outputs": [
    {
     "name": "stdout",
     "output_type": "stream",
     "text": [
      "Children or Armed Forces    205\n",
      "Full-time schedules         121\n",
      "Not in labor force           29\n",
      "Part-time/ Unemployed        19\n",
      "dtype: int64\n"
     ]
    }
   ],
   "source": [
    "employment_status = []\n",
    "temp_small_set = small_set.copy()\n",
    "for item in temp_small_set['full or part time employment stat'].tolist():\n",
    "    class_ = str(item).lower()\n",
    "    if class_ == \"children or armed forces\":\n",
    "        employment_status.append(\"Children or Armed Forces\")\n",
    "    elif class_ == \"full-time schedules\":\n",
    "        employment_status.append(\"Full-time schedules\")\n",
    "    elif class_ == \"not in labor force\":\n",
    "        employment_status.append(\"Not in labor force\")\n",
    "    else:\n",
    "        employment_status.append(\"Part-time/ Unemployed\")\n",
    "print(pd.Series(employment_status).value_counts())\n",
    "temp_small_set['full or part time employment stat'] = employment_status"
   ]
  },
  {
   "cell_type": "markdown",
   "metadata": {},
   "source": [
    "# capital gains, capital losses and dividends from stocks"
   ]
  },
  {
   "cell_type": "code",
   "execution_count": 78,
   "metadata": {},
   "outputs": [
    {
     "data": {
      "text/plain": [
       "<matplotlib.axes._subplots.AxesSubplot at 0x7fbe2bdf0c88>"
      ]
     },
     "execution_count": 78,
     "metadata": {},
     "output_type": "execute_result"
    },
    {
     "data": {
      "image/png": "[encoded data removed]",
      "text/plain": [
       "<Figure size 432x288 with 1 Axes>"
      ]
     },
     "metadata": {
      "needs_background": "light"
     },
     "output_type": "display_data"
    }
   ],
   "source": [
    "census['capital gains'].hist(bins=20)"
   ]
  },
  {
   "cell_type": "code",
   "execution_count": 79,
   "metadata": {},
   "outputs": [
    {
     "data": {
      "text/plain": [
       "<matplotlib.axes._subplots.AxesSubplot at 0x7fbe2c0e6518>"
      ]
     },
     "execution_count": 79,
     "metadata": {},
     "output_type": "execute_result"
    },
    {
     "data": {
      "image/png": "[encoded data removed]",
      "text/plain": [
       "<Figure size 432x288 with 1 Axes>"
      ]
     },
     "metadata": {
      "needs_background": "light"
     },
     "output_type": "display_data"
    }
   ],
   "source": [
    "census['capital losses'].hist(bins=20)"
   ]
  },
  {
   "cell_type": "code",
   "execution_count": 80,
   "metadata": {},
   "outputs": [
    {
     "data": {
      "text/plain": [
       "<matplotlib.axes._subplots.AxesSubplot at 0x7fbe2bc6e128>"
      ]
     },
     "execution_count": 80,
     "metadata": {},
     "output_type": "execute_result"
    },
    {
     "data": {
      "image/png": "[encoded data removed]",
      "text/plain": [
       "<Figure size 432x288 with 1 Axes>"
      ]
     },
     "metadata": {
      "needs_background": "light"
     },
     "output_type": "display_data"
    }
   ],
   "source": [
    "census['dividends from stocks'].hist(bins=20)"
   ]
  },
  {
   "cell_type": "markdown",
   "metadata": {},
   "source": [
    "# tax filer status"
   ]
  },
  {
   "cell_type": "code",
   "execution_count": 81,
   "metadata": {},
   "outputs": [
    {
     "data": {
      "text/plain": [
       "Joint both under 65             18614\n",
       "Single                           8706\n",
       "Nonfiler                         6339\n",
       "Head of household                1825\n",
       "Joint both 65+                   1189\n",
       "Joint one under 65 & one 65+      709\n",
       "Name: tax filer status, dtype: int64"
      ]
     },
     "execution_count": 81,
     "metadata": {},
     "output_type": "execute_result"
    }
   ],
   "source": [
    "census['tax filer status'].value_counts()"
   ]
  },
  {
   "cell_type": "code",
   "execution_count": 82,
   "metadata": {},
   "outputs": [
    {
     "name": "stdout",
     "output_type": "stream",
     "text": [
      "Joint - under 65     183\n",
      "Single                90\n",
      "Nonfiler              68\n",
      "Joint - over 65       18\n",
      "Head of household     15\n",
      "dtype: int64\n"
     ]
    }
   ],
   "source": [
    "tax_filer_status = []\n",
    "temp_small_set = small_set.copy()\n",
    "for item in temp_small_set['tax filer status'].tolist():\n",
    "    class_ = str(item).lower()\n",
    "    if class_ == \"joint both under 65\":\n",
    "        tax_filer_status.append(\"Joint - under 65\")\n",
    "    elif class_ == \"single\":\n",
    "        tax_filer_status.append(\"Single\")\n",
    "    elif class_ == \"nonfiler\":\n",
    "        tax_filer_status.append(\"Nonfiler\")\n",
    "    elif class_ == \"head of household\":\n",
    "        tax_filer_status.append(\"Head of household\")\n",
    "    else:\n",
    "        tax_filer_status.append(\"Joint - over 65\")\n",
    "print(pd.Series(tax_filer_status).value_counts())\n",
    "temp_small_set['tax filer status'] = tax_filer_status"
   ]
  },
  {
   "cell_type": "markdown",
   "metadata": {},
   "source": [
    "# region of previous residence and state of previous residence"
   ]
  },
  {
   "cell_type": "code",
   "execution_count": 83,
   "metadata": {},
   "outputs": [
    {
     "data": {
      "text/plain": [
       "South        806\n",
       "West         657\n",
       "Midwest      633\n",
       "Northeast    503\n",
       "Abroad        73\n",
       "Name: region of previous residence, dtype: int64"
      ]
     },
     "execution_count": 83,
     "metadata": {},
     "output_type": "execute_result"
    }
   ],
   "source": [
    "census['region of previous residence'].value_counts()"
   ]
  },
  {
   "cell_type": "code",
   "execution_count": 84,
   "metadata": {},
   "outputs": [
    {
     "data": {
      "text/plain": [
       "California              254\n",
       "Utah                    178\n",
       "North Carolina          141\n",
       "?                       134\n",
       "Florida                 133\n",
       "Oklahoma                119\n",
       "New Mexico               99\n",
       "Abroad                   97\n",
       "Minnesota                94\n",
       "North Dakota             91\n",
       "Indiana                  81\n",
       "Michigan                 74\n",
       "Alaska                   60\n",
       "Kentucky                 56\n",
       "Wyoming                  51\n",
       "New Hampshire            48\n",
       "Oregon                   45\n",
       "West Virginia            41\n",
       "Pennsylvania             40\n",
       "Colorado                 40\n",
       "Montana                  40\n",
       "Nevada                   39\n",
       "New York                 36\n",
       "Maine                    34\n",
       "Arkansas                 33\n",
       "Ohio                     32\n",
       "Iowa                     31\n",
       "Arizona                  31\n",
       "Vermont                  31\n",
       "Illinois                 31\n",
       "Texas                    31\n",
       "Tennessee                31\n",
       "Mississippi              30\n",
       "Georgia                  30\n",
       "Kansas                   29\n",
       "Alabama                  29\n",
       "Massachusetts            29\n",
       "Missouri                 29\n",
       "Virginia                 28\n",
       "Connecticut              25\n",
       "District of Columbia     23\n",
       "Louisiana                22\n",
       "New Jersey               20\n",
       "Maryland                 19\n",
       "South Dakota             18\n",
       "Nebraska                 16\n",
       "Delaware                 15\n",
       "Wisconsin                15\n",
       "South Carolina           14\n",
       "Idaho                     5\n",
       "Name: state of previous residence, dtype: int64"
      ]
     },
     "execution_count": 84,
     "metadata": {},
     "output_type": "execute_result"
    }
   ],
   "source": [
    "census['state of previous residence'].value_counts()"
   ]
  },
  {
   "cell_type": "markdown",
   "metadata": {},
   "source": [
    "# detailed household and family stat, and detailed household summary in household"
   ]
  },
  {
   "cell_type": "code",
   "execution_count": 85,
   "metadata": {},
   "outputs": [
    {
     "data": {
      "text/plain": [
       "Householder                                        14774\n",
       "Spouse of householder                               8204\n",
       "Nonfamily householder                               4728\n",
       "Child <18 never marr not in subfamily               4369\n",
       "Child 18+ never marr Not in a subfamily             2249\n",
       "Secondary individual                                1205\n",
       "Other Rel 18+ never marr not in subfamily            266\n",
       "Other Rel 18+ ever marr not in subfamily             234\n",
       "Child 18+ ever marr Not in a subfamily               195\n",
       "Grandchild <18 never marr child of subfamily RP      144\n",
       "Child 18+ ever marr RP of subfamily                  129\n",
       "Other Rel 18+ spouse of subfamily RP                 126\n",
       "Other Rel 18+ ever marr RP of subfamily              113\n",
       "RP of unrelated subfamily                            105\n",
       "Child 18+ never marr RP of subfamily                  98\n",
       "Grandchild <18 never marr not in subfamily            81\n",
       "Grandchild 18+ never marr not in subfamily            67\n",
       "Other Rel <18 never marr child of subfamily RP        65\n",
       "Child under 18 of RP of unrel subfamily               63\n",
       "Other Rel <18 never marr not in subfamily             59\n",
       "In group quarters                                     27\n",
       "Child 18+ spouse of subfamily RP                      23\n",
       "Other Rel 18+ never marr RP of subfamily              17\n",
       "Child <18 never marr RP of subfamily                  14\n",
       "Spouse of RP of unrelated subfamily                    9\n",
       "Grandchild 18+ ever marr not in subfamily              8\n",
       "Grandchild 18+ spouse of subfamily RP                  2\n",
       "Child <18 ever marr not in subfamily                   2\n",
       "Other Rel <18 ever marr RP of subfamily                2\n",
       "Child <18 ever marr RP of subfamily                    1\n",
       "Other Rel <18 spouse of subfamily RP                   1\n",
       "Child <18 spouse of subfamily RP                       1\n",
       "Grandchild 18+ ever marr RP of subfamily               1\n",
       "Name: detailed household and family stat, dtype: int64"
      ]
     },
     "execution_count": 85,
     "metadata": {},
     "output_type": "execute_result"
    }
   ],
   "source": [
    "census['detailed household and family stat'].value_counts()"
   ]
  },
  {
   "cell_type": "code",
   "execution_count": 90,
   "metadata": {},
   "outputs": [
    {
     "name": "stdout",
     "output_type": "stream",
     "text": [
      "Householder              147\n",
      "Spouse of Householder     84\n",
      "Nonfamily Householder     51\n",
      "Child <18                 43\n",
      "Child 18+                 27\n",
      "Other                     22\n",
      "dtype: int64\n"
     ]
    }
   ],
   "source": [
    "household_family_status = []\n",
    "temp_small_set = small_set.copy()\n",
    "for item in temp_small_set['detailed household and family stat'].tolist():\n",
    "    class_ = str(item).lower()\n",
    "    if class_ == \"householder\":\n",
    "        household_family_status.append(\"Householder\")\n",
    "    elif class_ == \"spouse of householder\":\n",
    "        household_family_status.append(\"Spouse of Householder\")\n",
    "    elif class_ == \"nonfamily householder\":\n",
    "        household_family_status.append(\"Nonfamily Householder\")\n",
    "    elif class_[0:9] == \"child <18\":\n",
    "        household_family_status.append(\"Child <18\")\n",
    "    elif class_[0:9] == \"child 18+\":\n",
    "        household_family_status.append(\"Child 18+\")\n",
    "    elif class_ == \"secondary individual\":\n",
    "        household_family_status.append(\"Other\")\n",
    "    elif class_ == \"child under 18 of rp of unrel subfamily\":\n",
    "        household_family_status.append(\"Child <18\")\n",
    "    elif class_[0:14] == \"grandchild <18\":\n",
    "        household_family_status.append(\"Child <18\")\n",
    "    elif class_[0:14] == \"grandchild 18+\":\n",
    "        household_family_status.append(\"Child 18+\")\n",
    "    elif class_[0:13] == \"other rel <18\":\n",
    "        household_family_status.append(\"Child <18\")\n",
    "    else:\n",
    "        household_family_status.append(\"Other\")\n",
    "print(pd.Series(household_family_status).value_counts())\n",
    "temp_small_set['detailed household and family stat'] = household_family_status"
   ]
  },
  {
   "cell_type": "code",
   "execution_count": 91,
   "metadata": {},
   "outputs": [
    {
     "data": {
      "text/html": [
       "<div>\n",
       "<style scoped>\n",
       "    .dataframe tbody tr th:only-of-type {\n",
       "        vertical-align: middle;\n",
       "    }\n",
       "\n",
       "    .dataframe tbody tr th {\n",
       "        vertical-align: top;\n",
       "    }\n",
       "\n",
       "    .dataframe thead th {\n",
       "        text-align: right;\n",
       "    }\n",
       "</style>\n",
       "<table border=\"1\" class=\"dataframe\">\n",
       "  <thead>\n",
       "    <tr style=\"text-align: right;\">\n",
       "      <th></th>\n",
       "      <th>detailed household and family stat</th>\n",
       "      <th>detailed household summary in household</th>\n",
       "    </tr>\n",
       "  </thead>\n",
       "  <tbody>\n",
       "    <tr>\n",
       "      <th>0</th>\n",
       "      <td>Spouse of householder</td>\n",
       "      <td>Spouse of householder</td>\n",
       "    </tr>\n",
       "    <tr>\n",
       "      <th>1</th>\n",
       "      <td>Spouse of householder</td>\n",
       "      <td>Spouse of householder</td>\n",
       "    </tr>\n",
       "    <tr>\n",
       "      <th>2</th>\n",
       "      <td>Spouse of householder</td>\n",
       "      <td>Spouse of householder</td>\n",
       "    </tr>\n",
       "    <tr>\n",
       "      <th>3</th>\n",
       "      <td>Householder</td>\n",
       "      <td>Householder</td>\n",
       "    </tr>\n",
       "    <tr>\n",
       "      <th>4</th>\n",
       "      <td>Householder</td>\n",
       "      <td>Householder</td>\n",
       "    </tr>\n",
       "    <tr>\n",
       "      <th>5</th>\n",
       "      <td>Householder</td>\n",
       "      <td>Householder</td>\n",
       "    </tr>\n",
       "    <tr>\n",
       "      <th>6</th>\n",
       "      <td>Nonfamily householder</td>\n",
       "      <td>Householder</td>\n",
       "    </tr>\n",
       "    <tr>\n",
       "      <th>7</th>\n",
       "      <td>Householder</td>\n",
       "      <td>Householder</td>\n",
       "    </tr>\n",
       "    <tr>\n",
       "      <th>8</th>\n",
       "      <td>Householder</td>\n",
       "      <td>Householder</td>\n",
       "    </tr>\n",
       "    <tr>\n",
       "      <th>9</th>\n",
       "      <td>Spouse of householder</td>\n",
       "      <td>Spouse of householder</td>\n",
       "    </tr>\n",
       "  </tbody>\n",
       "</table>\n",
       "</div>"
      ],
      "text/plain": [
       "  detailed household and family stat detailed household summary in household\n",
       "0              Spouse of householder                   Spouse of householder\n",
       "1              Spouse of householder                   Spouse of householder\n",
       "2              Spouse of householder                   Spouse of householder\n",
       "3                        Householder                             Householder\n",
       "4                        Householder                             Householder\n",
       "5                        Householder                             Householder\n",
       "6              Nonfamily householder                             Householder\n",
       "7                        Householder                             Householder\n",
       "8                        Householder                             Householder\n",
       "9              Spouse of householder                   Spouse of householder"
      ]
     },
     "execution_count": 91,
     "metadata": {},
     "output_type": "execute_result"
    }
   ],
   "source": [
    "census[['detailed household and family stat','detailed household summary in household']].head(10)"
   ]
  },
  {
   "cell_type": "code",
   "execution_count": 93,
   "metadata": {},
   "outputs": [
    {
     "name": "stdout",
     "output_type": "stream",
     "text": [
      "Secondary individual vs Nonrelative of householder\n",
      "Nonfamily householder vs Householder\n",
      "Nonfamily householder vs Householder\n",
      "Secondary individual vs Nonrelative of householder\n",
      "Nonfamily householder vs Householder\n",
      "Nonfamily householder vs Householder\n",
      "Child 18+ never marr Not in a subfamily vs Child 18 or older\n",
      "Child 18+ never marr Not in a subfamily vs Child 18 or older\n",
      "Nonfamily householder vs Householder\n",
      "Secondary individual vs Nonrelative of householder\n",
      "Child 18+ never marr RP of subfamily vs Child 18 or older\n",
      "Nonfamily householder vs Householder\n",
      "Nonfamily householder vs Householder\n",
      "Child 18+ ever marr RP of subfamily vs Child 18 or older\n",
      "Nonfamily householder vs Householder\n",
      "Nonfamily householder vs Householder\n",
      "Child <18 never marr not in subfamily vs Child under 18 never married\n",
      "Nonfamily householder vs Householder\n",
      "Nonfamily householder vs Householder\n",
      "Nonfamily householder vs Householder\n",
      "Child <18 never marr not in subfamily vs Child under 18 never married\n",
      "Child 18+ never marr Not in a subfamily vs Child 18 or older\n",
      "Nonfamily householder vs Householder\n",
      "Child 18+ never marr Not in a subfamily vs Child 18 or older\n",
      "Secondary individual vs Nonrelative of householder\n",
      "Child 18+ never marr Not in a subfamily vs Child 18 or older\n",
      "Nonfamily householder vs Householder\n",
      "Child <18 never marr not in subfamily vs Child under 18 never married\n",
      "Child 18+ never marr Not in a subfamily vs Child 18 or older\n",
      "Child <18 never marr not in subfamily vs Child under 18 never married\n",
      "Nonfamily householder vs Householder\n",
      "Child <18 never marr not in subfamily vs Child under 18 never married\n",
      "Child <18 never marr not in subfamily vs Child under 18 never married\n",
      "Other Rel 18+ ever marr RP of subfamily vs Other relative of householder\n",
      "Child <18 never marr not in subfamily vs Child under 18 never married\n",
      "Secondary individual vs Nonrelative of householder\n",
      "Nonfamily householder vs Householder\n",
      "Child under 18 of RP of unrel subfamily vs Nonrelative of householder\n",
      "Nonfamily householder vs Householder\n",
      "Grandchild <18 never marr child of subfamily RP vs Other relative of householder\n",
      "Secondary individual vs Nonrelative of householder\n",
      "Child 18+ never marr Not in a subfamily vs Child 18 or older\n",
      "Child <18 never marr not in subfamily vs Child under 18 never married\n",
      "Nonfamily householder vs Householder\n",
      "Child <18 never marr not in subfamily vs Child under 18 never married\n",
      "Child <18 never marr not in subfamily vs Child under 18 never married\n",
      "Child <18 never marr not in subfamily vs Child under 18 never married\n",
      "Child 18+ never marr Not in a subfamily vs Child 18 or older\n",
      "Nonfamily householder vs Householder\n",
      "Nonfamily householder vs Householder\n",
      "Nonfamily householder vs Householder\n",
      "Secondary individual vs Nonrelative of householder\n",
      "Nonfamily householder vs Householder\n",
      "Secondary individual vs Nonrelative of householder\n",
      "Nonfamily householder vs Householder\n",
      "Other Rel 18+ spouse of subfamily RP vs Other relative of householder\n",
      "Child 18+ ever marr Not in a subfamily vs Child 18 or older\n",
      "Child 18+ never marr Not in a subfamily vs Child 18 or older\n",
      "Child <18 never marr not in subfamily vs Child under 18 never married\n",
      "Child <18 never marr not in subfamily vs Child under 18 never married\n",
      "Child <18 never marr not in subfamily vs Child under 18 never married\n",
      "Child <18 never marr not in subfamily vs Child under 18 never married\n",
      "Child 18+ never marr Not in a subfamily vs Child 18 or older\n",
      "Child 18+ never marr Not in a subfamily vs Child 18 or older\n",
      "Child <18 never marr RP of subfamily vs Child under 18 never married\n",
      "Secondary individual vs Nonrelative of householder\n",
      "Nonfamily householder vs Householder\n",
      "Nonfamily householder vs Householder\n",
      "Nonfamily householder vs Householder\n",
      "Nonfamily householder vs Householder\n",
      "Child <18 never marr not in subfamily vs Child under 18 never married\n",
      "Nonfamily householder vs Householder\n",
      "Child <18 never marr not in subfamily vs Child under 18 never married\n",
      "Nonfamily householder vs Householder\n",
      "Nonfamily householder vs Householder\n",
      "Nonfamily householder vs Householder\n",
      "Child <18 never marr not in subfamily vs Child under 18 never married\n",
      "Nonfamily householder vs Householder\n",
      "Child 18+ never marr Not in a subfamily vs Child 18 or older\n",
      "Child 18+ never marr Not in a subfamily vs Child 18 or older\n",
      "Grandchild <18 never marr not in subfamily vs Other relative of householder\n",
      "Secondary individual vs Nonrelative of householder\n",
      "Child 18+ never marr Not in a subfamily vs Child 18 or older\n",
      "Nonfamily householder vs Householder\n",
      "Child 18+ never marr Not in a subfamily vs Child 18 or older\n",
      "Nonfamily householder vs Householder\n",
      "Secondary individual vs Nonrelative of householder\n",
      "Secondary individual vs Nonrelative of householder\n",
      "Child <18 never marr not in subfamily vs Child under 18 never married\n",
      "Child <18 never marr not in subfamily vs Child under 18 never married\n",
      "Child <18 never marr not in subfamily vs Child under 18 never married\n",
      "Nonfamily householder vs Householder\n",
      "Secondary individual vs Nonrelative of householder\n",
      "Child <18 never marr not in subfamily vs Child under 18 never married\n",
      "Child <18 never marr not in subfamily vs Child under 18 never married\n",
      "Child 18+ never marr Not in a subfamily vs Child 18 or older\n",
      "Child 18+ never marr Not in a subfamily vs Child 18 or older\n",
      "Nonfamily householder vs Householder\n",
      "Child <18 never marr not in subfamily vs Child under 18 never married\n",
      "Child 18+ never marr Not in a subfamily vs Child 18 or older\n",
      "Child 18+ never marr Not in a subfamily vs Child 18 or older\n",
      "Child 18+ never marr Not in a subfamily vs Child 18 or older\n",
      "Child <18 never marr not in subfamily vs Child under 18 never married\n",
      "Child <18 never marr not in subfamily vs Child under 18 never married\n",
      "Nonfamily householder vs Householder\n",
      "Grandchild <18 never marr not in subfamily vs Other relative of householder\n",
      "Nonfamily householder vs Householder\n",
      "Child <18 never marr not in subfamily vs Child under 18 never married\n",
      "Secondary individual vs Nonrelative of householder\n",
      "Secondary individual vs Nonrelative of householder\n",
      "Nonfamily householder vs Householder\n",
      "Secondary individual vs Nonrelative of householder\n",
      "Child <18 never marr not in subfamily vs Child under 18 never married\n",
      "RP of unrelated subfamily vs Nonrelative of householder\n",
      "Child <18 never marr not in subfamily vs Child under 18 never married\n",
      "Nonfamily householder vs Householder\n",
      "Child <18 never marr not in subfamily vs Child under 18 never married\n",
      "Nonfamily householder vs Householder\n",
      "Child <18 never marr not in subfamily vs Child under 18 never married\n",
      "Child <18 never marr not in subfamily vs Child under 18 never married\n",
      "Child 18+ never marr Not in a subfamily vs Child 18 or older\n",
      "Child <18 never marr not in subfamily vs Child under 18 never married\n",
      "Nonfamily householder vs Householder\n",
      "Nonfamily householder vs Householder\n",
      "Nonfamily householder vs Householder\n",
      "Other Rel <18 spouse of subfamily RP vs Other relative of householder\n",
      "Nonfamily householder vs Householder\n",
      "Nonfamily householder vs Householder\n",
      "Child 18+ never marr RP of subfamily vs Child 18 or older\n",
      "Secondary individual vs Nonrelative of householder\n",
      "Child <18 never marr not in subfamily vs Child under 18 never married\n",
      "Child 18+ never marr Not in a subfamily vs Child 18 or older\n",
      "Nonfamily householder vs Householder\n",
      "Other Rel 18+ spouse of subfamily RP vs Other relative of householder\n",
      "Nonfamily householder vs Householder\n",
      "Nonfamily householder vs Householder\n",
      "Nonfamily householder vs Householder\n",
      "Child <18 never marr not in subfamily vs Child under 18 never married\n",
      "Child under 18 of RP of unrel subfamily vs Nonrelative of householder\n",
      "Secondary individual vs Nonrelative of householder\n",
      "Nonfamily householder vs Householder\n",
      "Child 18+ never marr Not in a subfamily vs Child 18 or older\n",
      "Child <18 never marr not in subfamily vs Child under 18 never married\n",
      "231\n",
      "143\n"
     ]
    }
   ],
   "source": [
    "temp_small_set = small_set.copy()\n",
    "col1 = temp_small_set['detailed household and family stat'].tolist()\n",
    "col2 = temp_small_set['detailed household summary in household'].tolist()\n",
    "same_count = 0\n",
    "different_count = 0\n",
    "for i in range(len(temp_small_set)):\n",
    "    if str(col1[i]).lower() == str(col2[i]).lower():\n",
    "        same_count += 1\n",
    "    else:\n",
    "        print(\"{} vs {}\".format(col1[i],col2[i]))\n",
    "        different_count += 1\n",
    "print(same_count)\n",
    "print(different_count)\n",
    "    "
   ]
  },
  {
   "cell_type": "markdown",
   "metadata": {},
   "source": [
    "# instance weight"
   ]
  },
  {
   "cell_type": "code",
   "execution_count": 94,
   "metadata": {},
   "outputs": [
    {
     "data": {
      "text/plain": [
       "<matplotlib.axes._subplots.AxesSubplot at 0x7fbe2bbf4f60>"
      ]
     },
     "execution_count": 94,
     "metadata": {},
     "output_type": "execute_result"
    },
    {
     "data": {
      "image/png": "[encoded data removed]",
      "text/plain": [
       "<Figure size 432x288 with 1 Axes>"
      ]
     },
     "metadata": {
      "needs_background": "light"
     },
     "output_type": "display_data"
    }
   ],
   "source": [
    "census['instance weight'].hist(bins=20)"
   ]
  },
  {
   "cell_type": "markdown",
   "metadata": {},
   "source": [
    "# migration columns"
   ]
  },
  {
   "cell_type": "code",
   "execution_count": 95,
   "metadata": {},
   "outputs": [
    {
     "data": {
      "text/plain": [
       "?                   19104\n",
       "Nonmover            15478\n",
       "MSA to MSA           1886\n",
       "NonMSA to nonMSA      439\n",
       "MSA to nonMSA         114\n",
       "NonMSA to MSA          96\n",
       "Abroad to MSA          65\n",
       "Not identifiable       64\n",
       "Abroad to nonMSA        8\n",
       "Name: migration code-change in msa, dtype: int64"
      ]
     },
     "execution_count": 95,
     "metadata": {},
     "output_type": "execute_result"
    }
   ],
   "source": [
    "census['migration code-change in msa'].value_counts()"
   ]
  },
  {
   "cell_type": "code",
   "execution_count": 96,
   "metadata": {},
   "outputs": [
    {
     "data": {
      "text/plain": [
       "?                                 19104\n",
       "Nonmover                          15478\n",
       "Same county                        1657\n",
       "Different county same state         500\n",
       "Different region                    225\n",
       "Different state same division       151\n",
       "Abroad                               73\n",
       "Different division same region       66\n",
       "Name: migration code-change in reg, dtype: int64"
      ]
     },
     "execution_count": 96,
     "metadata": {},
     "output_type": "execute_result"
    }
   ],
   "source": [
    "census['migration code-change in reg'].value_counts()"
   ]
  },
  {
   "cell_type": "code",
   "execution_count": 100,
   "metadata": {},
   "outputs": [
    {
     "data": {
      "text/plain": [
       "?                               19104\n",
       "Nonmover                        15478\n",
       "Same county                      1657\n",
       "Different county same state       500\n",
       "Different state in South          171\n",
       "Different state in West            96\n",
       "Different state in Midwest         93\n",
       "Different state in Northeast       82\n",
       "Abroad                             73\n",
       "Name: migration code-move within reg, dtype: int64"
      ]
     },
     "execution_count": 100,
     "metadata": {},
     "output_type": "execute_result"
    }
   ],
   "source": [
    "census['migration code-move within reg'].value_counts()"
   ]
  },
  {
   "cell_type": "code",
   "execution_count": 98,
   "metadata": {},
   "outputs": [
    {
     "data": {
      "text/plain": [
       "?      19104\n",
       "No      1752\n",
       "Yes      920\n",
       "Name: migration prev res in sunbelt, dtype: int64"
      ]
     },
     "execution_count": 98,
     "metadata": {},
     "output_type": "execute_result"
    }
   ],
   "source": [
    "census['migration prev res in sunbelt'].value_counts()"
   ]
  },
  {
   "cell_type": "markdown",
   "metadata": {},
   "source": [
    "# live in this house 1 year ago"
   ]
  },
  {
   "cell_type": "code",
   "execution_count": 101,
   "metadata": {},
   "outputs": [
    {
     "data": {
      "text/plain": [
       "Under 1 year    19232\n",
       "Yes             15478\n",
       "No               2672\n",
       "Name: live in this house 1 year ago, dtype: int64"
      ]
     },
     "execution_count": 101,
     "metadata": {},
     "output_type": "execute_result"
    }
   ],
   "source": [
    "census['live in this house 1 year ago'].value_counts()"
   ]
  },
  {
   "cell_type": "markdown",
   "metadata": {},
   "source": [
    "# num persons worked for employer\n"
   ]
  },
  {
   "cell_type": "code",
   "execution_count": 102,
   "metadata": {},
   "outputs": [
    {
     "data": {
      "text/plain": [
       "6    11763\n",
       "0     8397\n",
       "1     5139\n",
       "4     4159\n",
       "3     3557\n",
       "2     2594\n",
       "5     1773\n",
       "Name: num persons worked for employer, dtype: int64"
      ]
     },
     "execution_count": 102,
     "metadata": {},
     "output_type": "execute_result"
    }
   ],
   "source": [
    "census['num persons worked for employer'].value_counts()"
   ]
  },
  {
   "cell_type": "code",
   "execution_count": 103,
   "metadata": {},
   "outputs": [
    {
     "name": "stdout",
     "output_type": "stream",
     "text": [
      "0-1    145\n",
      "5+     134\n",
      "2-4     95\n",
      "dtype: int64\n"
     ]
    }
   ],
   "source": [
    "temp_small_set = small_set.copy()\n",
    "num_persons = []\n",
    "for item in temp_small_set['num persons worked for employer'].tolist():\n",
    "    class_ = int(item)\n",
    "    if class_ == 6 or class_ == 5:\n",
    "        num_persons.append(\"5+\")\n",
    "    elif class_ == 0 or class_ == 1:\n",
    "        num_persons.append(\"0-1\")\n",
    "    else:\n",
    "        num_persons.append(\"2-4\")\n",
    "print(pd.Series(num_persons).value_counts())\n",
    "temp_small_set['num persons worked for employer'] = num_persons"
   ]
  },
  {
   "cell_type": "markdown",
   "metadata": {},
   "source": [
    "# family members info"
   ]
  },
  {
   "cell_type": "code",
   "execution_count": 104,
   "metadata": {},
   "outputs": [
    {
     "data": {
      "text/plain": [
       "Both parents present      3387\n",
       "Mother only present       1093\n",
       "Father only present        164\n",
       "Neither parent present     140\n",
       "Name: family members under 18, dtype: int64"
      ]
     },
     "execution_count": 104,
     "metadata": {},
     "output_type": "execute_result"
    }
   ],
   "source": [
    "census['family members under 18'].value_counts()"
   ]
  },
  {
   "cell_type": "code",
   "execution_count": 105,
   "metadata": {},
   "outputs": [
    {
     "data": {
      "text/plain": [
       "United-States                   30825\n",
       "Mexico                           1276\n",
       "?                                1245\n",
       "Italy                             360\n",
       "Puerto-Rico                       339\n",
       "Canada                            282\n",
       "Poland                            256\n",
       "Germany                           255\n",
       "Philippines                       244\n",
       "Cuba                              185\n",
       "China                             178\n",
       "England                           166\n",
       "Dominican-Republic                146\n",
       "India                             140\n",
       "Ireland                           132\n",
       "El-Salvador                       121\n",
       "Jamaica                            92\n",
       "Columbia                           80\n",
       "Greece                             76\n",
       "South Korea                        72\n",
       "Japan                              71\n",
       "Portugal                           65\n",
       "Haiti                              63\n",
       "Ecuador                            63\n",
       "Vietnam                            60\n",
       "Hungary                            60\n",
       "Iran                               58\n",
       "Scotland                           56\n",
       "Peru                               49\n",
       "Yugoslavia                         47\n",
       "Nicaragua                          46\n",
       "Guatemala                          42\n",
       "France                             36\n",
       "Taiwan                             32\n",
       "Cambodia                           26\n",
       "Honduras                           26\n",
       "Outlying-U S (Guam USVI etc)       24\n",
       "Thailand                           21\n",
       "Laos                               20\n",
       "Hong Kong                          19\n",
       "Trinadad&Tobago                    15\n",
       "Holand-Netherlands                 12\n",
       "Panama                              1\n",
       "Name: country of birth father, dtype: int64"
      ]
     },
     "execution_count": 105,
     "metadata": {},
     "output_type": "execute_result"
    }
   ],
   "source": [
    "census['country of birth father'].value_counts()"
   ]
  },
  {
   "cell_type": "code",
   "execution_count": 106,
   "metadata": {},
   "outputs": [
    {
     "data": {
      "text/plain": [
       "United-States                   31008\n",
       "Mexico                           1256\n",
       "?                                1108\n",
       "Puerto-Rico                       316\n",
       "Canada                            288\n",
       "Germany                           287\n",
       "Italy                             282\n",
       "Philippines                       255\n",
       "Poland                            232\n",
       "England                           221\n",
       "Cuba                              179\n",
       "Ireland                           156\n",
       "China                             156\n",
       "India                             144\n",
       "El-Salvador                       134\n",
       "Dominican-Republic                127\n",
       "Japan                              91\n",
       "Jamaica                            90\n",
       "South Korea                        87\n",
       "Columbia                           74\n",
       "Vietnam                            64\n",
       "Ecuador                            62\n",
       "Hungary                            62\n",
       "Haiti                              61\n",
       "Portugal                           57\n",
       "Scotland                           55\n",
       "Iran                               52\n",
       "Greece                             51\n",
       "Peru                               50\n",
       "France                             48\n",
       "Nicaragua                          47\n",
       "Guatemala                          46\n",
       "Yugoslavia                         40\n",
       "Taiwan                             36\n",
       "Honduras                           28\n",
       "Cambodia                           23\n",
       "Hong Kong                          21\n",
       "Thailand                           20\n",
       "Laos                               18\n",
       "Outlying-U S (Guam USVI etc)       17\n",
       "Trinadad&Tobago                    16\n",
       "Holand-Netherlands                 12\n",
       "Panama                              5\n",
       "Name: country of birth mother, dtype: int64"
      ]
     },
     "execution_count": 106,
     "metadata": {},
     "output_type": "execute_result"
    }
   ],
   "source": [
    "census['country of birth mother'].value_counts()"
   ]
  },
  {
   "cell_type": "code",
   "execution_count": 107,
   "metadata": {},
   "outputs": [
    {
     "data": {
      "text/plain": [
       "United-States                   33437\n",
       "Mexico                            790\n",
       "?                                 680\n",
       "Philippines                       217\n",
       "Puerto-Rico                       176\n",
       "Germany                           169\n",
       "Cuba                              151\n",
       "Canada                            128\n",
       "India                             121\n",
       "England                           119\n",
       "El-Salvador                        95\n",
       "China                              92\n",
       "Poland                             89\n",
       "Dominican-Republic                 88\n",
       "Italy                              80\n",
       "Jamaica                            80\n",
       "South Korea                        64\n",
       "Japan                              63\n",
       "Vietnam                            60\n",
       "Columbia                           54\n",
       "Haiti                              50\n",
       "Iran                               49\n",
       "Ecuador                            48\n",
       "Taiwan                             47\n",
       "Peru                               40\n",
       "Ireland                            38\n",
       "Greece                             35\n",
       "Portugal                           34\n",
       "Guatemala                          33\n",
       "Nicaragua                          33\n",
       "France                             28\n",
       "Scotland                           26\n",
       "Hong Kong                          26\n",
       "Honduras                           22\n",
       "Outlying-U S (Guam USVI etc)       20\n",
       "Thailand                           19\n",
       "Yugoslavia                         17\n",
       "Hungary                            16\n",
       "Cambodia                           14\n",
       "Laos                               12\n",
       "Trinadad&Tobago                    10\n",
       "Holand-Netherlands                  7\n",
       "Panama                              5\n",
       "Name: country of birth self, dtype: int64"
      ]
     },
     "execution_count": 107,
     "metadata": {},
     "output_type": "execute_result"
    }
   ],
   "source": [
    "census['country of birth self'].value_counts()"
   ]
  },
  {
   "cell_type": "code",
   "execution_count": 108,
   "metadata": {},
   "outputs": [
    {
     "data": {
      "text/plain": [
       "All US                    299\n",
       "Self Other                 46\n",
       "Self US, Parents Other     29\n",
       "Name: country of parent and self births, dtype: int64"
      ]
     },
     "execution_count": 108,
     "metadata": {},
     "output_type": "execute_result"
    }
   ],
   "source": [
    "temp_small_set = small_set.copy()\n",
    "parents_and_self_birth = []\n",
    "father_birth = temp_small_set['country of birth father'].tolist()\n",
    "mother_birth = temp_small_set['country of birth mother'].tolist()\n",
    "self_birth = temp_small_set['country of birth self'].tolist()\n",
    "for i in range(len(temp_small_set)):\n",
    "    father = str(father_birth[i]).lower()\n",
    "    mother = str(mother_birth[i]).lower()\n",
    "    self_ = str(self_birth[i]).lower()\n",
    "    if self_ == 'united-states':\n",
    "        if father == mother and self_ == father:\n",
    "            parents_and_self_birth.append(\"All US\")\n",
    "        else:\n",
    "            parents_and_self_birth.append(\"Self US, Parents Other\")\n",
    "    else:\n",
    "        parents_and_self_birth.append(\"Self Other\")\n",
    "temp_small_set['country of parent and self births'] = parents_and_self_birth\n",
    "temp_small_set['country of parent and self births'].value_counts()\n",
    "        \n",
    "    \n",
    "    "
   ]
  },
  {
   "cell_type": "code",
   "execution_count": 109,
   "metadata": {},
   "outputs": [
    {
     "data": {
      "text/plain": [
       "Native- Born in the United States              33437\n",
       "Foreign born- Not a citizen of U S              2100\n",
       "Foreign born- U S citizen by naturalization     1315\n",
       "Native- Born abroad of American Parent(s)        334\n",
       "Native- Born in Puerto Rico or U S Outlying      196\n",
       "Name: citizenship, dtype: int64"
      ]
     },
     "execution_count": 109,
     "metadata": {},
     "output_type": "execute_result"
    }
   ],
   "source": [
    "census['citizenship'].value_counts()"
   ]
  },
  {
   "cell_type": "markdown",
   "metadata": {},
   "source": [
    "# own business or self employed"
   ]
  },
  {
   "cell_type": "code",
   "execution_count": 110,
   "metadata": {},
   "outputs": [
    {
     "data": {
      "text/plain": [
       "0    32150\n",
       "2     4263\n",
       "1      969\n",
       "Name: own business or self employed, dtype: int64"
      ]
     },
     "execution_count": 110,
     "metadata": {},
     "output_type": "execute_result"
    }
   ],
   "source": [
    "census['own business or self employed'].value_counts()"
   ]
  },
  {
   "cell_type": "markdown",
   "metadata": {},
   "source": [
    "# veterans columns"
   ]
  },
  {
   "cell_type": "code",
   "execution_count": 111,
   "metadata": {},
   "outputs": [
    {
     "data": {
      "text/plain": [
       "No     385\n",
       "Yes     59\n",
       "Name: fill inc questionnaire for veterans admin, dtype: int64"
      ]
     },
     "execution_count": 111,
     "metadata": {},
     "output_type": "execute_result"
    }
   ],
   "source": [
    "census['fill inc questionnaire for veterans admin'].value_counts()"
   ]
  },
  {
   "cell_type": "code",
   "execution_count": 113,
   "metadata": {},
   "outputs": [
    {
     "data": {
      "text/plain": [
       "2    33201\n",
       "0     3737\n",
       "1      444\n",
       "Name: veterans benefits, dtype: int64"
      ]
     },
     "execution_count": 113,
     "metadata": {},
     "output_type": "execute_result"
    }
   ],
   "source": [
    "census['veterans benefits'].value_counts()"
   ]
  },
  {
   "cell_type": "markdown",
   "metadata": {},
   "source": [
    "# weeks worked in a year"
   ]
  },
  {
   "cell_type": "code",
   "execution_count": 115,
   "metadata": {},
   "outputs": [
    {
     "data": {
      "text/plain": [
       "52    21909\n",
       "0      8397\n",
       "40      689\n",
       "50      664\n",
       "48      474\n",
       "26      465\n",
       "30      289\n",
       "12      288\n",
       "36      276\n",
       "51      250\n",
       "20      249\n",
       "16      199\n",
       "44      193\n",
       "46      187\n",
       "8       180\n",
       "32      179\n",
       "45      170\n",
       "49      165\n",
       "35      146\n",
       "42      140\n",
       "39      136\n",
       "24      134\n",
       "4       123\n",
       "28      120\n",
       "10       99\n",
       "38       96\n",
       "13       80\n",
       "43       79\n",
       "25       77\n",
       "6        69\n",
       "15       68\n",
       "22       67\n",
       "2        66\n",
       "47       64\n",
       "1        62\n",
       "3        56\n",
       "18       54\n",
       "17       52\n",
       "5        46\n",
       "34       44\n",
       "14       42\n",
       "9        42\n",
       "7        30\n",
       "37       29\n",
       "21       29\n",
       "41       20\n",
       "29       16\n",
       "27       15\n",
       "11       15\n",
       "19       14\n",
       "33       13\n",
       "31        9\n",
       "23        7\n",
       "Name: weeks worked in year, dtype: int64"
      ]
     },
     "execution_count": 115,
     "metadata": {},
     "output_type": "execute_result"
    }
   ],
   "source": [
    "census['weeks worked in year'].value_counts()"
   ]
  },
  {
   "cell_type": "code",
   "execution_count": null,
   "metadata": {},
   "outputs": [],
   "source": []
  }
 ],
 "metadata": {
  "kernelspec": {
   "display_name": "Python 3",
   "language": "python",
   "name": "python3"
  },
  "language_info": {
   "codemirror_mode": {
    "name": "ipython",
    "version": 3
   },
   "file_extension": ".py",
   "mimetype": "text/x-python",
   "name": "python",
   "nbconvert_exporter": "python",
   "pygments_lexer": "ipython3",
   "version": "3.6.7"
  }
 },
 "nbformat": 4,
 "nbformat_minor": 2
}
