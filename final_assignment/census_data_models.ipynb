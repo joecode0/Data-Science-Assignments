{
 "cells": [
  {
   "cell_type": "code",
   "execution_count": 1,
   "metadata": {},
   "outputs": [
    {
     "name": "stdout",
     "output_type": "stream",
     "text": [
      "(23924, 50) (23924,) (7477, 50) (7477,) (5981, 50) (5981,)\n"
     ]
    }
   ],
   "source": [
    "%run final_full_data_transformation_process.ipynb\n",
    "\n",
    "print(X_train.shape, y_train.shape, X_test.shape, y_test.shape, X_dev.shape, y_dev.shape)"
   ]
  },
  {
   "cell_type": "markdown",
   "metadata": {},
   "source": [
    "# Models"
   ]
  },
  {
   "cell_type": "code",
   "execution_count": 2,
   "metadata": {},
   "outputs": [
    {
     "data": {
      "text/plain": [
       "LogisticRegression(C=1.0, class_weight=None, dual=False, fit_intercept=True,\n",
       "          intercept_scaling=1, max_iter=100, multi_class='warn',\n",
       "          n_jobs=None, penalty='l2', random_state=None, solver='warn',\n",
       "          tol=0.0001, verbose=0, warm_start=False)"
      ]
     },
     "execution_count": 2,
     "metadata": {},
     "output_type": "execute_result"
    }
   ],
   "source": [
    "from sklearn.linear_model import LogisticRegression\n",
    "\n",
    "log_reg = LogisticRegression()\n",
    "log_reg.fit(X_train, y_train)"
   ]
  },
  {
   "cell_type": "code",
   "execution_count": 3,
   "metadata": {},
   "outputs": [
    {
     "data": {
      "text/plain": [
       "SGDClassifier(alpha=0.0001, average=False, class_weight=None,\n",
       "       early_stopping=False, epsilon=0.1, eta0=1, fit_intercept=True,\n",
       "       l1_ratio=0.15, learning_rate='constant', loss='perceptron',\n",
       "       max_iter=5, n_iter=None, n_iter_no_change=5, n_jobs=None,\n",
       "       penalty=None, power_t=0.5, random_state=42, shuffle=True, tol=None,\n",
       "       validation_fraction=0.1, verbose=0, warm_start=False)"
      ]
     },
     "execution_count": 3,
     "metadata": {},
     "output_type": "execute_result"
    }
   ],
   "source": [
    "from sklearn.linear_model import SGDClassifier\n",
    "\n",
    "sgd = SGDClassifier(max_iter=5, tol=None, random_state=42,\n",
    "                   loss=\"perceptron\", eta0=1, learning_rate=\"constant\", penalty=None)\n",
    "sgd.fit(X_train, y_train)"
   ]
  },
  {
   "cell_type": "code",
   "execution_count": 4,
   "metadata": {},
   "outputs": [
    {
     "data": {
      "text/plain": [
       "GaussianNB(priors=None, var_smoothing=1e-09)"
      ]
     },
     "execution_count": 4,
     "metadata": {},
     "output_type": "execute_result"
    }
   ],
   "source": [
    "from sklearn.naive_bayes import GaussianNB\n",
    "\n",
    "gnb = GaussianNB() \n",
    "gnb.fit(X_train, y_train)"
   ]
  },
  {
   "cell_type": "code",
   "execution_count": 5,
   "metadata": {},
   "outputs": [
    {
     "data": {
      "text/plain": [
       "SGDClassifier(alpha=0.0001, average=False, class_weight=None,\n",
       "       early_stopping=False, epsilon=0.1, eta0=1, fit_intercept=True,\n",
       "       l1_ratio=0.15, learning_rate='constant', loss='perceptron',\n",
       "       max_iter=5, n_iter=None, n_iter_no_change=5, n_jobs=None,\n",
       "       penalty=None, power_t=0.5, random_state=42, shuffle=True, tol=None,\n",
       "       validation_fraction=0.1, verbose=0, warm_start=False)"
      ]
     },
     "execution_count": 5,
     "metadata": {},
     "output_type": "execute_result"
    }
   ],
   "source": [
    "from sklearn.kernel_approximation import RBFSampler\n",
    "\n",
    "rbf_features = RBFSampler(gamma=1, random_state=42)\n",
    "\n",
    "X_train_features = rbf_features.fit_transform(X_train)\n",
    "\n",
    "sgd_rbf = SGDClassifier(max_iter=5, random_state=42, loss=\"perceptron\", \n",
    "                        eta0=1, learning_rate=\"constant\", penalty=None)\n",
    "\n",
    "sgd_rbf.fit(X_train_features, y_train) "
   ]
  },
  {
   "cell_type": "markdown",
   "metadata": {},
   "source": [
    "# Evaluation"
   ]
  },
  {
   "cell_type": "code",
   "execution_count": 6,
   "metadata": {},
   "outputs": [],
   "source": [
    "from sklearn.model_selection import cross_val_score\n",
    "from sklearn.model_selection import cross_val_predict\n",
    "from sklearn.metrics import confusion_matrix\n",
    "from sklearn.metrics import precision_score, recall_score, f1_score\n",
    "from sklearn.metrics import roc_auc_score\n",
    "\n",
    "def print_complete_evaluation_statistics(model,X_train,y_train,do_roc):\n",
    "    accuracy = np.mean(cross_val_score(model, X_train, y_train, cv=5, scoring=\"accuracy\"))\n",
    "    \n",
    "    y_train_predictions = cross_val_predict(model, X_train, y_train, cv=5)\n",
    "    \n",
    "    conf_matrix = confusion_matrix(y_train, y_train_predictions)\n",
    "    precision = precision_score(y_train, y_train_predictions)\n",
    "    recall = recall_score(y_train, y_train_predictions)\n",
    "    f1 = f1_score(y_train, y_train_predictions)\n",
    "    \n",
    "    if do_roc:\n",
    "        y_scores = cross_val_predict(model, X_train, y_train, cv=5, method=\"decision_function\")\n",
    "        roc_score = roc_auc_score(y_train, y_scores)\n",
    "    \n",
    "    \n",
    "    print(\"Accuracy: {}\\nPrecision: {}\\nRecall: {}\\nF1: {}\".format(accuracy,precision,recall,f1))\n",
    "    if do_roc:\n",
    "        print(\"ROC (AUC) Score: {}\".format(roc_score))\n",
    "    print(\"Confusion Matrix:\")\n",
    "    print(\"{}\".format(conf_matrix))"
   ]
  },
  {
   "cell_type": "code",
   "execution_count": 7,
   "metadata": {},
   "outputs": [
    {
     "name": "stdout",
     "output_type": "stream",
     "text": [
      "Accuracy: 0.8853033186204099\n",
      "Precision: 0.8327338129496403\n",
      "Recall: 0.8180212014134276\n",
      "F1: 0.8253119429590019\n",
      "ROC (AUC) Score: 0.9479730880868248\n",
      "Confusion Matrix:\n",
      "[[14698  1302]\n",
      " [ 1442  6482]]\n"
     ]
    }
   ],
   "source": [
    "print_complete_evaluation_statistics(log_reg,X_train,y_train,True)"
   ]
  },
  {
   "cell_type": "code",
   "execution_count": 8,
   "metadata": {},
   "outputs": [
    {
     "name": "stdout",
     "output_type": "stream",
     "text": [
      "Accuracy: 0.8335149121243575\n",
      "Precision: 0.8138238573021181\n",
      "Recall: 0.6448763250883393\n",
      "F1: 0.7195662888122228\n",
      "ROC (AUC) Score: 0.9046561553508328\n",
      "Confusion Matrix:\n",
      "[[14831  1169]\n",
      " [ 2814  5110]]\n"
     ]
    }
   ],
   "source": [
    "print_complete_evaluation_statistics(sgd,X_train,y_train,True)"
   ]
  },
  {
   "cell_type": "code",
   "execution_count": 9,
   "metadata": {},
   "outputs": [
    {
     "name": "stdout",
     "output_type": "stream",
     "text": [
      "Accuracy: 0.6756819579720629\n",
      "Precision: 0.5054237065281704\n",
      "Recall: 0.9702170620898536\n",
      "F1: 0.6646207045601902\n",
      "Confusion Matrix:\n",
      "[[8477 7523]\n",
      " [ 236 7688]]\n"
     ]
    }
   ],
   "source": [
    "print_complete_evaluation_statistics(gnb,X_train,y_train,False)"
   ]
  },
  {
   "cell_type": "code",
   "execution_count": 10,
   "metadata": {},
   "outputs": [
    {
     "name": "stdout",
     "output_type": "stream",
     "text": [
      "0.6557849857883297 0.8138238573021181 0.6448763250883393 0.7195662888122228\n",
      "Accuracy: 0.573273782689075\n",
      "Precision: 0.3808282048607489\n",
      "Recall: 0.46075214538112064\n",
      "F1: 0.4169950316943636\n",
      "ROC (AUC) Score: 0.5604448116481575\n",
      "Confusion Matrix:\n",
      "[[10064  5936]\n",
      " [ 4273  3651]]\n"
     ]
    }
   ],
   "source": [
    "accuracy = sgd_rbf.score(X_train_features, y_train)\n",
    "y_train_pred = cross_val_predict(sgd, X_train, y_train, cv=5)\n",
    "precision = precision_score(y_train, y_train_pred)\n",
    "recall = recall_score(y_train, y_train_pred)\n",
    "f1 = f1_score(y_train, y_train_pred)\n",
    "print(accuracy, precision, recall, f1)\n",
    "print_complete_evaluation_statistics(sgd_rbf,X_train_features,y_train,True)"
   ]
  },
  {
   "cell_type": "code",
   "execution_count": 11,
   "metadata": {},
   "outputs": [
    {
     "data": {
      "image/png": "[encoded data removed]",
      "text/plain": [
       "<Figure size 432x288 with 1 Axes>"
      ]
     },
     "metadata": {
      "needs_background": "light"
     },
     "output_type": "display_data"
    }
   ],
   "source": [
    "# precision-recall curve for log_reg\n",
    "y_scores = cross_val_predict(log_reg, X_train, y_train, cv=5, method=\"decision_function\")\n",
    "roc_score = roc_auc_score(y_train, y_scores)\n",
    "\n",
    "%matplotlib inline\n",
    "import matplotlib.pyplot as plt\n",
    "from sklearn.metrics import precision_recall_curve\n",
    "  \n",
    "precisions, recalls, thresholds = precision_recall_curve(y_train, y_scores)\n",
    "\n",
    "def plot_pr_vs_threshold(precisions, recalls, thresholds):\n",
    "    plt.plot(thresholds, precisions[:-1], \"b--\", label=\"Precision\")\n",
    "    plt.plot(thresholds, recalls[:-1], \"g--\", label=\"Recall\")\n",
    "    plt.xlabel(\"Threshold\")\n",
    "    plt.legend(loc=\"upper right\")\n",
    "    plt.ylim([0, 1])\n",
    "    plt.xlim([-10,20])\n",
    "    \n",
    "plot_pr_vs_threshold(precisions, recalls, thresholds)\n",
    "plt.show()\n"
   ]
  },
  {
   "cell_type": "code",
   "execution_count": 12,
   "metadata": {},
   "outputs": [
    {
     "data": {
      "image/png": "[encoded data removed]",
      "text/plain": [
       "<Figure size 432x288 with 1 Axes>"
      ]
     },
     "metadata": {
      "needs_background": "light"
     },
     "output_type": "display_data"
    }
   ],
   "source": [
    "def plot_precision_vs_recall(precisions, recalls):\n",
    "    plt.plot(recalls, precisions, \"b-\", linewidth=2)\n",
    "    plt.xlabel(\"Recall\")\n",
    "    plt.ylabel(\"Precision\")\n",
    "    plt.axis([0, 1, 0, 1])\n",
    "\n",
    "plot_precision_vs_recall(precisions, recalls)\n",
    "plt.show()"
   ]
  },
  {
   "cell_type": "code",
   "execution_count": 13,
   "metadata": {},
   "outputs": [
    {
     "data": {
      "image/png": "[encoded data removed]",
      "text/plain": [
       "<Figure size 432x288 with 1 Axes>"
      ]
     },
     "metadata": {
      "needs_background": "light"
     },
     "output_type": "display_data"
    }
   ],
   "source": [
    "from sklearn.metrics import roc_curve\n",
    "\n",
    "fpr, tpr, thresholds = roc_curve(y_train, y_scores)\n",
    "\n",
    "def plot_roc_curve(fpr, tpr, label=None):\n",
    "    plt.plot(fpr, tpr, linewidth=2, label=label)\n",
    "    plt.plot([0, 1], [0, 1], \"k--\")\n",
    "    plt.axis([0, 1, 0, 1.01])\n",
    "    plt.xlabel(\"False positive rate (fpr)\")\n",
    "    plt.ylabel(\"True positive rate (tpr)\")\n",
    "    \n",
    "plot_roc_curve(fpr, tpr)\n",
    "plt.show()"
   ]
  },
  {
   "cell_type": "markdown",
   "metadata": {},
   "source": [
    "# Neural Network"
   ]
  },
  {
   "cell_type": "code",
   "execution_count": 14,
   "metadata": {},
   "outputs": [],
   "source": [
    "import tensorflow as tf\n",
    "import time"
   ]
  },
  {
   "cell_type": "code",
   "execution_count": 15,
   "metadata": {},
   "outputs": [],
   "source": [
    "def get_accuracy(predictions,target):\n",
    "    count_correct = 0\n",
    "    total = len(predictions)\n",
    "    for i in range(len(predictions)):\n",
    "        p = predictions[i]\n",
    "        t = target[i]\n",
    "        if p == t: \n",
    "            count_correct += 1\n",
    "    accuracy = round(count_correct/total,7)*100\n",
    "    return accuracy"
   ]
  },
  {
   "cell_type": "code",
   "execution_count": 16,
   "metadata": {
    "scrolled": true
   },
   "outputs": [
    {
     "name": "stdout",
     "output_type": "stream",
     "text": [
      "Hidden Layer Size: 100\n",
      "Learning Rate: 0.5\n",
      "Total Epochs: 500\n",
      "Accuracy after epoch 0 = 38.48855%\n",
      "Accuracy after epoch 10 = 87.105%\n",
      "Accuracy after epoch 20 = 87.89918%\n",
      "Accuracy after epoch 30 = 88.30462999999999%\n",
      "Accuracy after epoch 40 = 88.48019000000001%\n",
      "Accuracy after epoch 50 = 88.5805%\n",
      "Accuracy after epoch 60 = 88.6223%\n",
      "Accuracy after epoch 70 = 88.68918000000001%\n",
      "Accuracy after epoch 80 = 88.7268%\n",
      "Accuracy after epoch 90 = 88.79786%\n",
      "Accuracy after epoch 100 = 88.83548%\n",
      "Accuracy after epoch 110 = 88.88146%\n",
      "Accuracy after epoch 120 = 88.90654%\n",
      "Accuracy after epoch 130 = 88.93997999999999%\n",
      "Accuracy after epoch 140 = 88.94416000000001%\n",
      "Accuracy after epoch 150 = 88.9985%\n",
      "Accuracy after epoch 160 = 89.01103%\n",
      "Accuracy after epoch 170 = 89.03611000000001%\n",
      "Accuracy after epoch 180 = 89.01521%\n",
      "Accuracy after epoch 190 = 89.06954999999999%\n",
      "Accuracy after epoch 200 = 89.10299%\n",
      "Accuracy after epoch 210 = 89.11552999999999%\n",
      "Accuracy after epoch 220 = 89.15733%\n",
      "Accuracy after epoch 230 = 89.19494999999999%\n",
      "Accuracy after epoch 240 = 89.20331%\n",
      "Accuracy after epoch 250 = 89.22421%\n",
      "Accuracy after epoch 260 = 89.26183%\n",
      "Accuracy after epoch 270 = 89.28690999999999%\n",
      "Accuracy after epoch 280 = 89.31617%\n",
      "Accuracy after epoch 290 = 89.33707%\n",
      "Accuracy after epoch 300 = 89.37051%\n",
      "Accuracy after epoch 310 = 89.37887%\n",
      "Accuracy after epoch 320 = 89.21167%\n",
      "Accuracy after epoch 330 = 87.00886%\n",
      "Accuracy after epoch 340 = 88.33807%\n",
      "Accuracy after epoch 350 = 89.11135%\n",
      "Accuracy after epoch 360 = 89.32871%\n",
      "Accuracy after epoch 370 = 89.36633%\n",
      "Accuracy after epoch 380 = 89.42485%\n",
      "Accuracy after epoch 390 = 89.42903%\n",
      "Accuracy after epoch 400 = 89.40813%\n",
      "Accuracy after epoch 410 = 89.39977%\n",
      "Accuracy after epoch 420 = 89.40395%\n",
      "Accuracy after epoch 430 = 89.38305%\n",
      "Accuracy after epoch 440 = 89.29945000000001%\n",
      "Accuracy after epoch 450 = 89.14479%\n",
      "Accuracy after epoch 460 = 89.13643%\n",
      "Accuracy after epoch 470 = 89.29527%\n",
      "Accuracy after epoch 480 = 89.32035%\n",
      "Accuracy after epoch 490 = 89.35797%\n",
      "Time taken = 27.92677 seconds\n"
     ]
    }
   ],
   "source": [
    "tf.reset_default_graph()\n",
    "\n",
    "x = tf.placeholder(tf.float32, [None, 50], name=\"x\")\n",
    "target = tf.placeholder(tf.int32, [None], name=\"target\")\n",
    "learning_rate = tf.placeholder(tf.float32, name=\"learning_rate\")\n",
    "\n",
    "hidden_layer_size = 100\n",
    "lr = 0.5\n",
    "epochs = 500\n",
    "\n",
    "hidden = tf.layers.dense(x, hidden_layer_size, activation=tf.tanh)\n",
    "output = tf.layers.dense(hidden, 2, activation=None) # changed to 2 because of 2 possible classes\n",
    "\n",
    "probabilities = tf.nn.softmax(output)\n",
    "predictions = tf.argmax(probabilities, axis=1)\n",
    "loss_ = tf.nn.sparse_softmax_cross_entropy_with_logits(logits=output, labels=target)\n",
    "loss = tf.reduce_mean(loss_)\n",
    "\n",
    "optimizer = tf.train.GradientDescentOptimizer(learning_rate=learning_rate)\n",
    "train_op = optimizer.minimize(loss)\n",
    "\n",
    "data_x = X_train\n",
    "data_targets = y_train.tolist()\n",
    "print(\"Hidden Layer Size: {}\".format(hidden_layer_size))\n",
    "print(\"Learning Rate: {}\".format(lr))\n",
    "print(\"Total Epochs: {}\".format(epochs))\n",
    "start_time = time.time()\n",
    "tf.set_random_seed(20)\n",
    "with tf.Session() as sess:\n",
    "    sess.run(tf.global_variables_initializer())\n",
    "    for epoch in range(epochs):\n",
    "        result, _ = sess.run([predictions, train_op], feed_dict={x: data_x, target: data_targets, learning_rate: lr})\n",
    "        if epoch % 10 == 0:\n",
    "            print(\"Accuracy after epoch {} = {}%\".format(epoch,get_accuracy(result,data_targets)))\n",
    "end_time = time.time()\n",
    "print(\"Time taken = {} seconds\".format(round(end_time-start_time,5)))"
   ]
  },
  {
   "cell_type": "code",
   "execution_count": 17,
   "metadata": {},
   "outputs": [
    {
     "name": "stdout",
     "output_type": "stream",
     "text": [
      "Hidden Layer Size: 50\n",
      "Learning Rate: 1.5\n",
      "Total Epochs: 200\n",
      "Accuracy after epoch 0 = 50.622809999999994%\n",
      "Accuracy after epoch 10 = 66.74887000000001%\n",
      "Accuracy after epoch 20 = 75.30512999999999%\n",
      "Accuracy after epoch 30 = 81.60007%\n",
      "Accuracy after epoch 40 = 84.02441%\n",
      "Accuracy after epoch 50 = 85.52082%\n",
      "Accuracy after epoch 60 = 86.54489%\n",
      "Accuracy after epoch 70 = 87.25547999999999%\n",
      "Accuracy after epoch 80 = 87.58987%\n",
      "Accuracy after epoch 90 = 87.895%\n",
      "Accuracy after epoch 100 = 88.07892000000001%\n",
      "Accuracy after epoch 110 = 88.22521%\n",
      "Accuracy after epoch 120 = 88.37568999999999%\n",
      "Accuracy after epoch 130 = 88.47601%\n",
      "Accuracy after epoch 140 = 88.50945%\n",
      "Accuracy after epoch 150 = 88.58468%\n",
      "Accuracy after epoch 160 = 88.65155999999999%\n",
      "Accuracy after epoch 170 = 88.69336%\n",
      "Accuracy after epoch 180 = 88.70172%\n",
      "Accuracy after epoch 190 = 88.73516000000001%\n",
      "Time taken = 7.55276 seconds\n"
     ]
    }
   ],
   "source": [
    "tf.reset_default_graph()\n",
    "\n",
    "x = tf.placeholder(tf.float32, [None, 50], name=\"x\")\n",
    "target = tf.placeholder(tf.int32, [None], name=\"target\")\n",
    "learning_rate = tf.placeholder(tf.float32, name=\"learning_rate\")\n",
    "\n",
    "hidden_layer_size = 50\n",
    "lr = 1.5\n",
    "epochs = 200\n",
    "\n",
    "hidden = tf.layers.dense(x, hidden_layer_size, activation=tf.tanh)\n",
    "output = tf.layers.dense(hidden, 2, activation=None) # changed to 2 because of 2 possible classes\n",
    "\n",
    "probabilities = tf.nn.softmax(output)\n",
    "predictions = tf.argmax(probabilities, axis=1)\n",
    "loss_ = tf.nn.sparse_softmax_cross_entropy_with_logits(logits=output, labels=target)\n",
    "loss = tf.reduce_mean(loss_)\n",
    "\n",
    "optimizer = tf.train.AdadeltaOptimizer(learning_rate=learning_rate)\n",
    "train_op = optimizer.minimize(loss)\n",
    "\n",
    "data_x = X_train\n",
    "data_targets = y_train.tolist()\n",
    "print(\"Hidden Layer Size: {}\".format(hidden_layer_size))\n",
    "print(\"Learning Rate: {}\".format(lr))\n",
    "print(\"Total Epochs: {}\".format(epochs))\n",
    "start_time = time.time()\n",
    "tf.set_random_seed(20)\n",
    "with tf.Session() as sess:\n",
    "    sess.run(tf.global_variables_initializer())\n",
    "    for epoch in range(epochs):\n",
    "        result, _ = sess.run([predictions, train_op], feed_dict={x: data_x, target: data_targets, learning_rate: lr})\n",
    "        if epoch % 10 == 0:\n",
    "            print(\"Accuracy after epoch {} = {}%\".format(epoch,get_accuracy(result,data_targets)))\n",
    "end_time = time.time()\n",
    "print(\"Time taken = {} seconds\".format(round(end_time-start_time,5)))"
   ]
  },
  {
   "cell_type": "code",
   "execution_count": 18,
   "metadata": {
    "scrolled": true
   },
   "outputs": [
    {
     "name": "stdout",
     "output_type": "stream",
     "text": [
      "Hidden Layer Size: 50\n",
      "Learning Rate: 0.1\n",
      "Total Epochs: 500\n",
      "Accuracy after epoch 0 = 52.34075%\n",
      "Accuracy after epoch 10 = 87.42267%\n",
      "Accuracy after epoch 20 = 88.71426%\n",
      "Accuracy after epoch 30 = 88.76024%\n",
      "Accuracy after epoch 40 = 89.25765%\n",
      "Accuracy after epoch 50 = 89.42067%\n",
      "Accuracy after epoch 60 = 89.55024%\n",
      "Accuracy after epoch 70 = 89.61712%\n",
      "Accuracy after epoch 80 = 89.7885%\n",
      "Accuracy after epoch 90 = 89.88880999999999%\n",
      "Accuracy after epoch 100 = 89.95151%\n",
      "Accuracy after epoch 110 = 90.08527%\n",
      "Accuracy after epoch 120 = 90.20648999999999%\n",
      "Accuracy after epoch 130 = 90.38622%\n",
      "Accuracy after epoch 140 = 90.44892%\n",
      "Accuracy after epoch 150 = 90.54924%\n",
      "Accuracy after epoch 160 = 90.69554%\n",
      "Accuracy after epoch 170 = 90.83347%\n",
      "Accuracy after epoch 180 = 87.99531999999999%\n",
      "Accuracy after epoch 190 = 89.29527%\n",
      "Accuracy after epoch 200 = 90.3486%\n",
      "Accuracy after epoch 210 = 90.85019%\n",
      "Accuracy after epoch 220 = 91.05919%\n",
      "Accuracy after epoch 230 = 91.2431%\n",
      "Accuracy after epoch 240 = 91.41448%\n",
      "Accuracy after epoch 250 = 91.53988%\n",
      "Accuracy after epoch 260 = 91.67362999999999%\n",
      "Accuracy after epoch 270 = 91.79066999999999%\n",
      "Accuracy after epoch 280 = 91.92861%\n",
      "Accuracy after epoch 290 = 91.67781000000001%\n",
      "Accuracy after epoch 300 = 90.23157%\n",
      "Accuracy after epoch 310 = 91.40194000000001%\n",
      "Accuracy after epoch 320 = 91.52316%\n",
      "Accuracy after epoch 330 = 92.08326%\n",
      "Accuracy after epoch 340 = 92.33406%\n",
      "Accuracy after epoch 350 = 92.52215%\n",
      "Accuracy after epoch 360 = 92.62665%\n",
      "Accuracy after epoch 370 = 92.75205%\n",
      "Accuracy after epoch 380 = 92.73115%\n",
      "Accuracy after epoch 390 = 92.84819%\n",
      "Accuracy after epoch 400 = 92.88163%\n",
      "Accuracy after epoch 410 = 92.92342000000001%\n",
      "Accuracy after epoch 420 = 92.75622999999999%\n",
      "Accuracy after epoch 430 = 91.68617%\n",
      "Accuracy after epoch 440 = 92.39258%\n",
      "Accuracy after epoch 450 = 92.49289%\n",
      "Accuracy after epoch 460 = 93.18258%\n",
      "Accuracy after epoch 470 = 93.21184%\n",
      "Accuracy after epoch 480 = 93.36231000000001%\n",
      "Accuracy after epoch 490 = 93.44591%\n",
      "Accuracy on dev set: 87.87828\n",
      "Time taken = 16.4587 seconds\n"
     ]
    }
   ],
   "source": [
    "# BEST SO FAR\n",
    "\n",
    "tf.reset_default_graph()\n",
    "\n",
    "x = tf.placeholder(tf.float32, [None, 50], name=\"x\")\n",
    "target = tf.placeholder(tf.int32, [None], name=\"target\")\n",
    "learning_rate = tf.placeholder(tf.float32, name=\"learning_rate\")\n",
    "\n",
    "hidden_layer_size = 50\n",
    "lr = 0.1\n",
    "epochs = 500\n",
    "\n",
    "hidden = tf.layers.dense(x, hidden_layer_size, activation=tf.tanh)\n",
    "output = tf.layers.dense(hidden, 2, activation=None) # changed to 2 because of 2 possible classes\n",
    "\n",
    "probabilities = tf.nn.softmax(output)\n",
    "predictions = tf.argmax(probabilities, axis=1)\n",
    "loss_ = tf.nn.sparse_softmax_cross_entropy_with_logits(logits=output, labels=target)\n",
    "loss = tf.reduce_mean(loss_)\n",
    "\n",
    "optimizer = tf.train.AdamOptimizer(learning_rate=learning_rate)\n",
    "train_op = optimizer.minimize(loss)\n",
    "\n",
    "data_x = X_train\n",
    "data_targets = y_train.tolist()\n",
    "print(\"Hidden Layer Size: {}\".format(hidden_layer_size))\n",
    "print(\"Learning Rate: {}\".format(lr))\n",
    "print(\"Total Epochs: {}\".format(epochs))\n",
    "start_time = time.time()\n",
    "tf.set_random_seed(20)\n",
    "with tf.Session() as sess:\n",
    "    sess.run(tf.global_variables_initializer())\n",
    "    for epoch in range(epochs):\n",
    "        result, _ = sess.run([predictions, train_op], feed_dict={x: data_x, target: data_targets, learning_rate: lr})\n",
    "        if epoch % 10 == 0:\n",
    "            print(\"Accuracy after epoch {} = {}%\".format(epoch,get_accuracy(result,data_targets)))\n",
    "    result_dev, _ = sess.run([predictions, train_op], feed_dict={x: X_dev, target: y_dev, learning_rate: lr})\n",
    "    print(\"Accuracy on dev set: {}\".format(get_accuracy(result_dev,y_dev.tolist())))\n",
    "end_time = time.time()\n",
    "print(\"Time taken = {} seconds\".format(round(end_time-start_time,5)))"
   ]
  },
  {
   "cell_type": "code",
   "execution_count": 19,
   "metadata": {
    "scrolled": true
   },
   "outputs": [
    {
     "name": "stdout",
     "output_type": "stream",
     "text": [
      "Hidden Layer Size: 100\n",
      "Learning Rate: 0.1\n",
      "Total Epochs: 100\n",
      "Accuracy after epoch 0 = 53.01371%\n",
      "Accuracy after epoch 10 = 88.01204%\n",
      "Accuracy after epoch 20 = 87.93262%\n",
      "Accuracy after epoch 30 = 88.30462999999999%\n",
      "Accuracy after epoch 40 = 88.92326%\n",
      "Accuracy after epoch 50 = 89.30781%\n",
      "Accuracy after epoch 60 = 89.42903%\n",
      "Accuracy after epoch 70 = 89.5586%\n",
      "Accuracy after epoch 80 = 89.73834000000001%\n",
      "Accuracy after epoch 90 = 89.8094%\n",
      "Accuracy on dev set: 89.83448\n",
      "Time taken = 5.31064 seconds\n"
     ]
    }
   ],
   "source": [
    "# BEST SO FAR\n",
    "\n",
    "tf.reset_default_graph()\n",
    "\n",
    "x = tf.placeholder(tf.float32, [None, 50], name=\"x\")\n",
    "target = tf.placeholder(tf.int32, [None], name=\"target\")\n",
    "learning_rate = tf.placeholder(tf.float32, name=\"learning_rate\")\n",
    "\n",
    "hidden_layer_size = 100\n",
    "lr = 0.1\n",
    "epochs = 100\n",
    "\n",
    "hidden = tf.layers.dense(x, hidden_layer_size, activation=tf.tanh)\n",
    "output = tf.layers.dense(hidden, 2, activation=None) # changed to 2 because of 2 possible classes\n",
    "\n",
    "probabilities = tf.nn.softmax(output)\n",
    "predictions = tf.argmax(probabilities, axis=1)\n",
    "loss_ = tf.nn.sparse_softmax_cross_entropy_with_logits(logits=output, labels=target)\n",
    "loss = tf.reduce_mean(loss_)\n",
    "\n",
    "optimizer = tf.train.AdamOptimizer(learning_rate=learning_rate)\n",
    "train_op = optimizer.minimize(loss)\n",
    "\n",
    "data_x = X_train\n",
    "data_targets = y_train.tolist()\n",
    "print(\"Hidden Layer Size: {}\".format(hidden_layer_size))\n",
    "print(\"Learning Rate: {}\".format(lr))\n",
    "print(\"Total Epochs: {}\".format(epochs))\n",
    "start_time = time.time()\n",
    "tf.set_random_seed(20)\n",
    "with tf.Session() as sess:\n",
    "    sess.run(tf.global_variables_initializer())\n",
    "    for epoch in range(epochs):\n",
    "        result, _ = sess.run([predictions, train_op], feed_dict={x: data_x, target: data_targets, learning_rate: lr})\n",
    "        if epoch % 10 == 0:\n",
    "            print(\"Accuracy after epoch {} = {}%\".format(epoch,get_accuracy(result,data_targets)))\n",
    "    result_dev, _ = sess.run([predictions, train_op], feed_dict={x: X_dev, target: y_dev, learning_rate: lr})\n",
    "    print(\"Accuracy on dev set: {}\".format(get_accuracy(result_dev,y_dev.tolist())))\n",
    "end_time = time.time()\n",
    "print(\"Time taken = {} seconds\".format(round(end_time-start_time,5)))"
   ]
  },
  {
   "cell_type": "code",
   "execution_count": 20,
   "metadata": {
    "scrolled": true
   },
   "outputs": [
    {
     "name": "stdout",
     "output_type": "stream",
     "text": [
      "Hidden Layer Size: 100\n",
      "Learning Rate: 0.1\n",
      "Total Epochs: 100\n",
      "Accuracy after epoch 0 = 64.88045%\n",
      "Accuracy after epoch 10 = 81.78398%\n",
      "Accuracy after epoch 20 = 76.8517%\n",
      "Accuracy after epoch 30 = 77.67096%\n",
      "Accuracy after epoch 40 = 77.4536%\n",
      "Accuracy after epoch 50 = 76.78064%\n",
      "Accuracy after epoch 60 = 77.67931999999999%\n",
      "Accuracy after epoch 70 = 78.17673%\n",
      "Accuracy after epoch 80 = 78.06805%\n",
      "Accuracy after epoch 90 = 78.21435%\n",
      "Accuracy on dev set: 89.7676\n",
      "Accuracy on test set: 88.91267\n",
      "Time taken = 5.77282 seconds\n"
     ]
    }
   ],
   "source": [
    "tf.reset_default_graph()\n",
    "\n",
    "x = tf.placeholder(tf.float32, [None, 50], name=\"x\")\n",
    "target = tf.placeholder(tf.int32, [None], name=\"target\")\n",
    "learning_rate = tf.placeholder(tf.float32, name=\"learning_rate\")\n",
    "prob = tf.placeholder_with_default(1.0, shape=())\n",
    "\n",
    "hidden_layer_size = 100\n",
    "lr = 0.1\n",
    "epochs = 100\n",
    "keep_prob = 0.5\n",
    "\n",
    "hidden = tf.layers.dense(x, hidden_layer_size, activation=tf.tanh)\n",
    "output = tf.layers.dense(hidden, 2, activation=None) # changed to 2 because of 2 possible classes\n",
    "layer = tf.nn.dropout(output, prob)\n",
    "\n",
    "probabilities = tf.nn.softmax(layer)\n",
    "predictions = tf.argmax(probabilities, axis=1)\n",
    "loss_ = tf.nn.sparse_softmax_cross_entropy_with_logits(logits=output, labels=target)\n",
    "loss = tf.reduce_mean(loss_)\n",
    "\n",
    "optimizer = tf.train.AdamOptimizer(learning_rate=learning_rate)\n",
    "train_op = optimizer.minimize(loss)\n",
    "\n",
    "data_x = X_train\n",
    "data_targets = y_train.tolist()\n",
    "print(\"Hidden Layer Size: {}\".format(hidden_layer_size))\n",
    "print(\"Learning Rate: {}\".format(lr))\n",
    "print(\"Total Epochs: {}\".format(epochs))\n",
    "start_time = time.time()\n",
    "test_set_predictions = []\n",
    "tf.set_random_seed(20)\n",
    "with tf.Session() as sess:\n",
    "    sess.run(tf.global_variables_initializer())\n",
    "    for epoch in range(epochs):\n",
    "        result, _ = sess.run([predictions, train_op], feed_dict={x: data_x, target: data_targets, learning_rate: lr, prob: keep_prob})\n",
    "        if epoch % 10 == 0:\n",
    "            print(\"Accuracy after epoch {} = {}%\".format(epoch,get_accuracy(result,data_targets)))\n",
    "    tf.set_random_seed(30)\n",
    "    result_dev, _ = sess.run([predictions, train_op], feed_dict={x: X_dev, target: y_dev, learning_rate: lr})\n",
    "    print(\"Accuracy on dev set: {}\".format(get_accuracy(result_dev,y_dev.tolist())))\n",
    "    result_test, _ = sess.run([predictions, train_op], feed_dict={x: X_test, target: y_test, learning_rate: lr})\n",
    "    print(\"Accuracy on test set: {}\".format(get_accuracy(result_test,y_test.tolist())))\n",
    "    test_set_predictions = result_test\n",
    "end_time = time.time()\n",
    "print(\"Time taken = {} seconds\".format(round(end_time-start_time,5)))"
   ]
  },
  {
   "cell_type": "code",
   "execution_count": 21,
   "metadata": {},
   "outputs": [
    {
     "name": "stdout",
     "output_type": "stream",
     "text": [
      "88.91267\n"
     ]
    }
   ],
   "source": [
    "# the above disparity is due to dropout: the conditions for training and dev set predictions are different\n",
    "# i.e we aren't throwing away activations\n",
    "best_predictions = test_set_predictions\n",
    "best_targets = y_test.tolist()\n",
    "print(get_accuracy(best_predictions,best_targets))"
   ]
  },
  {
   "cell_type": "code",
   "execution_count": 22,
   "metadata": {},
   "outputs": [
    {
     "name": "stdout",
     "output_type": "stream",
     "text": [
      "Accuracy: 0.8891266550755651\n",
      "Precision: 0.8309236947791164\n",
      "Recall: 0.835284618490109\n",
      "F1: 0.8330984497684719\n",
      "Confusion Matrix:\n",
      "[[4579  421]\n",
      " [ 408 2069]]\n"
     ]
    }
   ],
   "source": [
    "from sklearn.metrics import accuracy_score\n",
    "def nn_evaluation(predictions,targets):\n",
    "    accuracy = accuracy_score(targets, predictions)\n",
    "    conf_matrix = confusion_matrix(targets, predictions)\n",
    "    precision = precision_score(targets, predictions)\n",
    "    recall = recall_score(targets, predictions)\n",
    "    f1 = f1_score(targets, predictions)\n",
    "    print(\"Accuracy: {}\".format(accuracy))\n",
    "    print(\"Precision: {}\".format(precision))\n",
    "    print(\"Recall: {}\".format(recall))\n",
    "    print(\"F1: {}\".format(f1))\n",
    "    print(\"Confusion Matrix:\")\n",
    "    print(\"{}\".format(conf_matrix))\n",
    "nn_evaluation(best_predictions,best_targets)"
   ]
  },
  {
   "cell_type": "code",
   "execution_count": null,
   "metadata": {},
   "outputs": [],
   "source": []
  }
 ],
 "metadata": {
  "kernelspec": {
   "display_name": "Python 3",
   "language": "python",
   "name": "python3"
  },
  "language_info": {
   "codemirror_mode": {
    "name": "ipython",
    "version": 3
   },
   "file_extension": ".py",
   "mimetype": "text/x-python",
   "name": "python",
   "nbconvert_exporter": "python",
   "pygments_lexer": "ipython3",
   "version": "3.6.7"
  }
 },
 "nbformat": 4,
 "nbformat_minor": 2
}
